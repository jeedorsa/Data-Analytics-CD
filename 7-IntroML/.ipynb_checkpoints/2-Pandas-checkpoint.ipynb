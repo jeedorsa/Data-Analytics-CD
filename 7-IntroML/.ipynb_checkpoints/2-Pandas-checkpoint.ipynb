{
 "cells": [
  {
   "cell_type": "markdown",
   "id": "ed8fa137",
   "metadata": {
    "slideshow": {
     "slide_type": "slide"
    }
   },
   "source": [
    "<br/>\n",
    "<img src=\"images/cd-logo-blue-600x600.png\" alt=\"\" width=\"130px\" align=\"left\"/>\n",
    "<img src=\"images/cd-logo-blue-600x600.png\" alt=\"\" width=\"130px\" align=\"right\"/>\n",
    "<div align=\"center\">\n",
    "<h2>Bootcamp Data Science - Módulo 1</h2><br/>\n",
    "<h1>Biblioteca Pandas</h1>\n",
    "<img src=\"images/pandas.svg\" width=\"200px\" align=\"center\" >\n",
    "<br/><br/>\n",
    "    <b>Instructor Principal:</b> Patricio Olivares polivares@codingdojo.cl <br/>\n",
    "    <b>Instructor Asistente:</b> Jesús Ortiz jortiz@codingdojo.cl<br/><br/>\n",
    "    <b>Coding Dojo</b>\n",
    "</div>"
   ]
  },
  {
   "cell_type": "markdown",
   "id": "125a4c10",
   "metadata": {
    "slideshow": {
     "slide_type": "slide"
    }
   },
   "source": [
    "# ¿Qué es Pandas?\n"
   ]
  },
  {
   "cell_type": "markdown",
   "id": "85d9d7da",
   "metadata": {
    "slideshow": {
     "slide_type": "fragment"
    }
   },
   "source": [
    "- **Pandas** es una herramienta open source (código abierto) rápida, poderosa, flexible y fácil de utilizar para análisis y manipulación de datos. \n",
    "- Construida sobre el lenguaje de programación **Python**\n",
    "- Al ser una biblioteca, esta debe ser **importada** en nuestro código para su utilización.\n",
    "-  Si está trabajando en su entorno local, previo a su importación debe ser **instalada** \n",
    "    - ```pip install pandas``` si usa ```pip```\n",
    "    - ```conda install pandas``` si usa ```conda```"
   ]
  },
  {
   "cell_type": "code",
   "execution_count": null,
   "id": "92f49b64",
   "metadata": {
    "slideshow": {
     "slide_type": "fragment"
    }
   },
   "outputs": [],
   "source": [
    "# Código para importar biblioteca pandas. \n",
    "# Antes de usar pandas se DEBE importar (sino lanzará error!!!!)\n",
    "import pandas as pd"
   ]
  },
  {
   "cell_type": "markdown",
   "id": "de31985b",
   "metadata": {
    "slideshow": {
     "slide_type": "slide"
    }
   },
   "source": [
    "# ¿Por qué Pandas?"
   ]
  },
  {
   "cell_type": "markdown",
   "id": "e714ecdd",
   "metadata": {
    "slideshow": {
     "slide_type": "fragment"
    }
   },
   "source": [
    "<center>\n",
    "<img src=\"images/pros-cons-pandas.jpg\" width=\"800px\" >\n",
    "</center>\n",
    "\n",
    "Fuente: https://data-flair.training/blogs/advantages-of-python-pandas/"
   ]
  },
  {
   "cell_type": "markdown",
   "id": "0b66f94e",
   "metadata": {
    "slideshow": {
     "slide_type": "slide"
    }
   },
   "source": [
    "# Estructuras de datos Pandas: Series "
   ]
  },
  {
   "cell_type": "markdown",
   "id": "53b122d5",
   "metadata": {
    "slideshow": {
     "slide_type": "fragment"
    }
   },
   "source": [
    "- Permite almacenar elementos en un arreglo **unidimensional**. Cada elemento puede esta asociado a un índice el cual puede o no ser definido\n",
    "- Sintáxis más común\n",
    "\n",
    "```python\n",
    "s = pd.Series(data, index=index)\n",
    "```\n",
    "donde ```data``` representa un conjunto unidimensional de elementos e ```index``` una lista del mismo largo de ```data``` que representa los índices\n",
    "- ```data``` puede ser tanto\n",
    "    - Diccionarios (llaves se transforman en índices y valores en datos)\n",
    "    - Arreglos n-dimensionales (listas, tuplas o numpy arrays)\n",
    "    - Valores escalares (ej. 5)\n",
    "\n",
    "Fuente: https://pandas.pydata.org/pandas-docs/stable/user_guide/dsintro.html"
   ]
  },
  {
   "cell_type": "code",
   "execution_count": null,
   "id": "4e64b2c7",
   "metadata": {
    "slideshow": {
     "slide_type": "fragment"
    }
   },
   "outputs": [],
   "source": [
    "# Ejemplo# Estructuras de datos Pandas: Series \n",
    "import pandas as pd\n",
    "\n",
    "x = pd.Series((1+5j,1,'a'))\n",
    "x"
   ]
  },
  {
   "cell_type": "markdown",
   "id": "10d70287",
   "metadata": {
    "slideshow": {
     "slide_type": "slide"
    }
   },
   "source": [
    "# Estructuras de datos Pandas: Dataframes"
   ]
  },
  {
   "cell_type": "markdown",
   "id": "0da1b9be",
   "metadata": {
    "slideshow": {
     "slide_type": "fragment"
    }
   },
   "source": [
    "- Es una estructura de datos **bi-dimensional**.\n",
    "- Es el objeto Pandas más común.\n",
    "- Utiliza una lógica de almacenamiento tipo **tabla**, similar a la de tablas SQL o la existente en hojas de cálculo (ej. MS. Excel, Libre Office, etc.).\n",
    "- Al igual que las series, también tiene índices asociados. Adicionalmente se le puedne pasar las etiquetas de las columnas\n",
    "- Sintáxis más común\n",
    "```python\n",
    "df = pd.DataFrame(data, index=index, columns=columns)\n",
    "```\n",
    "donde ```data``` representa un conjunto bidimensional de elementos e ```index``` y ```columns``` una lista del mismo largo de ```data``` que representa los índices y las etiquetas de las columnas respectivamente.\n",
    "- ```data``` puede ser tanto\n",
    "    - Diccionario de arreglos 1-dimensionales, listas, diccionarios o series\n",
    "    - Arreglos numpy de dos dimensiones\n",
    "    - Arreglos n-dimensionales\n",
    "    - Series\n",
    "    - Otros dataframe\n",
    "\n",
    "Fuente: https://pandas.pydata.org/pandas-docs/stable/user_guide/dsintro.html"
   ]
  },
  {
   "cell_type": "markdown",
   "id": "e7aca8de",
   "metadata": {
    "slideshow": {
     "slide_type": "slide"
    }
   },
   "source": [
    "# Anexo - Cargando datos en Google Colab"
   ]
  },
  {
   "cell_type": "markdown",
   "id": "a0c6bfd2",
   "metadata": {
    "slideshow": {
     "slide_type": "fragment"
    }
   },
   "source": [
    "- El uso de datos en Google Colab, requier subir esos datos a la nube de Google antes de poder utilizarlos (en caso de no encontrarse en línea) \n",
    "- http://learn.codingdojo.com/m/278/8776/59731"
   ]
  },
  {
   "cell_type": "markdown",
   "id": "b832010d",
   "metadata": {
    "slideshow": {
     "slide_type": "slide"
    }
   },
   "source": [
    "# Pandas para lectura de datos"
   ]
  },
  {
   "cell_type": "markdown",
   "id": "39ba9f06",
   "metadata": {
    "slideshow": {
     "slide_type": "fragment"
    }
   },
   "source": [
    "- Pandas permite una lectura sencilla con múltiples tipos de datos (Revisar: https://pandas.pydata.org/pandas-docs/stable/user_guide/io.html para distintos tipos de archivos).\n",
    "- Ejemplo"
   ]
  },
  {
   "cell_type": "code",
   "execution_count": null,
   "id": "f50267f1",
   "metadata": {
    "slideshow": {
     "slide_type": "fragment"
    }
   },
   "outputs": [],
   "source": [
    "filename = \"data/bostonHousing1978.xlsx\"\n",
    "# Para apertura de archivos excel, instalación de biblioteca openpyxl es necesaria en entorno local\n",
    "df = pd.read_excel(filename) \n",
    "df"
   ]
  },
  {
   "cell_type": "markdown",
   "id": "60ab9276",
   "metadata": {
    "slideshow": {
     "slide_type": "slide"
    }
   },
   "source": [
    "# Pandas: Operaciones básicas"
   ]
  },
  {
   "cell_type": "code",
   "execution_count": null,
   "id": "90c393e4",
   "metadata": {
    "slideshow": {
     "slide_type": "fragment"
    }
   },
   "outputs": [],
   "source": [
    "# Seleccione el número N superior de registros (default = 5)\n",
    "df.head()"
   ]
  },
  {
   "cell_type": "code",
   "execution_count": null,
   "id": "8aee21fa",
   "metadata": {
    "slideshow": {
     "slide_type": "fragment"
    }
   },
   "outputs": [],
   "source": [
    "# Seleccione el número N inferior de registros (default = 5)\n",
    "df.tail()"
   ]
  },
  {
   "cell_type": "code",
   "execution_count": null,
   "id": "f71fa1d3",
   "metadata": {
    "slideshow": {
     "slide_type": "fragment"
    }
   },
   "outputs": [],
   "source": [
    "# Verifica los tipos de datos de la columna usando el atributo dtypes\n",
    "df.dtypes"
   ]
  },
  {
   "cell_type": "code",
   "execution_count": null,
   "id": "a2885734",
   "metadata": {
    "slideshow": {
     "slide_type": "fragment"
    }
   },
   "outputs": [],
   "source": [
    "# Use el atributo shape para obtener el número de filas y columnas en tu marco de datos\n",
    "df.shape"
   ]
  },
  {
   "cell_type": "code",
   "execution_count": null,
   "id": "8856fa11",
   "metadata": {
    "slideshow": {
     "slide_type": "fragment"
    }
   },
   "outputs": [],
   "source": [
    "# El método info da a la columna tipos de datos + el número de valores no nulos\n",
    "# Ten esto en cuenta en caso de que alguna vez quieras verificar si hay valores perdidos\n",
    "df.info()"
   ]
  },
  {
   "cell_type": "markdown",
   "id": "5859ae0a",
   "metadata": {
    "slideshow": {
     "slide_type": "slide"
    }
   },
   "source": [
    "# Pandas: Rebanar (slice)"
   ]
  },
  {
   "cell_type": "code",
   "execution_count": null,
   "id": "12dfed5b",
   "metadata": {
    "slideshow": {
     "slide_type": "fragment"
    }
   },
   "outputs": [],
   "source": [
    "# Seleccionar una columna usando llaves dobles\n",
    "df[['RM']].head() # Esto es un DataFrame pandas"
   ]
  },
  {
   "cell_type": "code",
   "execution_count": null,
   "id": "b0ab5f6e",
   "metadata": {
    "slideshow": {
     "slide_type": "fragment"
    }
   },
   "outputs": [],
   "source": [
    "# Seleccionar múltiple columnas usando llaves dobles\n",
    "df[['RM', 'target']].head()"
   ]
  },
  {
   "cell_type": "code",
   "execution_count": null,
   "id": "180e7c24",
   "metadata": {
    "slideshow": {
     "slide_type": "fragment"
    }
   },
   "outputs": [],
   "source": [
    "# Selecciona una columna usando llaves simples\n",
    "# Esto produce una serie pandas que es una matriz de una dimensión de datos indexados\n",
    "df['RM'].head()"
   ]
  },
  {
   "cell_type": "code",
   "execution_count": null,
   "id": "530c1c62",
   "metadata": {
    "slideshow": {
     "slide_type": "fragment"
    }
   },
   "outputs": [],
   "source": [
    "# Ten en cuenta que no puedes seleccionar columnas múltiples usando llaves simples\n",
    "# Error de llave (KeyError)\n",
    "df['RM', 'target']"
   ]
  },
  {
   "cell_type": "code",
   "execution_count": null,
   "id": "bdb83d5a",
   "metadata": {
    "slideshow": {
     "slide_type": "fragment"
    }
   },
   "outputs": [],
   "source": [
    "df['RM'][0:10] # Obtención de un subconjunto de los datos (similar a listas)"
   ]
  },
  {
   "cell_type": "code",
   "execution_count": null,
   "id": "ddd67cbb",
   "metadata": {
    "slideshow": {
     "slide_type": "fragment"
    }
   },
   "outputs": [],
   "source": [
    "# Seleccionar columna usando notación de puntos\n",
    "# Esto no es recomendable\n",
    "df.RM.head()"
   ]
  },
  {
   "cell_type": "code",
   "execution_count": null,
   "id": "0a248c4b",
   "metadata": {
    "slideshow": {
     "slide_type": "subslide"
    }
   },
   "outputs": [],
   "source": [
    "# Notación con loc (locate). \n",
    "# df.loc[filas, columnas]\n",
    "df.loc[0:10, ['RM']]"
   ]
  },
  {
   "cell_type": "markdown",
   "id": "0c169cd5",
   "metadata": {
    "slideshow": {
     "slide_type": "slide"
    }
   },
   "source": [
    "# Pandas: filtrado"
   ]
  },
  {
   "cell_type": "code",
   "execution_count": 22,
   "id": "dcfd0de8",
   "metadata": {
    "slideshow": {
     "slide_type": "fragment"
    }
   },
   "outputs": [
    {
     "data": {
      "text/html": [
       "<div>\n",
       "<style scoped>\n",
       "    .dataframe tbody tr th:only-of-type {\n",
       "        vertical-align: middle;\n",
       "    }\n",
       "\n",
       "    .dataframe tbody tr th {\n",
       "        vertical-align: top;\n",
       "    }\n",
       "\n",
       "    .dataframe thead th {\n",
       "        text-align: right;\n",
       "    }\n",
       "</style>\n",
       "<table border=\"1\" class=\"dataframe\">\n",
       "  <thead>\n",
       "    <tr style=\"text-align: right;\">\n",
       "      <th></th>\n",
       "      <th>Month</th>\n",
       "      <th>Starting Balance</th>\n",
       "      <th>Repayment</th>\n",
       "      <th>Interest Paid</th>\n",
       "      <th>Principal Paid</th>\n",
       "      <th>New Balance</th>\n",
       "      <th>Mortgage Name</th>\n",
       "      <th>Interest Rate</th>\n",
       "    </tr>\n",
       "  </thead>\n",
       "  <tbody>\n",
       "    <tr>\n",
       "      <th>0</th>\n",
       "      <td>1</td>\n",
       "      <td>400000.00</td>\n",
       "      <td>1686.42</td>\n",
       "      <td>1000.00</td>\n",
       "      <td>686.42</td>\n",
       "      <td>399313.58</td>\n",
       "      <td>30 Year</td>\n",
       "      <td>0.03</td>\n",
       "    </tr>\n",
       "    <tr>\n",
       "      <th>1</th>\n",
       "      <td>2</td>\n",
       "      <td>399313.58</td>\n",
       "      <td>1686.42</td>\n",
       "      <td>998.28</td>\n",
       "      <td>688.14</td>\n",
       "      <td>398625.44</td>\n",
       "      <td>30 Year</td>\n",
       "      <td>0.03</td>\n",
       "    </tr>\n",
       "    <tr>\n",
       "      <th>2</th>\n",
       "      <td>3</td>\n",
       "      <td>398625.44</td>\n",
       "      <td>1686.42</td>\n",
       "      <td>996.56</td>\n",
       "      <td>689.86</td>\n",
       "      <td>397935.58</td>\n",
       "      <td>30 Year</td>\n",
       "      <td>0.03</td>\n",
       "    </tr>\n",
       "    <tr>\n",
       "      <th>3</th>\n",
       "      <td>4</td>\n",
       "      <td>397935.58</td>\n",
       "      <td>1686.42</td>\n",
       "      <td>994.83</td>\n",
       "      <td>691.59</td>\n",
       "      <td>397243.99</td>\n",
       "      <td>30 Year</td>\n",
       "      <td>0.03</td>\n",
       "    </tr>\n",
       "    <tr>\n",
       "      <th>4</th>\n",
       "      <td>5</td>\n",
       "      <td>397243.99</td>\n",
       "      <td>1686.42</td>\n",
       "      <td>993.10</td>\n",
       "      <td>693.32</td>\n",
       "      <td>396550.67</td>\n",
       "      <td>30 Year</td>\n",
       "      <td>0.03</td>\n",
       "    </tr>\n",
       "  </tbody>\n",
       "</table>\n",
       "</div>"
      ],
      "text/plain": [
       "   Month  Starting Balance  Repayment  Interest Paid  Principal Paid  \\\n",
       "0      1         400000.00    1686.42        1000.00          686.42   \n",
       "1      2         399313.58    1686.42         998.28          688.14   \n",
       "2      3         398625.44    1686.42         996.56          689.86   \n",
       "3      4         397935.58    1686.42         994.83          691.59   \n",
       "4      5         397243.99    1686.42         993.10          693.32   \n",
       "\n",
       "   New Balance Mortgage Name  Interest Rate  \n",
       "0    399313.58       30 Year           0.03  \n",
       "1    398625.44       30 Year           0.03  \n",
       "2    397935.58       30 Year           0.03  \n",
       "3    397243.99       30 Year           0.03  \n",
       "4    396550.67       30 Year           0.03  "
      ]
     },
     "execution_count": 22,
     "metadata": {},
     "output_type": "execute_result"
    }
   ],
   "source": [
    "filename = \"data/mortgages.csv\"\n",
    "df = pd.read_csv(filename)\n",
    "df.head()"
   ]
  },
  {
   "cell_type": "code",
   "execution_count": 23,
   "id": "35025e49",
   "metadata": {
    "slideshow": {
     "slide_type": "fragment"
    }
   },
   "outputs": [
    {
     "data": {
      "text/plain": [
       "30 Year    720\n",
       "15 Year    360\n",
       "Name: Mortgage Name, dtype: int64"
      ]
     },
     "execution_count": 23,
     "metadata": {},
     "output_type": "execute_result"
    }
   ],
   "source": [
    "# Comencemos primero mirando los valores contenidos en la columna Nombre de la hipoteca\n",
    "# Además, te animo a buscar qué hace el método value_counts usando la función de ayuda de Python\n",
    "df['Mortgage Name'].value_counts()"
   ]
  },
  {
   "cell_type": "code",
   "execution_count": 24,
   "id": "04c7908a",
   "metadata": {},
   "outputs": [
    {
     "data": {
      "text/plain": [
       "0    True\n",
       "1    True\n",
       "2    True\n",
       "3    True\n",
       "4    True\n",
       "Name: Mortgage Name, dtype: bool"
      ]
     },
     "execution_count": 24,
     "metadata": {},
     "output_type": "execute_result"
    }
   ],
   "source": [
    "# Observa que el filtro produce una serie de pandas de valores verdaderos y falsos.\n",
    "mortgage_filter = df['Mortgage Name']=='30 Year'\n",
    "mortgage_filter.head()"
   ]
  },
  {
   "cell_type": "code",
   "execution_count": null,
   "id": "7ecfa215",
   "metadata": {
    "slideshow": {
     "slide_type": "fragment"
    }
   },
   "outputs": [],
   "source": [
    "# Método 1 con corchetes\n",
    "# Filtra el marco de datos para obtener un marco de datos de solo '30 años '\n",
    "df[mortgage_filter].head()"
   ]
  },
  {
   "cell_type": "code",
   "execution_count": null,
   "id": "c8efa704",
   "metadata": {
    "slideshow": {
     "slide_type": "fragment"
    }
   },
   "outputs": [],
   "source": [
    "# Aproximación 2 usando loc\n",
    "# Filtre el marco de datos para obtener un marco de datos de hipotecas de solo 30 años\n",
    "df.loc[mortgage_filter, :].head()"
   ]
  },
  {
   "cell_type": "code",
   "execution_count": null,
   "id": "0d32a9fe",
   "metadata": {
    "slideshow": {
     "slide_type": "fragment"
    }
   },
   "outputs": [],
   "source": [
    "# Observa que pareciera que nada ha cambiado.\n",
    "# Esto se debe a que no actualizamos el marco de datos después de aplicar el filtro.\n",
    "# La salida anterior es local; ya no podemos usarla ya que en realidad no cambiamos/actualizamos el marco de datos\n",
    "# Necesitaríamos guardar el código anterior como una variable para usar el marco de datos filtrado en futuras celdas\n",
    "# de código\n",
    "df['Mortgage Name'].value_counts()"
   ]
  },
  {
   "cell_type": "code",
   "execution_count": 26,
   "id": "054d808a",
   "metadata": {
    "slideshow": {
     "slide_type": "fragment"
    }
   },
   "outputs": [
    {
     "data": {
      "text/plain": [
       "30 Year    720\n",
       "Name: Mortgage Name, dtype: int64"
      ]
     },
     "execution_count": 26,
     "metadata": {},
     "output_type": "execute_result"
    }
   ],
   "source": [
    "# Filtra el marco de datos para obtener un marco de datos de hipotecas de solo 30 años\n",
    "# Ten en cuenta que estamos sobrescribiendo df aquí para guardar solo los datos de la hipoteca a 30 años\n",
    "# Y ahora, solo hay hipotecas a 30 años en la salida cuando ejecutamos .value_counts()\n",
    "df = df.loc[mortgage_filter, :]\n",
    "df['Mortgage Name'].value_counts()"
   ]
  },
  {
   "cell_type": "code",
   "execution_count": 27,
   "id": "bdd11237",
   "metadata": {
    "slideshow": {
     "slide_type": "fragment"
    }
   },
   "outputs": [
    {
     "data": {
      "text/plain": [
       "0.03    360\n",
       "0.05    360\n",
       "Name: Interest Rate, dtype: int64"
      ]
     },
     "execution_count": 27,
     "metadata": {},
     "output_type": "execute_result"
    }
   ],
   "source": [
    "# Filtro por tasa de interés\n",
    "# Ve si puedes averiguar qué hace el método de recuento de valores utilizando la función de ayuda\n",
    "df['Interest Rate'].value_counts()"
   ]
  },
  {
   "cell_type": "code",
   "execution_count": 28,
   "id": "56c8bcd7",
   "metadata": {
    "slideshow": {
     "slide_type": "fragment"
    }
   },
   "outputs": [
    {
     "data": {
      "text/plain": [
       "0       True\n",
       "1       True\n",
       "2       True\n",
       "3       True\n",
       "4       True\n",
       "       ...  \n",
       "715    False\n",
       "716    False\n",
       "717    False\n",
       "718    False\n",
       "719    False\n",
       "Name: Interest Rate, Length: 720, dtype: bool"
      ]
     },
     "execution_count": 28,
     "metadata": {},
     "output_type": "execute_result"
    }
   ],
   "source": [
    "# Observa que el filtro produce una serie de pandas de valores verdaderos y falsos.\n",
    "df['Interest Rate']==0.03"
   ]
  },
  {
   "cell_type": "code",
   "execution_count": 33,
   "id": "75441860",
   "metadata": {
    "slideshow": {
     "slide_type": "fragment"
    }
   },
   "outputs": [
    {
     "data": {
      "text/plain": [
       "0.03    360\n",
       "Name: Interest Rate, dtype: int64"
      ]
     },
     "execution_count": 33,
     "metadata": {},
     "output_type": "execute_result"
    }
   ],
   "source": [
    "interest_filter = df['Interest Rate']==0.03\n",
    "df = df.loc[interest_filter, :]\n",
    "df['Interest Rate'].value_counts()"
   ]
  },
  {
   "cell_type": "code",
   "execution_count": 34,
   "id": "6a9e022c",
   "metadata": {
    "slideshow": {
     "slide_type": "fragment"
    }
   },
   "outputs": [
    {
     "data": {
      "text/html": [
       "<div>\n",
       "<style scoped>\n",
       "    .dataframe tbody tr th:only-of-type {\n",
       "        vertical-align: middle;\n",
       "    }\n",
       "\n",
       "    .dataframe tbody tr th {\n",
       "        vertical-align: top;\n",
       "    }\n",
       "\n",
       "    .dataframe thead th {\n",
       "        text-align: right;\n",
       "    }\n",
       "</style>\n",
       "<table border=\"1\" class=\"dataframe\">\n",
       "  <thead>\n",
       "    <tr style=\"text-align: right;\">\n",
       "      <th></th>\n",
       "      <th>Month</th>\n",
       "      <th>Starting Balance</th>\n",
       "      <th>Repayment</th>\n",
       "      <th>Interest Paid</th>\n",
       "      <th>Principal Paid</th>\n",
       "      <th>New Balance</th>\n",
       "      <th>Mortgage Name</th>\n",
       "      <th>Interest Rate</th>\n",
       "    </tr>\n",
       "  </thead>\n",
       "  <tbody>\n",
       "    <tr>\n",
       "      <th>0</th>\n",
       "      <td>1</td>\n",
       "      <td>400000.00</td>\n",
       "      <td>1686.42</td>\n",
       "      <td>1000.00</td>\n",
       "      <td>686.42</td>\n",
       "      <td>399313.58</td>\n",
       "      <td>30 Year</td>\n",
       "      <td>0.03</td>\n",
       "    </tr>\n",
       "    <tr>\n",
       "      <th>1</th>\n",
       "      <td>2</td>\n",
       "      <td>399313.58</td>\n",
       "      <td>1686.42</td>\n",
       "      <td>998.28</td>\n",
       "      <td>688.14</td>\n",
       "      <td>398625.44</td>\n",
       "      <td>30 Year</td>\n",
       "      <td>0.03</td>\n",
       "    </tr>\n",
       "    <tr>\n",
       "      <th>2</th>\n",
       "      <td>3</td>\n",
       "      <td>398625.44</td>\n",
       "      <td>1686.42</td>\n",
       "      <td>996.56</td>\n",
       "      <td>689.86</td>\n",
       "      <td>397935.58</td>\n",
       "      <td>30 Year</td>\n",
       "      <td>0.03</td>\n",
       "    </tr>\n",
       "    <tr>\n",
       "      <th>3</th>\n",
       "      <td>4</td>\n",
       "      <td>397935.58</td>\n",
       "      <td>1686.42</td>\n",
       "      <td>994.83</td>\n",
       "      <td>691.59</td>\n",
       "      <td>397243.99</td>\n",
       "      <td>30 Year</td>\n",
       "      <td>0.03</td>\n",
       "    </tr>\n",
       "    <tr>\n",
       "      <th>4</th>\n",
       "      <td>5</td>\n",
       "      <td>397243.99</td>\n",
       "      <td>1686.42</td>\n",
       "      <td>993.10</td>\n",
       "      <td>693.32</td>\n",
       "      <td>396550.67</td>\n",
       "      <td>30 Year</td>\n",
       "      <td>0.03</td>\n",
       "    </tr>\n",
       "    <tr>\n",
       "      <th>...</th>\n",
       "      <td>...</td>\n",
       "      <td>...</td>\n",
       "      <td>...</td>\n",
       "      <td>...</td>\n",
       "      <td>...</td>\n",
       "      <td>...</td>\n",
       "      <td>...</td>\n",
       "      <td>...</td>\n",
       "    </tr>\n",
       "    <tr>\n",
       "      <th>355</th>\n",
       "      <td>356</td>\n",
       "      <td>8364.12</td>\n",
       "      <td>1686.42</td>\n",
       "      <td>20.91</td>\n",
       "      <td>1665.51</td>\n",
       "      <td>6698.61</td>\n",
       "      <td>30 Year</td>\n",
       "      <td>0.03</td>\n",
       "    </tr>\n",
       "    <tr>\n",
       "      <th>356</th>\n",
       "      <td>357</td>\n",
       "      <td>6698.61</td>\n",
       "      <td>1686.42</td>\n",
       "      <td>16.74</td>\n",
       "      <td>1669.68</td>\n",
       "      <td>5028.93</td>\n",
       "      <td>30 Year</td>\n",
       "      <td>0.03</td>\n",
       "    </tr>\n",
       "    <tr>\n",
       "      <th>357</th>\n",
       "      <td>358</td>\n",
       "      <td>5028.93</td>\n",
       "      <td>1686.42</td>\n",
       "      <td>12.57</td>\n",
       "      <td>1673.85</td>\n",
       "      <td>3355.08</td>\n",
       "      <td>30 Year</td>\n",
       "      <td>0.03</td>\n",
       "    </tr>\n",
       "    <tr>\n",
       "      <th>358</th>\n",
       "      <td>359</td>\n",
       "      <td>3355.08</td>\n",
       "      <td>1686.42</td>\n",
       "      <td>8.38</td>\n",
       "      <td>1678.04</td>\n",
       "      <td>1677.04</td>\n",
       "      <td>30 Year</td>\n",
       "      <td>0.03</td>\n",
       "    </tr>\n",
       "    <tr>\n",
       "      <th>359</th>\n",
       "      <td>360</td>\n",
       "      <td>1677.04</td>\n",
       "      <td>1686.42</td>\n",
       "      <td>4.19</td>\n",
       "      <td>1682.23</td>\n",
       "      <td>-5.19</td>\n",
       "      <td>30 Year</td>\n",
       "      <td>0.03</td>\n",
       "    </tr>\n",
       "  </tbody>\n",
       "</table>\n",
       "<p>360 rows × 8 columns</p>\n",
       "</div>"
      ],
      "text/plain": [
       "     Month  Starting Balance  Repayment  Interest Paid  Principal Paid  \\\n",
       "0        1         400000.00    1686.42        1000.00          686.42   \n",
       "1        2         399313.58    1686.42         998.28          688.14   \n",
       "2        3         398625.44    1686.42         996.56          689.86   \n",
       "3        4         397935.58    1686.42         994.83          691.59   \n",
       "4        5         397243.99    1686.42         993.10          693.32   \n",
       "..     ...               ...        ...            ...             ...   \n",
       "355    356           8364.12    1686.42          20.91         1665.51   \n",
       "356    357           6698.61    1686.42          16.74         1669.68   \n",
       "357    358           5028.93    1686.42          12.57         1673.85   \n",
       "358    359           3355.08    1686.42           8.38         1678.04   \n",
       "359    360           1677.04    1686.42           4.19         1682.23   \n",
       "\n",
       "     New Balance Mortgage Name  Interest Rate  \n",
       "0      399313.58       30 Year           0.03  \n",
       "1      398625.44       30 Year           0.03  \n",
       "2      397935.58       30 Year           0.03  \n",
       "3      397243.99       30 Year           0.03  \n",
       "4      396550.67       30 Year           0.03  \n",
       "..           ...           ...            ...  \n",
       "355      6698.61       30 Year           0.03  \n",
       "356      5028.93       30 Year           0.03  \n",
       "357      3355.08       30 Year           0.03  \n",
       "358      1677.04       30 Year           0.03  \n",
       "359        -5.19       30 Year           0.03  \n",
       "\n",
       "[360 rows x 8 columns]"
      ]
     },
     "execution_count": 34,
     "metadata": {},
     "output_type": "execute_result"
    }
   ],
   "source": [
    "df = df.loc[mortgage_filter & interest_filter, :]\n",
    "df  "
   ]
  },
  {
   "cell_type": "markdown",
   "id": "b72855ac",
   "metadata": {
    "slideshow": {
     "slide_type": "slide"
    }
   },
   "source": [
    "# Pandas: Renombrar y eliminar columnas"
   ]
  },
  {
   "cell_type": "code",
   "execution_count": 35,
   "id": "0bd5e461",
   "metadata": {},
   "outputs": [
    {
     "data": {
      "text/html": [
       "<div>\n",
       "<style scoped>\n",
       "    .dataframe tbody tr th:only-of-type {\n",
       "        vertical-align: middle;\n",
       "    }\n",
       "\n",
       "    .dataframe tbody tr th {\n",
       "        vertical-align: top;\n",
       "    }\n",
       "\n",
       "    .dataframe thead th {\n",
       "        text-align: right;\n",
       "    }\n",
       "</style>\n",
       "<table border=\"1\" class=\"dataframe\">\n",
       "  <thead>\n",
       "    <tr style=\"text-align: right;\">\n",
       "      <th></th>\n",
       "      <th>Month</th>\n",
       "      <th>starting_balance</th>\n",
       "      <th>Repayment</th>\n",
       "      <th>interest_paid</th>\n",
       "      <th>principal_paid</th>\n",
       "      <th>New Balance</th>\n",
       "      <th>Mortgage Name</th>\n",
       "      <th>Interest Rate</th>\n",
       "    </tr>\n",
       "  </thead>\n",
       "  <tbody>\n",
       "    <tr>\n",
       "      <th>0</th>\n",
       "      <td>1</td>\n",
       "      <td>400000.00</td>\n",
       "      <td>1686.42</td>\n",
       "      <td>1000.00</td>\n",
       "      <td>686.42</td>\n",
       "      <td>399313.58</td>\n",
       "      <td>30 Year</td>\n",
       "      <td>0.03</td>\n",
       "    </tr>\n",
       "    <tr>\n",
       "      <th>1</th>\n",
       "      <td>2</td>\n",
       "      <td>399313.58</td>\n",
       "      <td>1686.42</td>\n",
       "      <td>998.28</td>\n",
       "      <td>688.14</td>\n",
       "      <td>398625.44</td>\n",
       "      <td>30 Year</td>\n",
       "      <td>0.03</td>\n",
       "    </tr>\n",
       "    <tr>\n",
       "      <th>2</th>\n",
       "      <td>3</td>\n",
       "      <td>398625.44</td>\n",
       "      <td>1686.42</td>\n",
       "      <td>996.56</td>\n",
       "      <td>689.86</td>\n",
       "      <td>397935.58</td>\n",
       "      <td>30 Year</td>\n",
       "      <td>0.03</td>\n",
       "    </tr>\n",
       "    <tr>\n",
       "      <th>3</th>\n",
       "      <td>4</td>\n",
       "      <td>397935.58</td>\n",
       "      <td>1686.42</td>\n",
       "      <td>994.83</td>\n",
       "      <td>691.59</td>\n",
       "      <td>397243.99</td>\n",
       "      <td>30 Year</td>\n",
       "      <td>0.03</td>\n",
       "    </tr>\n",
       "    <tr>\n",
       "      <th>4</th>\n",
       "      <td>5</td>\n",
       "      <td>397243.99</td>\n",
       "      <td>1686.42</td>\n",
       "      <td>993.10</td>\n",
       "      <td>693.32</td>\n",
       "      <td>396550.67</td>\n",
       "      <td>30 Year</td>\n",
       "      <td>0.03</td>\n",
       "    </tr>\n",
       "  </tbody>\n",
       "</table>\n",
       "</div>"
      ],
      "text/plain": [
       "   Month  starting_balance  Repayment  interest_paid  principal_paid  \\\n",
       "0      1         400000.00    1686.42        1000.00          686.42   \n",
       "1      2         399313.58    1686.42         998.28          688.14   \n",
       "2      3         398625.44    1686.42         996.56          689.86   \n",
       "3      4         397935.58    1686.42         994.83          691.59   \n",
       "4      5         397243.99    1686.42         993.10          693.32   \n",
       "\n",
       "   New Balance Mortgage Name  Interest Rate  \n",
       "0    399313.58       30 Year           0.03  \n",
       "1    398625.44       30 Year           0.03  \n",
       "2    397935.58       30 Year           0.03  \n",
       "3    397243.99       30 Year           0.03  \n",
       "4    396550.67       30 Year           0.03  "
      ]
     },
     "execution_count": 35,
     "metadata": {},
     "output_type": "execute_result"
    }
   ],
   "source": [
    "# Enfoque 1 sustitución de diccionario mediante el método de cambio de nombre\n",
    "df = df.rename(columns={'Starting Balance': 'starting_balance',\n",
    "                        'Interest Paid': 'interest_paid', \n",
    "                        'Principal Paid': 'principal_paid'})\n",
    "# DataFrame after renaming columns\n",
    "df.head()"
   ]
  },
  {
   "cell_type": "code",
   "execution_count": 36,
   "id": "df3f241c",
   "metadata": {
    "slideshow": {
     "slide_type": "fragment"
    }
   },
   "outputs": [
    {
     "data": {
      "text/html": [
       "<div>\n",
       "<style scoped>\n",
       "    .dataframe tbody tr th:only-of-type {\n",
       "        vertical-align: middle;\n",
       "    }\n",
       "\n",
       "    .dataframe tbody tr th {\n",
       "        vertical-align: top;\n",
       "    }\n",
       "\n",
       "    .dataframe thead th {\n",
       "        text-align: right;\n",
       "    }\n",
       "</style>\n",
       "<table border=\"1\" class=\"dataframe\">\n",
       "  <thead>\n",
       "    <tr style=\"text-align: right;\">\n",
       "      <th></th>\n",
       "      <th>month</th>\n",
       "      <th>starting_balance</th>\n",
       "      <th>repayment</th>\n",
       "      <th>interest_paid</th>\n",
       "      <th>principal_paid</th>\n",
       "      <th>new_balance</th>\n",
       "      <th>mortgage_name</th>\n",
       "      <th>interest_rate</th>\n",
       "    </tr>\n",
       "  </thead>\n",
       "  <tbody>\n",
       "    <tr>\n",
       "      <th>0</th>\n",
       "      <td>1</td>\n",
       "      <td>400000.00</td>\n",
       "      <td>1686.42</td>\n",
       "      <td>1000.00</td>\n",
       "      <td>686.42</td>\n",
       "      <td>399313.58</td>\n",
       "      <td>30 Year</td>\n",
       "      <td>0.03</td>\n",
       "    </tr>\n",
       "    <tr>\n",
       "      <th>1</th>\n",
       "      <td>2</td>\n",
       "      <td>399313.58</td>\n",
       "      <td>1686.42</td>\n",
       "      <td>998.28</td>\n",
       "      <td>688.14</td>\n",
       "      <td>398625.44</td>\n",
       "      <td>30 Year</td>\n",
       "      <td>0.03</td>\n",
       "    </tr>\n",
       "    <tr>\n",
       "      <th>2</th>\n",
       "      <td>3</td>\n",
       "      <td>398625.44</td>\n",
       "      <td>1686.42</td>\n",
       "      <td>996.56</td>\n",
       "      <td>689.86</td>\n",
       "      <td>397935.58</td>\n",
       "      <td>30 Year</td>\n",
       "      <td>0.03</td>\n",
       "    </tr>\n",
       "    <tr>\n",
       "      <th>3</th>\n",
       "      <td>4</td>\n",
       "      <td>397935.58</td>\n",
       "      <td>1686.42</td>\n",
       "      <td>994.83</td>\n",
       "      <td>691.59</td>\n",
       "      <td>397243.99</td>\n",
       "      <td>30 Year</td>\n",
       "      <td>0.03</td>\n",
       "    </tr>\n",
       "    <tr>\n",
       "      <th>4</th>\n",
       "      <td>5</td>\n",
       "      <td>397243.99</td>\n",
       "      <td>1686.42</td>\n",
       "      <td>993.10</td>\n",
       "      <td>693.32</td>\n",
       "      <td>396550.67</td>\n",
       "      <td>30 Year</td>\n",
       "      <td>0.03</td>\n",
       "    </tr>\n",
       "  </tbody>\n",
       "</table>\n",
       "</div>"
      ],
      "text/plain": [
       "   month  starting_balance  repayment  interest_paid  principal_paid  \\\n",
       "0      1         400000.00    1686.42        1000.00          686.42   \n",
       "1      2         399313.58    1686.42         998.28          688.14   \n",
       "2      3         398625.44    1686.42         996.56          689.86   \n",
       "3      4         397935.58    1686.42         994.83          691.59   \n",
       "4      5         397243.99    1686.42         993.10          693.32   \n",
       "\n",
       "   new_balance mortgage_name  interest_rate  \n",
       "0    399313.58       30 Year           0.03  \n",
       "1    398625.44       30 Year           0.03  \n",
       "2    397935.58       30 Year           0.03  \n",
       "3    397243.99       30 Year           0.03  \n",
       "4    396550.67       30 Year           0.03  "
      ]
     },
     "execution_count": 36,
     "metadata": {},
     "output_type": "execute_result"
    }
   ],
   "source": [
    "# Enfoque 2\n",
    "# Incluso si quieres cambiar el nombre de una sola columna, debes enumerar el resto de las columnas\n",
    "df.columns = ['month',\n",
    "              'starting_balance',\n",
    "              'repayment',\n",
    "              'interest_paid',\n",
    "              'principal_paid',\n",
    "              'new_balance',\n",
    "              'mortgage_name',\n",
    "              'interest_rate']\n",
    "df.head()"
   ]
  },
  {
   "cell_type": "code",
   "execution_count": 37,
   "id": "e491c546",
   "metadata": {
    "slideshow": {
     "slide_type": "fragment"
    }
   },
   "outputs": [
    {
     "data": {
      "text/html": [
       "<div>\n",
       "<style scoped>\n",
       "    .dataframe tbody tr th:only-of-type {\n",
       "        vertical-align: middle;\n",
       "    }\n",
       "\n",
       "    .dataframe tbody tr th {\n",
       "        vertical-align: top;\n",
       "    }\n",
       "\n",
       "    .dataframe thead th {\n",
       "        text-align: right;\n",
       "    }\n",
       "</style>\n",
       "<table border=\"1\" class=\"dataframe\">\n",
       "  <thead>\n",
       "    <tr style=\"text-align: right;\">\n",
       "      <th></th>\n",
       "      <th>month</th>\n",
       "      <th>starting_balance</th>\n",
       "      <th>repayment</th>\n",
       "      <th>interest_paid</th>\n",
       "      <th>principal_paid</th>\n",
       "      <th>mortgage_name</th>\n",
       "      <th>interest_rate</th>\n",
       "    </tr>\n",
       "  </thead>\n",
       "  <tbody>\n",
       "    <tr>\n",
       "      <th>0</th>\n",
       "      <td>1</td>\n",
       "      <td>400000.00</td>\n",
       "      <td>1686.42</td>\n",
       "      <td>1000.00</td>\n",
       "      <td>686.42</td>\n",
       "      <td>30 Year</td>\n",
       "      <td>0.03</td>\n",
       "    </tr>\n",
       "    <tr>\n",
       "      <th>1</th>\n",
       "      <td>2</td>\n",
       "      <td>399313.58</td>\n",
       "      <td>1686.42</td>\n",
       "      <td>998.28</td>\n",
       "      <td>688.14</td>\n",
       "      <td>30 Year</td>\n",
       "      <td>0.03</td>\n",
       "    </tr>\n",
       "    <tr>\n",
       "      <th>2</th>\n",
       "      <td>3</td>\n",
       "      <td>398625.44</td>\n",
       "      <td>1686.42</td>\n",
       "      <td>996.56</td>\n",
       "      <td>689.86</td>\n",
       "      <td>30 Year</td>\n",
       "      <td>0.03</td>\n",
       "    </tr>\n",
       "    <tr>\n",
       "      <th>3</th>\n",
       "      <td>4</td>\n",
       "      <td>397935.58</td>\n",
       "      <td>1686.42</td>\n",
       "      <td>994.83</td>\n",
       "      <td>691.59</td>\n",
       "      <td>30 Year</td>\n",
       "      <td>0.03</td>\n",
       "    </tr>\n",
       "    <tr>\n",
       "      <th>4</th>\n",
       "      <td>5</td>\n",
       "      <td>397243.99</td>\n",
       "      <td>1686.42</td>\n",
       "      <td>993.10</td>\n",
       "      <td>693.32</td>\n",
       "      <td>30 Year</td>\n",
       "      <td>0.03</td>\n",
       "    </tr>\n",
       "  </tbody>\n",
       "</table>\n",
       "</div>"
      ],
      "text/plain": [
       "   month  starting_balance  repayment  interest_paid  principal_paid  \\\n",
       "0      1         400000.00    1686.42        1000.00          686.42   \n",
       "1      2         399313.58    1686.42         998.28          688.14   \n",
       "2      3         398625.44    1686.42         996.56          689.86   \n",
       "3      4         397935.58    1686.42         994.83          691.59   \n",
       "4      5         397243.99    1686.42         993.10          693.32   \n",
       "\n",
       "  mortgage_name  interest_rate  \n",
       "0       30 Year           0.03  \n",
       "1       30 Year           0.03  \n",
       "2       30 Year           0.03  \n",
       "3       30 Year           0.03  \n",
       "4       30 Year           0.03  "
      ]
     },
     "execution_count": 37,
     "metadata": {},
     "output_type": "execute_result"
    }
   ],
   "source": [
    "# Enfoque 1\n",
    "df = df.drop(columns=['new_balance'])\n",
    "df.head()"
   ]
  },
  {
   "cell_type": "code",
   "execution_count": 38,
   "id": "35e0ce4f",
   "metadata": {
    "slideshow": {
     "slide_type": "fragment"
    }
   },
   "outputs": [
    {
     "data": {
      "text/html": [
       "<div>\n",
       "<style scoped>\n",
       "    .dataframe tbody tr th:only-of-type {\n",
       "        vertical-align: middle;\n",
       "    }\n",
       "\n",
       "    .dataframe tbody tr th {\n",
       "        vertical-align: top;\n",
       "    }\n",
       "\n",
       "    .dataframe thead th {\n",
       "        text-align: right;\n",
       "    }\n",
       "</style>\n",
       "<table border=\"1\" class=\"dataframe\">\n",
       "  <thead>\n",
       "    <tr style=\"text-align: right;\">\n",
       "      <th></th>\n",
       "      <th>month</th>\n",
       "      <th>repayment</th>\n",
       "      <th>interest_paid</th>\n",
       "      <th>principal_paid</th>\n",
       "      <th>mortgage_name</th>\n",
       "      <th>interest_rate</th>\n",
       "    </tr>\n",
       "  </thead>\n",
       "  <tbody>\n",
       "    <tr>\n",
       "      <th>0</th>\n",
       "      <td>1</td>\n",
       "      <td>1686.42</td>\n",
       "      <td>1000.00</td>\n",
       "      <td>686.42</td>\n",
       "      <td>30 Year</td>\n",
       "      <td>0.03</td>\n",
       "    </tr>\n",
       "    <tr>\n",
       "      <th>1</th>\n",
       "      <td>2</td>\n",
       "      <td>1686.42</td>\n",
       "      <td>998.28</td>\n",
       "      <td>688.14</td>\n",
       "      <td>30 Year</td>\n",
       "      <td>0.03</td>\n",
       "    </tr>\n",
       "    <tr>\n",
       "      <th>2</th>\n",
       "      <td>3</td>\n",
       "      <td>1686.42</td>\n",
       "      <td>996.56</td>\n",
       "      <td>689.86</td>\n",
       "      <td>30 Year</td>\n",
       "      <td>0.03</td>\n",
       "    </tr>\n",
       "    <tr>\n",
       "      <th>3</th>\n",
       "      <td>4</td>\n",
       "      <td>1686.42</td>\n",
       "      <td>994.83</td>\n",
       "      <td>691.59</td>\n",
       "      <td>30 Year</td>\n",
       "      <td>0.03</td>\n",
       "    </tr>\n",
       "    <tr>\n",
       "      <th>4</th>\n",
       "      <td>5</td>\n",
       "      <td>1686.42</td>\n",
       "      <td>993.10</td>\n",
       "      <td>693.32</td>\n",
       "      <td>30 Year</td>\n",
       "      <td>0.03</td>\n",
       "    </tr>\n",
       "  </tbody>\n",
       "</table>\n",
       "</div>"
      ],
      "text/plain": [
       "   month  repayment  interest_paid  principal_paid mortgage_name  \\\n",
       "0      1    1686.42        1000.00          686.42       30 Year   \n",
       "1      2    1686.42         998.28          688.14       30 Year   \n",
       "2      3    1686.42         996.56          689.86       30 Year   \n",
       "3      4    1686.42         994.83          691.59       30 Year   \n",
       "4      5    1686.42         993.10          693.32       30 Year   \n",
       "\n",
       "   interest_rate  \n",
       "0           0.03  \n",
       "1           0.03  \n",
       "2           0.03  \n",
       "3           0.03  \n",
       "4           0.03  "
      ]
     },
     "execution_count": 38,
     "metadata": {},
     "output_type": "execute_result"
    }
   ],
   "source": [
    "# Enfoque 2 usa el comando del\n",
    "del df['starting_balance']\n",
    "df.head()"
   ]
  },
  {
   "cell_type": "markdown",
   "id": "0f5f1372",
   "metadata": {
    "slideshow": {
     "slide_type": "slide"
    }
   },
   "source": [
    "# Pandas: Identificar datos faltantes"
   ]
  },
  {
   "cell_type": "code",
   "execution_count": 41,
   "id": "06147596",
   "metadata": {
    "slideshow": {
     "slide_type": "fragment"
    }
   },
   "outputs": [
    {
     "data": {
      "text/html": [
       "<div>\n",
       "<style scoped>\n",
       "    .dataframe tbody tr th:only-of-type {\n",
       "        vertical-align: middle;\n",
       "    }\n",
       "\n",
       "    .dataframe tbody tr th {\n",
       "        vertical-align: top;\n",
       "    }\n",
       "\n",
       "    .dataframe thead th {\n",
       "        text-align: right;\n",
       "    }\n",
       "</style>\n",
       "<table border=\"1\" class=\"dataframe\">\n",
       "  <thead>\n",
       "    <tr style=\"text-align: right;\">\n",
       "      <th></th>\n",
       "      <th>x</th>\n",
       "      <th>y</th>\n",
       "    </tr>\n",
       "  </thead>\n",
       "  <tbody>\n",
       "    <tr>\n",
       "      <th>0</th>\n",
       "      <td>0.000000</td>\n",
       "      <td>-51.000000</td>\n",
       "    </tr>\n",
       "    <tr>\n",
       "      <th>1</th>\n",
       "      <td>25.000000</td>\n",
       "      <td>-12.000000</td>\n",
       "    </tr>\n",
       "    <tr>\n",
       "      <th>2</th>\n",
       "      <td>117.583220</td>\n",
       "      <td>134.907414</td>\n",
       "    </tr>\n",
       "    <tr>\n",
       "      <th>3</th>\n",
       "      <td>108.922466</td>\n",
       "      <td>134.085180</td>\n",
       "    </tr>\n",
       "    <tr>\n",
       "      <th>4</th>\n",
       "      <td>69.887445</td>\n",
       "      <td>NaN</td>\n",
       "    </tr>\n",
       "  </tbody>\n",
       "</table>\n",
       "</div>"
      ],
      "text/plain": [
       "            x           y\n",
       "0    0.000000  -51.000000\n",
       "1   25.000000  -12.000000\n",
       "2  117.583220  134.907414\n",
       "3  108.922466  134.085180\n",
       "4   69.887445         NaN"
      ]
     },
     "execution_count": 41,
     "metadata": {},
     "output_type": "execute_result"
    }
   ],
   "source": [
    "filename = 'data/linear.csv'\n",
    "df = pd.read_csv(filename)\n",
    "df.head()"
   ]
  },
  {
   "cell_type": "code",
   "execution_count": 50,
   "id": "d6fcc788",
   "metadata": {
    "slideshow": {
     "slide_type": "fragment"
    }
   },
   "outputs": [
    {
     "name": "stdout",
     "output_type": "stream",
     "text": [
      "<class 'pandas.core.frame.DataFrame'>\n",
      "RangeIndex: 102 entries, 0 to 101\n",
      "Data columns (total 2 columns):\n",
      " #   Column  Non-Null Count  Dtype  \n",
      "---  ------  --------------  -----  \n",
      " 0   x       102 non-null    float64\n",
      " 1   y       94 non-null     float64\n",
      "dtypes: float64(2)\n",
      "memory usage: 1.7 KB\n"
     ]
    }
   ],
   "source": [
    "# Hay datos faltantes en la segunda columna (columna 'y')\n",
    "df.info()"
   ]
  },
  {
   "cell_type": "code",
   "execution_count": 43,
   "id": "08587bbf",
   "metadata": {
    "slideshow": {
     "slide_type": "fragment"
    }
   },
   "outputs": [
    {
     "data": {
      "text/plain": [
       "0    False\n",
       "1    False\n",
       "2    False\n",
       "3    False\n",
       "4     True\n",
       "Name: y, dtype: bool"
      ]
     },
     "execution_count": 43,
     "metadata": {},
     "output_type": "execute_result"
    }
   ],
   "source": [
    "# Observa que tenemos una serie pandas de valores verdaderos y falsos.\n",
    "df['y'].isna().head()"
   ]
  },
  {
   "cell_type": "code",
   "execution_count": 44,
   "id": "d0bd44ab",
   "metadata": {
    "slideshow": {
     "slide_type": "fragment"
    }
   },
   "outputs": [
    {
     "data": {
      "text/html": [
       "<div>\n",
       "<style scoped>\n",
       "    .dataframe tbody tr th:only-of-type {\n",
       "        vertical-align: middle;\n",
       "    }\n",
       "\n",
       "    .dataframe tbody tr th {\n",
       "        vertical-align: top;\n",
       "    }\n",
       "\n",
       "    .dataframe thead th {\n",
       "        text-align: right;\n",
       "    }\n",
       "</style>\n",
       "<table border=\"1\" class=\"dataframe\">\n",
       "  <thead>\n",
       "    <tr style=\"text-align: right;\">\n",
       "      <th></th>\n",
       "      <th>x</th>\n",
       "      <th>y</th>\n",
       "    </tr>\n",
       "  </thead>\n",
       "  <tbody>\n",
       "    <tr>\n",
       "      <th>4</th>\n",
       "      <td>69.887445</td>\n",
       "      <td>NaN</td>\n",
       "    </tr>\n",
       "    <tr>\n",
       "      <th>53</th>\n",
       "      <td>93.143070</td>\n",
       "      <td>NaN</td>\n",
       "    </tr>\n",
       "    <tr>\n",
       "      <th>60</th>\n",
       "      <td>95.542388</td>\n",
       "      <td>NaN</td>\n",
       "    </tr>\n",
       "    <tr>\n",
       "      <th>62</th>\n",
       "      <td>120.699573</td>\n",
       "      <td>NaN</td>\n",
       "    </tr>\n",
       "    <tr>\n",
       "      <th>64</th>\n",
       "      <td>82.657622</td>\n",
       "      <td>NaN</td>\n",
       "    </tr>\n",
       "    <tr>\n",
       "      <th>65</th>\n",
       "      <td>105.534175</td>\n",
       "      <td>NaN</td>\n",
       "    </tr>\n",
       "    <tr>\n",
       "      <th>92</th>\n",
       "      <td>37.546425</td>\n",
       "      <td>NaN</td>\n",
       "    </tr>\n",
       "    <tr>\n",
       "      <th>94</th>\n",
       "      <td>35.914205</td>\n",
       "      <td>NaN</td>\n",
       "    </tr>\n",
       "  </tbody>\n",
       "</table>\n",
       "</div>"
      ],
      "text/plain": [
       "             x   y\n",
       "4    69.887445 NaN\n",
       "53   93.143070 NaN\n",
       "60   95.542388 NaN\n",
       "62  120.699573 NaN\n",
       "64   82.657622 NaN\n",
       "65  105.534175 NaN\n",
       "92   37.546425 NaN\n",
       "94   35.914205 NaN"
      ]
     },
     "execution_count": 44,
     "metadata": {},
     "output_type": "execute_result"
    }
   ],
   "source": [
    "y_missing = df['y'].isna()\n",
    "# Mira las filas que contienen NaN para y\n",
    "df.loc[y_missing,:]"
   ]
  },
  {
   "cell_type": "code",
   "execution_count": 45,
   "id": "38109269",
   "metadata": {
    "slideshow": {
     "slide_type": "fragment"
    }
   },
   "outputs": [
    {
     "data": {
      "text/html": [
       "<div>\n",
       "<style scoped>\n",
       "    .dataframe tbody tr th:only-of-type {\n",
       "        vertical-align: middle;\n",
       "    }\n",
       "\n",
       "    .dataframe tbody tr th {\n",
       "        vertical-align: top;\n",
       "    }\n",
       "\n",
       "    .dataframe thead th {\n",
       "        text-align: right;\n",
       "    }\n",
       "</style>\n",
       "<table border=\"1\" class=\"dataframe\">\n",
       "  <thead>\n",
       "    <tr style=\"text-align: right;\">\n",
       "      <th></th>\n",
       "      <th>x</th>\n",
       "      <th>y</th>\n",
       "    </tr>\n",
       "  </thead>\n",
       "  <tbody>\n",
       "    <tr>\n",
       "      <th>0</th>\n",
       "      <td>0.000000</td>\n",
       "      <td>-51.000000</td>\n",
       "    </tr>\n",
       "    <tr>\n",
       "      <th>1</th>\n",
       "      <td>25.000000</td>\n",
       "      <td>-12.000000</td>\n",
       "    </tr>\n",
       "    <tr>\n",
       "      <th>2</th>\n",
       "      <td>117.583220</td>\n",
       "      <td>134.907414</td>\n",
       "    </tr>\n",
       "    <tr>\n",
       "      <th>3</th>\n",
       "      <td>108.922466</td>\n",
       "      <td>134.085180</td>\n",
       "    </tr>\n",
       "    <tr>\n",
       "      <th>5</th>\n",
       "      <td>96.839983</td>\n",
       "      <td>114.530638</td>\n",
       "    </tr>\n",
       "    <tr>\n",
       "      <th>...</th>\n",
       "      <td>...</td>\n",
       "      <td>...</td>\n",
       "    </tr>\n",
       "    <tr>\n",
       "      <th>97</th>\n",
       "      <td>120.740859</td>\n",
       "      <td>133.922297</td>\n",
       "    </tr>\n",
       "    <tr>\n",
       "      <th>98</th>\n",
       "      <td>100.179788</td>\n",
       "      <td>126.827116</td>\n",
       "    </tr>\n",
       "    <tr>\n",
       "      <th>99</th>\n",
       "      <td>59.333765</td>\n",
       "      <td>50.257797</td>\n",
       "    </tr>\n",
       "    <tr>\n",
       "      <th>100</th>\n",
       "      <td>120.157757</td>\n",
       "      <td>144.754676</td>\n",
       "    </tr>\n",
       "    <tr>\n",
       "      <th>101</th>\n",
       "      <td>115.539152</td>\n",
       "      <td>120.697309</td>\n",
       "    </tr>\n",
       "  </tbody>\n",
       "</table>\n",
       "<p>94 rows × 2 columns</p>\n",
       "</div>"
      ],
      "text/plain": [
       "              x           y\n",
       "0      0.000000  -51.000000\n",
       "1     25.000000  -12.000000\n",
       "2    117.583220  134.907414\n",
       "3    108.922466  134.085180\n",
       "5     96.839983  114.530638\n",
       "..          ...         ...\n",
       "97   120.740859  133.922297\n",
       "98   100.179788  126.827116\n",
       "99    59.333765   50.257797\n",
       "100  120.157757  144.754676\n",
       "101  115.539152  120.697309\n",
       "\n",
       "[94 rows x 2 columns]"
      ]
     },
     "execution_count": 45,
     "metadata": {},
     "output_type": "execute_result"
    }
   ],
   "source": [
    "# Ten en cuenta que podemos usar el operador not (~) para negar el filtro\n",
    "# cada fila que no tiene nan se devuelve\n",
    "df.loc[~y_missing,:]"
   ]
  },
  {
   "cell_type": "code",
   "execution_count": 46,
   "id": "9d91b628",
   "metadata": {
    "slideshow": {
     "slide_type": "fragment"
    }
   },
   "outputs": [
    {
     "data": {
      "text/plain": [
       "8"
      ]
     },
     "execution_count": 46,
     "metadata": {},
     "output_type": "execute_result"
    }
   ],
   "source": [
    "# El código cuenta el número de valores perdidos\n",
    "# sum() funciona porque los booleanos son un subtipo de enteros\n",
    "df['y'].isna().sum()"
   ]
  },
  {
   "cell_type": "code",
   "execution_count": 48,
   "id": "a8158857",
   "metadata": {
    "slideshow": {
     "slide_type": "fragment"
    }
   },
   "outputs": [
    {
     "data": {
      "text/plain": [
       "2"
      ]
     },
     "execution_count": 48,
     "metadata": {},
     "output_type": "execute_result"
    }
   ],
   "source": [
    "# el código anterior funciona de manera muy similar al código siguiente\n",
    "True + False + False + True"
   ]
  },
  {
   "cell_type": "code",
   "execution_count": 49,
   "id": "9007d047",
   "metadata": {
    "slideshow": {
     "slide_type": "fragment"
    }
   },
   "outputs": [
    {
     "data": {
      "text/html": [
       "<div>\n",
       "<style scoped>\n",
       "    .dataframe tbody tr th:only-of-type {\n",
       "        vertical-align: middle;\n",
       "    }\n",
       "\n",
       "    .dataframe tbody tr th {\n",
       "        vertical-align: top;\n",
       "    }\n",
       "\n",
       "    .dataframe thead th {\n",
       "        text-align: right;\n",
       "    }\n",
       "</style>\n",
       "<table border=\"1\" class=\"dataframe\">\n",
       "  <thead>\n",
       "    <tr style=\"text-align: right;\">\n",
       "      <th></th>\n",
       "      <th>x</th>\n",
       "      <th>y</th>\n",
       "    </tr>\n",
       "  </thead>\n",
       "  <tbody>\n",
       "    <tr>\n",
       "      <th>0</th>\n",
       "      <td>0.000000</td>\n",
       "      <td>-51.000000</td>\n",
       "    </tr>\n",
       "    <tr>\n",
       "      <th>1</th>\n",
       "      <td>25.000000</td>\n",
       "      <td>-12.000000</td>\n",
       "    </tr>\n",
       "    <tr>\n",
       "      <th>2</th>\n",
       "      <td>117.583220</td>\n",
       "      <td>134.907414</td>\n",
       "    </tr>\n",
       "    <tr>\n",
       "      <th>3</th>\n",
       "      <td>108.922466</td>\n",
       "      <td>134.085180</td>\n",
       "    </tr>\n",
       "    <tr>\n",
       "      <th>5</th>\n",
       "      <td>96.839983</td>\n",
       "      <td>114.530638</td>\n",
       "    </tr>\n",
       "    <tr>\n",
       "      <th>6</th>\n",
       "      <td>51.775940</td>\n",
       "      <td>31.376437</td>\n",
       "    </tr>\n",
       "    <tr>\n",
       "      <th>7</th>\n",
       "      <td>35.016737</td>\n",
       "      <td>8.764634</td>\n",
       "    </tr>\n",
       "    <tr>\n",
       "      <th>8</th>\n",
       "      <td>79.457646</td>\n",
       "      <td>73.285341</td>\n",
       "    </tr>\n",
       "    <tr>\n",
       "      <th>9</th>\n",
       "      <td>45.344909</td>\n",
       "      <td>18.859865</td>\n",
       "    </tr>\n",
       "    <tr>\n",
       "      <th>10</th>\n",
       "      <td>77.767132</td>\n",
       "      <td>72.946609</td>\n",
       "    </tr>\n",
       "  </tbody>\n",
       "</table>\n",
       "</div>"
      ],
      "text/plain": [
       "             x           y\n",
       "0     0.000000  -51.000000\n",
       "1    25.000000  -12.000000\n",
       "2   117.583220  134.907414\n",
       "3   108.922466  134.085180\n",
       "5    96.839983  114.530638\n",
       "6    51.775940   31.376437\n",
       "7    35.016737    8.764634\n",
       "8    79.457646   73.285341\n",
       "9    45.344909   18.859865\n",
       "10   77.767132   72.946609"
      ]
     },
     "execution_count": 49,
     "metadata": {},
     "output_type": "execute_result"
    }
   ],
   "source": [
    "# Puedes eliminar filas enteras si contienen nans 'any' o 'all'\n",
    "# ten en cuenta que no hay una fila con el índice 4\n",
    "df.loc[0:10,:].dropna(how = 'any')\n",
    "#‘any’ : If any NA values are present, drop that row or column.\n",
    "#‘all’ : If all values are NA, drop that row or column."
   ]
  },
  {
   "cell_type": "code",
   "execution_count": 57,
   "id": "6e053c4e",
   "metadata": {
    "slideshow": {
     "slide_type": "fragment"
    }
   },
   "outputs": [
    {
     "data": {
      "text/plain": [
       "0     -51.000000\n",
       "1     -12.000000\n",
       "2     134.907414\n",
       "3     134.085180\n",
       "4            NaN\n",
       "5     114.530638\n",
       "6      31.376437\n",
       "7       8.764634\n",
       "8      73.285341\n",
       "9      18.859865\n",
       "10     72.946609\n",
       "Name: y, dtype: float64"
      ]
     },
     "execution_count": 57,
     "metadata": {},
     "output_type": "execute_result"
    }
   ],
   "source": [
    "filename = 'data/linear.csv'\n",
    "df = pd.read_csv(filename)\n",
    "df.head()\n",
    "# Mirando dónde se encuentran los datos faltantes\n",
    "df.loc[0:10, 'y']"
   ]
  },
  {
   "cell_type": "code",
   "execution_count": 58,
   "id": "21cfefc7",
   "metadata": {
    "slideshow": {
     "slide_type": "fragment"
    }
   },
   "outputs": [
    {
     "data": {
      "text/plain": [
       "0     -51.000000\n",
       "1     -12.000000\n",
       "2     134.907414\n",
       "3     134.085180\n",
       "4     124.307909\n",
       "5     114.530638\n",
       "6      31.376437\n",
       "7       8.764634\n",
       "8      73.285341\n",
       "9      18.859865\n",
       "10     72.946609\n",
       "Name: y, dtype: float64"
      ]
     },
     "execution_count": 58,
     "metadata": {},
     "output_type": "execute_result"
    }
   ],
   "source": [
    "# Opción1: Completar el nan con un cero puede ser una mala idea\n",
    "#df.loc[0:10, 'y'].fillna(0)\n",
    "# Opción 2: valor back fill (relleno hacia atrás)\n",
    "#df.loc[0:10, 'y'].fillna(method='bfill')\n",
    "# Opción 3: valor forward fill (relleno hacia adelante)\n",
    "#df.loc[0:10, 'y'].fillna(method='ffill')\n",
    "# interpolación lineal (relleno de valores)\n",
    "#df.loc[0:10, 'y'].interpolate(method = 'linear')"
   ]
  },
  {
   "cell_type": "markdown",
   "id": "95de0158",
   "metadata": {
    "slideshow": {
     "slide_type": "slide"
    }
   },
   "source": [
    "# Pandas: Conversión a otros tipos de datos"
   ]
  },
  {
   "cell_type": "code",
   "execution_count": null,
   "id": "45cf341e",
   "metadata": {
    "slideshow": {
     "slide_type": "fragment"
    }
   },
   "outputs": [],
   "source": [
    "df.to_numpy()\n",
    "# Approach 2\n",
    "df.values"
   ]
  },
  {
   "cell_type": "code",
   "execution_count": null,
   "id": "95e11d06",
   "metadata": {
    "slideshow": {
     "slide_type": "fragment"
    }
   },
   "outputs": [],
   "source": [
    "# Puedes suprimir la salida en un Colab o Jupyter Notebook usando un ;\n",
    "df.to_dict()"
   ]
  },
  {
   "cell_type": "markdown",
   "id": "68895582",
   "metadata": {
    "slideshow": {
     "slide_type": "slide"
    }
   },
   "source": [
    "# Pandas: Exportar datos"
   ]
  },
  {
   "cell_type": "code",
   "execution_count": 60,
   "id": "f05b4b0d",
   "metadata": {
    "slideshow": {
     "slide_type": "fragment"
    }
   },
   "outputs": [
    {
     "data": {
      "text/html": [
       "<div>\n",
       "<style scoped>\n",
       "    .dataframe tbody tr th:only-of-type {\n",
       "        vertical-align: middle;\n",
       "    }\n",
       "\n",
       "    .dataframe tbody tr th {\n",
       "        vertical-align: top;\n",
       "    }\n",
       "\n",
       "    .dataframe thead th {\n",
       "        text-align: right;\n",
       "    }\n",
       "</style>\n",
       "<table border=\"1\" class=\"dataframe\">\n",
       "  <thead>\n",
       "    <tr style=\"text-align: right;\">\n",
       "      <th></th>\n",
       "      <th>Month</th>\n",
       "      <th>Starting Balance</th>\n",
       "      <th>Repayment</th>\n",
       "      <th>Interest Paid</th>\n",
       "      <th>Principal Paid</th>\n",
       "      <th>New Balance</th>\n",
       "      <th>Mortgage Name</th>\n",
       "      <th>Interest Rate</th>\n",
       "    </tr>\n",
       "  </thead>\n",
       "  <tbody>\n",
       "    <tr>\n",
       "      <th>0</th>\n",
       "      <td>1</td>\n",
       "      <td>400000.00</td>\n",
       "      <td>1686.42</td>\n",
       "      <td>1000.00</td>\n",
       "      <td>686.42</td>\n",
       "      <td>399313.58</td>\n",
       "      <td>30 Year</td>\n",
       "      <td>0.03</td>\n",
       "    </tr>\n",
       "    <tr>\n",
       "      <th>1</th>\n",
       "      <td>2</td>\n",
       "      <td>399313.58</td>\n",
       "      <td>1686.42</td>\n",
       "      <td>998.28</td>\n",
       "      <td>688.14</td>\n",
       "      <td>398625.44</td>\n",
       "      <td>30 Year</td>\n",
       "      <td>0.03</td>\n",
       "    </tr>\n",
       "    <tr>\n",
       "      <th>2</th>\n",
       "      <td>3</td>\n",
       "      <td>398625.44</td>\n",
       "      <td>1686.42</td>\n",
       "      <td>996.56</td>\n",
       "      <td>689.86</td>\n",
       "      <td>397935.58</td>\n",
       "      <td>30 Year</td>\n",
       "      <td>0.03</td>\n",
       "    </tr>\n",
       "    <tr>\n",
       "      <th>3</th>\n",
       "      <td>4</td>\n",
       "      <td>397935.58</td>\n",
       "      <td>1686.42</td>\n",
       "      <td>994.83</td>\n",
       "      <td>691.59</td>\n",
       "      <td>397243.99</td>\n",
       "      <td>30 Year</td>\n",
       "      <td>0.03</td>\n",
       "    </tr>\n",
       "    <tr>\n",
       "      <th>4</th>\n",
       "      <td>5</td>\n",
       "      <td>397243.99</td>\n",
       "      <td>1686.42</td>\n",
       "      <td>993.10</td>\n",
       "      <td>693.32</td>\n",
       "      <td>396550.67</td>\n",
       "      <td>30 Year</td>\n",
       "      <td>0.03</td>\n",
       "    </tr>\n",
       "  </tbody>\n",
       "</table>\n",
       "</div>"
      ],
      "text/plain": [
       "   Month  Starting Balance  Repayment  Interest Paid  Principal Paid  \\\n",
       "0      1         400000.00    1686.42        1000.00          686.42   \n",
       "1      2         399313.58    1686.42         998.28          688.14   \n",
       "2      3         398625.44    1686.42         996.56          689.86   \n",
       "3      4         397935.58    1686.42         994.83          691.59   \n",
       "4      5         397243.99    1686.42         993.10          693.32   \n",
       "\n",
       "   New Balance Mortgage Name  Interest Rate  \n",
       "0    399313.58       30 Year           0.03  \n",
       "1    398625.44       30 Year           0.03  \n",
       "2    397935.58       30 Year           0.03  \n",
       "3    397243.99       30 Year           0.03  \n",
       "4    396550.67       30 Year           0.03  "
      ]
     },
     "execution_count": 60,
     "metadata": {},
     "output_type": "execute_result"
    }
   ],
   "source": [
    "filename = \"data/mortgages.csv\"\n",
    "df = pd.read_csv(filename)\n",
    "df.head()"
   ]
  },
  {
   "cell_type": "code",
   "execution_count": 61,
   "id": "1d540b01",
   "metadata": {
    "slideshow": {
     "slide_type": "fragment"
    }
   },
   "outputs": [],
   "source": [
    "# Filtros/procesado de datos\n",
    "mortgage_filter = df['Mortgage Name']=='30 Year'\n",
    "interest_filter = df['Interest Rate']==0.03\n",
    "df = df.loc[mortgage_filter & interest_filter, :]"
   ]
  },
  {
   "cell_type": "code",
   "execution_count": 62,
   "id": "0926d023",
   "metadata": {
    "slideshow": {
     "slide_type": "fragment"
    }
   },
   "outputs": [],
   "source": [
    "# Exportar DataFrame a un archivo csv\n",
    "df.to_csv(path_or_buf='data/processed/oneMortgage.csv',index = False)\n",
    "# Exportar DataFrame a un archivo de Excel\n",
    "df.to_excel(excel_writer='data/processed/oneMortgage.xlsx',index=False)\n",
    "# Archivos pueden ser descargados desde Google Drive/Colab"
   ]
  },
  {
   "cell_type": "markdown",
   "id": "56c8e50a",
   "metadata": {
    "slideshow": {
     "slide_type": "slide"
    }
   },
   "source": [
    "# Pandas: métodos agregados\n",
    "\n",
    "- Se aplican a todos los datos de un DataFrame/Serie"
   ]
  },
  {
   "cell_type": "code",
   "execution_count": 63,
   "id": "174feb56",
   "metadata": {
    "slideshow": {
     "slide_type": "fragment"
    }
   },
   "outputs": [
    {
     "data": {
      "text/plain": [
       "207106.01"
      ]
     },
     "execution_count": 63,
     "metadata": {},
     "output_type": "execute_result"
    }
   ],
   "source": [
    "# sumar los valores en una columna\n",
    "# monto total de intereses pagados durante el transcurso del préstamo\n",
    "df['Interest Paid'].sum()"
   ]
  },
  {
   "cell_type": "code",
   "execution_count": 64,
   "id": "3f75c320",
   "metadata": {
    "slideshow": {
     "slide_type": "fragment"
    }
   },
   "outputs": [
    {
     "data": {
      "text/plain": [
       "Month                                                           64980\n",
       "Starting Balance                                          82843130.97\n",
       "Repayment                                                    607111.2\n",
       "Interest Paid                                               207106.01\n",
       "Principal Paid                                              400005.19\n",
       "New Balance                                               82443125.78\n",
       "Mortgage Name       30 Year30 Year30 Year30 Year30 Year30 Year30 Y...\n",
       "Interest Rate                                                    10.8\n",
       "dtype: object"
      ]
     },
     "execution_count": 64,
     "metadata": {},
     "output_type": "execute_result"
    }
   ],
   "source": [
    "# sumar todos los valores en todas las columnas\n",
    "df.sum()"
   ]
  },
  {
   "cell_type": "markdown",
   "id": "d2d6f8b9",
   "metadata": {
    "slideshow": {
     "slide_type": "slide"
    }
   },
   "source": [
    "# Pandas: Group by"
   ]
  },
  {
   "cell_type": "code",
   "execution_count": 66,
   "id": "4cf9ff54",
   "metadata": {
    "slideshow": {
     "slide_type": "fragment"
    }
   },
   "outputs": [
    {
     "data": {
      "text/html": [
       "<div>\n",
       "<style scoped>\n",
       "    .dataframe tbody tr th:only-of-type {\n",
       "        vertical-align: middle;\n",
       "    }\n",
       "\n",
       "    .dataframe tbody tr th {\n",
       "        vertical-align: top;\n",
       "    }\n",
       "\n",
       "    .dataframe thead th {\n",
       "        text-align: right;\n",
       "    }\n",
       "</style>\n",
       "<table border=\"1\" class=\"dataframe\">\n",
       "  <thead>\n",
       "    <tr style=\"text-align: right;\">\n",
       "      <th></th>\n",
       "      <th>key</th>\n",
       "      <th>data</th>\n",
       "    </tr>\n",
       "  </thead>\n",
       "  <tbody>\n",
       "    <tr>\n",
       "      <th>0</th>\n",
       "      <td>Seattle</td>\n",
       "      <td>1</td>\n",
       "    </tr>\n",
       "    <tr>\n",
       "      <th>1</th>\n",
       "      <td>Kirkland</td>\n",
       "      <td>2</td>\n",
       "    </tr>\n",
       "    <tr>\n",
       "      <th>2</th>\n",
       "      <td>Redmond</td>\n",
       "      <td>3</td>\n",
       "    </tr>\n",
       "    <tr>\n",
       "      <th>3</th>\n",
       "      <td>Seattle</td>\n",
       "      <td>4</td>\n",
       "    </tr>\n",
       "    <tr>\n",
       "      <th>4</th>\n",
       "      <td>Kirkland</td>\n",
       "      <td>5</td>\n",
       "    </tr>\n",
       "    <tr>\n",
       "      <th>5</th>\n",
       "      <td>Redmond</td>\n",
       "      <td>6</td>\n",
       "    </tr>\n",
       "  </tbody>\n",
       "</table>\n",
       "</div>"
      ],
      "text/plain": [
       "        key  data\n",
       "0   Seattle     1\n",
       "1  Kirkland     2\n",
       "2   Redmond     3\n",
       "3   Seattle     4\n",
       "4  Kirkland     5\n",
       "5   Redmond     6"
      ]
     },
     "execution_count": 66,
     "metadata": {},
     "output_type": "execute_result"
    }
   ],
   "source": [
    "df_cities = pd.DataFrame(data = [['Seattle', 1],\n",
    "                          ['Kirkland', 2],\n",
    "                          ['Redmond', 3],\n",
    "                          ['Seattle', 4],\n",
    "                          ['Kirkland', 5],\n",
    "                          ['Redmond', 6]], columns = ['key', 'data'])\n",
    "df_cities"
   ]
  },
  {
   "cell_type": "code",
   "execution_count": 67,
   "id": "29e2a300",
   "metadata": {
    "slideshow": {
     "slide_type": "fragment"
    }
   },
   "outputs": [
    {
     "data": {
      "text/html": [
       "<div>\n",
       "<style scoped>\n",
       "    .dataframe tbody tr th:only-of-type {\n",
       "        vertical-align: middle;\n",
       "    }\n",
       "\n",
       "    .dataframe tbody tr th {\n",
       "        vertical-align: top;\n",
       "    }\n",
       "\n",
       "    .dataframe thead th {\n",
       "        text-align: right;\n",
       "    }\n",
       "</style>\n",
       "<table border=\"1\" class=\"dataframe\">\n",
       "  <thead>\n",
       "    <tr style=\"text-align: right;\">\n",
       "      <th></th>\n",
       "      <th>data</th>\n",
       "    </tr>\n",
       "    <tr>\n",
       "      <th>key</th>\n",
       "      <th></th>\n",
       "    </tr>\n",
       "  </thead>\n",
       "  <tbody>\n",
       "    <tr>\n",
       "      <th>Kirkland</th>\n",
       "      <td>7</td>\n",
       "    </tr>\n",
       "    <tr>\n",
       "      <th>Redmond</th>\n",
       "      <td>9</td>\n",
       "    </tr>\n",
       "    <tr>\n",
       "      <th>Seattle</th>\n",
       "      <td>5</td>\n",
       "    </tr>\n",
       "  </tbody>\n",
       "</table>\n",
       "</div>"
      ],
      "text/plain": [
       "          data\n",
       "key           \n",
       "Kirkland     7\n",
       "Redmond      9\n",
       "Seattle      5"
      ]
     },
     "execution_count": 67,
     "metadata": {},
     "output_type": "execute_result"
    }
   ],
   "source": [
    "df_cities.groupby(['key']).sum()"
   ]
  },
  {
   "cell_type": "code",
   "execution_count": 70,
   "id": "17ffaf54",
   "metadata": {
    "slideshow": {
     "slide_type": "fragment"
    }
   },
   "outputs": [
    {
     "data": {
      "text/html": [
       "<div>\n",
       "<style scoped>\n",
       "    .dataframe tbody tr th:only-of-type {\n",
       "        vertical-align: middle;\n",
       "    }\n",
       "\n",
       "    .dataframe tbody tr th {\n",
       "        vertical-align: top;\n",
       "    }\n",
       "\n",
       "    .dataframe thead th {\n",
       "        text-align: right;\n",
       "    }\n",
       "</style>\n",
       "<table border=\"1\" class=\"dataframe\">\n",
       "  <thead>\n",
       "    <tr style=\"text-align: right;\">\n",
       "      <th></th>\n",
       "      <th>Month</th>\n",
       "      <th>Starting Balance</th>\n",
       "      <th>Repayment</th>\n",
       "      <th>Interest Paid</th>\n",
       "      <th>Principal Paid</th>\n",
       "      <th>New Balance</th>\n",
       "      <th>Mortgage Name</th>\n",
       "      <th>Interest Rate</th>\n",
       "    </tr>\n",
       "  </thead>\n",
       "  <tbody>\n",
       "    <tr>\n",
       "      <th>0</th>\n",
       "      <td>1</td>\n",
       "      <td>400000.00</td>\n",
       "      <td>1686.42</td>\n",
       "      <td>1000.00</td>\n",
       "      <td>686.42</td>\n",
       "      <td>399313.58</td>\n",
       "      <td>30 Year</td>\n",
       "      <td>0.03</td>\n",
       "    </tr>\n",
       "    <tr>\n",
       "      <th>1</th>\n",
       "      <td>2</td>\n",
       "      <td>399313.58</td>\n",
       "      <td>1686.42</td>\n",
       "      <td>998.28</td>\n",
       "      <td>688.14</td>\n",
       "      <td>398625.44</td>\n",
       "      <td>30 Year</td>\n",
       "      <td>0.03</td>\n",
       "    </tr>\n",
       "    <tr>\n",
       "      <th>2</th>\n",
       "      <td>3</td>\n",
       "      <td>398625.44</td>\n",
       "      <td>1686.42</td>\n",
       "      <td>996.56</td>\n",
       "      <td>689.86</td>\n",
       "      <td>397935.58</td>\n",
       "      <td>30 Year</td>\n",
       "      <td>0.03</td>\n",
       "    </tr>\n",
       "    <tr>\n",
       "      <th>3</th>\n",
       "      <td>4</td>\n",
       "      <td>397935.58</td>\n",
       "      <td>1686.42</td>\n",
       "      <td>994.83</td>\n",
       "      <td>691.59</td>\n",
       "      <td>397243.99</td>\n",
       "      <td>30 Year</td>\n",
       "      <td>0.03</td>\n",
       "    </tr>\n",
       "    <tr>\n",
       "      <th>4</th>\n",
       "      <td>5</td>\n",
       "      <td>397243.99</td>\n",
       "      <td>1686.42</td>\n",
       "      <td>993.10</td>\n",
       "      <td>693.32</td>\n",
       "      <td>396550.67</td>\n",
       "      <td>30 Year</td>\n",
       "      <td>0.03</td>\n",
       "    </tr>\n",
       "  </tbody>\n",
       "</table>\n",
       "</div>"
      ],
      "text/plain": [
       "   Month  Starting Balance  Repayment  Interest Paid  Principal Paid  \\\n",
       "0      1         400000.00    1686.42        1000.00          686.42   \n",
       "1      2         399313.58    1686.42         998.28          688.14   \n",
       "2      3         398625.44    1686.42         996.56          689.86   \n",
       "3      4         397935.58    1686.42         994.83          691.59   \n",
       "4      5         397243.99    1686.42         993.10          693.32   \n",
       "\n",
       "   New Balance Mortgage Name  Interest Rate  \n",
       "0    399313.58       30 Year           0.03  \n",
       "1    398625.44       30 Year           0.03  \n",
       "2    397935.58       30 Year           0.03  \n",
       "3    397243.99       30 Year           0.03  \n",
       "4    396550.67       30 Year           0.03  "
      ]
     },
     "execution_count": 70,
     "metadata": {},
     "output_type": "execute_result"
    }
   ],
   "source": [
    "filename = \"data/mortgages.csv\"\n",
    "df = pd.read_csv(filename)\n",
    "df.head()"
   ]
  },
  {
   "cell_type": "code",
   "execution_count": 71,
   "id": "cf8de546",
   "metadata": {},
   "outputs": [
    {
     "data": {
      "text/html": [
       "<div>\n",
       "<style scoped>\n",
       "    .dataframe tbody tr th:only-of-type {\n",
       "        vertical-align: middle;\n",
       "    }\n",
       "\n",
       "    .dataframe tbody tr th {\n",
       "        vertical-align: top;\n",
       "    }\n",
       "\n",
       "    .dataframe thead th {\n",
       "        text-align: right;\n",
       "    }\n",
       "</style>\n",
       "<table border=\"1\" class=\"dataframe\">\n",
       "  <thead>\n",
       "    <tr style=\"text-align: right;\">\n",
       "      <th></th>\n",
       "      <th></th>\n",
       "      <th>Interest Paid</th>\n",
       "    </tr>\n",
       "    <tr>\n",
       "      <th>Mortgage Name</th>\n",
       "      <th>Interest Rate</th>\n",
       "      <th></th>\n",
       "    </tr>\n",
       "  </thead>\n",
       "  <tbody>\n",
       "    <tr>\n",
       "      <th rowspan=\"2\" valign=\"top\">15 Year</th>\n",
       "      <th>0.03</th>\n",
       "      <td>97217.42</td>\n",
       "    </tr>\n",
       "    <tr>\n",
       "      <th>0.05</th>\n",
       "      <td>169370.43</td>\n",
       "    </tr>\n",
       "    <tr>\n",
       "      <th rowspan=\"2\" valign=\"top\">30 Year</th>\n",
       "      <th>0.03</th>\n",
       "      <td>207106.01</td>\n",
       "    </tr>\n",
       "    <tr>\n",
       "      <th>0.05</th>\n",
       "      <td>373017.23</td>\n",
       "    </tr>\n",
       "  </tbody>\n",
       "</table>\n",
       "</div>"
      ],
      "text/plain": [
       "                             Interest Paid\n",
       "Mortgage Name Interest Rate               \n",
       "15 Year       0.03                97217.42\n",
       "              0.05               169370.43\n",
       "30 Year       0.03               207106.01\n",
       "              0.05               373017.23"
      ]
     },
     "execution_count": 71,
     "metadata": {},
     "output_type": "execute_result"
    }
   ],
   "source": [
    "df.groupby(['Mortgage Name', 'Interest Rate'])[['Interest Paid']].sum()"
   ]
  },
  {
   "cell_type": "markdown",
   "id": "25883398",
   "metadata": {
    "slideshow": {
     "slide_type": "slide"
    }
   },
   "source": [
    "# Actividad 2"
   ]
  },
  {
   "cell_type": "markdown",
   "id": "ea127ca0",
   "metadata": {
    "slideshow": {
     "slide_type": "fragment"
    }
   },
   "source": [
    "El fichero [titanic.csv](https://aprendeconalf.es/docencia/python/ejercicios/soluciones/pandas/titanic.csv) contiene información sobre los pasajeros del Titanic. Escribir un programa con los siguientes requisitos:\n",
    "\n",
    "1. Generar un DataFrame con los datos del fichero.\n",
    "2. Mostrar por pantalla las dimensiones del DataFrame, el número de datos que contiene, los nombres de sus columnas y filas, los tipos de datos de las columnas, las 10 primeras filas y las 10 últimas filas\n",
    "3. Mostrar por pantalla los datos del pasajero con identificador 148.\n",
    "4. Mostrar por pantalla las filas pares del DataFrame.\n",
    "5. Mostrar por pantalla los nombres de las personas que iban en primera clase ordenadas alfabéticamente.\n",
    "6. Mostrar por pantalla el porcentaje de personas que sobrevivieron y murieron.\n",
    "7. Mostrar por pantalla el porcentaje de personas que sobrevivieron en cada clase.\n",
    "8. Eliminar del DataFrame los pasajeros con edad desconocida.\n",
    "9. Mostrar por pantalla la edad media de las mujeres que viajaban en cada clase.\n",
    "10. Añadir una nueva columna booleana para ver si el pasajero era menor de edad o no.\n",
    "11. Mostrar por pantalla el porcentaje de menores y mayores de edad que sobrevivieron en cada clase.\n",
    "\n",
    "(Fuente: https://aprendeconalf.es/docencia/python/ejercicios/pandas/)"
   ]
  }
 ],
 "metadata": {
  "celltoolbar": "Slideshow",
  "kernelspec": {
   "display_name": "Python 3 (ipykernel)",
   "language": "python",
   "name": "python3"
  },
  "language_info": {
   "codemirror_mode": {
    "name": "ipython",
    "version": 3
   },
   "file_extension": ".py",
   "mimetype": "text/x-python",
   "name": "python",
   "nbconvert_exporter": "python",
   "pygments_lexer": "ipython3",
   "version": "3.8.12"
  }
 },
 "nbformat": 4,
 "nbformat_minor": 5
}
