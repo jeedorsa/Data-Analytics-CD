{
 "cells": [
  {
   "cell_type": "markdown",
   "id": "ed8fa137",
   "metadata": {
    "slideshow": {
     "slide_type": "slide"
    }
   },
   "source": [
    "<br/>\n",
    "<img src=\"images/cd-logo-blue-600x600.png\" alt=\"\" width=\"130px\" align=\"left\"/>\n",
    "<img src=\"images/cd-logo-blue-600x600.png\" alt=\"\" width=\"130px\" align=\"right\"/>\n",
    "<div align=\"center\">\n",
    "<h2>Bootcamp Data Science - Módulo 1</h2><br/>\n",
    "<h1>Biblioteca Matplotlib</h1>\n",
    "<img src=\"images/matplotlib.png\" width=\"300px\" align=\"center\" >\n",
    "<br/><br/>\n",
    "    <b>Instructor Principal:</b> Patricio Olivares polivares@codingdojo.cl <br/>\n",
    "    <b>Instructor Asistente:</b> Jesús Ortiz jortiz@codingdojo.cl<br/><br/>\n",
    "    <b>Coding Dojo</b>\n",
    "</div>"
   ]
  },
  {
   "cell_type": "markdown",
   "id": "125a4c10",
   "metadata": {
    "slideshow": {
     "slide_type": "slide"
    }
   },
   "source": [
    "# ¿Qué es Matplotlib?\n"
   ]
  },
  {
   "cell_type": "markdown",
   "id": "85d9d7da",
   "metadata": {
    "slideshow": {
     "slide_type": "fragment"
    }
   },
   "source": [
    "- **Matplotlib** es una biblioteca para la creación de visualizaciones tanto estáticas, animadas e interactivas en Python. Permite: \n",
    "    - Creción de gráficos de alta calidad.\n",
    "    - Figuras interactivas a las que hacer zoom, efectos panorámicos y actualizaciones.\n",
    "    - Personalizar estilos y diseños\n",
    "    - Exportación a una amplia gama de formatos de archivos.\n",
    "    - Compatible con JupyterLab/Jupyter Notebook e interfaces de usuario.\n",
    "    - Contiene una amplia cantidad de paquetes de terceros desarrollados en Matplotlib\n",
    "- La biblioteca Pandas contiene wrappers (envoltorios) en sus series y dataframes para la generación de gráficos.\n",
    "-  Si está trabajando en su entorno local, previo a su importación debe ser **instalada** \n",
    "    - ```pip install matplotlib``` si usa ```pip```\n",
    "    - ```conda install matplotlib``` si usa ```conda```"
   ]
  },
  {
   "cell_type": "markdown",
   "id": "052dc51a",
   "metadata": {
    "slideshow": {
     "slide_type": "slide"
    }
   },
   "source": [
    "# ¿Qué es Matplotlib?"
   ]
  },
  {
   "cell_type": "markdown",
   "id": "f6c8073a",
   "metadata": {
    "slideshow": {
     "slide_type": "fragment"
    }
   },
   "source": [
    "<table>\n",
    "    <td><img src=\"images/10-matplotlib00.png\" alt=\"\" width=\"100%\" align=\"center\"/></td>\n",
    "    <td><img src=\"images/10-matplotlib00b.png\" alt=\"\" width=\"100%\" align=\"center\"/></td>\n",
    "</table>"
   ]
  },
  {
   "cell_type": "markdown",
   "id": "908cbcfb",
   "metadata": {
    "slideshow": {
     "slide_type": "slide"
    }
   },
   "source": [
    "## Pyplot\n",
    "\n",
    "* ```matplotlib.pyplot``` es un conjunto de funciones de graficado similares al funcionamiento de MATLAB.\n",
    "* Cada función de ```pyplot``` realiza algún cambio a una figura (e.g.: crea figura, crea area, dibuja líneas, agrega etiquetas, etc.).\n",
    "* Requiere importar ```pyplot```, que está dentro la biblioteca ```matplotlib```.\n",
    "* La función fundamental es ```pyplot```."
   ]
  },
  {
   "cell_type": "markdown",
   "id": "ab77cb4f",
   "metadata": {
    "slideshow": {
     "slide_type": "slide"
    }
   },
   "source": [
    "### Ejemplo 1:  ```.pyplot``` con sólo un parámetro."
   ]
  },
  {
   "cell_type": "code",
   "execution_count": null,
   "id": "f78e16d9",
   "metadata": {
    "slideshow": {
     "slide_type": "fragment"
    }
   },
   "outputs": [],
   "source": [
    "from matplotlib import pyplot as plt #import matplotlib.pyplot as plt\n",
    "#plt.style.use('seaborn')\n",
    "plt.plot([1,3,6,2])\n",
    "plt.ylabel(\"Algunos numeritos en el eje y\")\n",
    "plt.xlabel(\"Algunos numeritos en el eje x\")\n",
    "plt.show()"
   ]
  },
  {
   "cell_type": "markdown",
   "id": "646d17ff",
   "metadata": {
    "slideshow": {
     "slide_type": "fragment"
    }
   },
   "source": [
    "* ```plot``` puede tener varios parámetros. Cuando se especifica **sólo uno** refiere a los valores en el eje $y$.\n",
    "* Automáticamente se genera una secuencia de valores enteros para el eje $x$. Partiendo desde 0 y aumentando de uno en uno. \n",
    "* La lista generada para el eje $x$ es del mismo largo que la señalada para el eje $y$.\n",
    "* En este caso, ```x=[0,1,2,3]```\n",
    "* La función ```plt.show()``` se encarga de generar la ventana de visualización del gráfico."
   ]
  },
  {
   "cell_type": "markdown",
   "id": "8fc111fd",
   "metadata": {
    "slideshow": {
     "slide_type": "slide"
    }
   },
   "source": [
    "### Ejemplo 2: ```.pyplot``` con varios parámetro."
   ]
  },
  {
   "cell_type": "code",
   "execution_count": null,
   "id": "42118acc",
   "metadata": {
    "slideshow": {
     "slide_type": "fragment"
    }
   },
   "outputs": [],
   "source": [
    "import matplotlib.pyplot as plt #from matplotlib import pyplot as plt\n",
    "plt.figure(dpi=100) #resolución de figura (implica tamaño)\n",
    "plt.plot([1,3,4,6,8],[1,16,9,5,3],\"ro-\")\n",
    "plt.axis([0,10,0,17]) #[min ejex, max ejex, min ejey, max ejey]\n",
    "plt.ylabel(\"Algunos numeritos en el eje y\")\n",
    "plt.xlabel(\"Algunos numeritos en el eje x\")\n",
    "plt.show()"
   ]
  },
  {
   "cell_type": "markdown",
   "id": "0bda9c6d",
   "metadata": {
    "slideshow": {
     "slide_type": "fragment"
    }
   },
   "source": [
    "* Primer parámetro: valores $x$.\n",
    "* Segundo parámetro: valores $y$.\n",
    "* Tercer parámetro: formato de presentación de datos. En este caso, ```'ro-'```, significa círculos (o) rojos (r) con línea continua (-).\n",
    "* El tercer argumento es opcional. Por defecto, `'b-'`, que significa línea continua(-) azul (b).\n",
    "* ```.axis()``` permite controlar tamaño de los ejes: [xmin, xmax, ymin, ymax]"
   ]
  },
  {
   "cell_type": "markdown",
   "id": "557f6e5c",
   "metadata": {
    "slideshow": {
     "slide_type": "slide"
    }
   },
   "source": [
    "* Para el tercer parámetro de ```pyplot``` existen variadas opciones, como se muestra a continuación:"
   ]
  },
  {
   "cell_type": "markdown",
   "id": "8072ed8b",
   "metadata": {
    "slideshow": {
     "slide_type": "fragment"
    }
   },
   "source": [
    "<table>\n",
    "<td>\n",
    "    <table style=\"font-size: 200%; float: center;\">\n",
    "    <thead>\n",
    "        <th style=\"text-align: center;\">Marcadores</th>\n",
    "        <th style=\"text-align: center;\">Descripción</th>\n",
    "    </thead>\n",
    "    <tr>\n",
    "        <td style=\"text-align: center;\"><code>\".\"</code></td>\n",
    "        <td style=\"text-align: center;\">Punto</td>\n",
    "    </tr>\n",
    "    <tr>\n",
    "        <td style=\"text-align: center;\"><code>\",\"</code></td>\n",
    "        <td style=\"text-align: center;\">Pixel</td>\n",
    "    </tr>\n",
    "    <tr>\n",
    "        <td style=\"text-align: center;\"><code>\"o\"</code></td>\n",
    "        <td style=\"text-align: center;\">Círculo</td>\n",
    "    </tr>\n",
    "    <tr>\n",
    "        <td style=\"text-align: center;\"><code>\"^\"</code></td>\n",
    "        <td style=\"text-align: center;\">Triángulo</td>\n",
    "    </tr>\n",
    "    <tr>\n",
    "        <td style=\"text-align: center;\"><code>\"&gt;\"</code></td>\n",
    "        <td style=\"text-align: center;\">Triángulo 90º</td>\n",
    "    </tr>\n",
    "    <tr>\n",
    "        <td style=\"text-align: center;\"><code>\"v\"</code></td>\n",
    "        <td style=\"text-align: center;\">Triángulo 180º</td>\n",
    "    </tr>\n",
    "    <tr>\n",
    "        <td style=\"text-align: center;\"><code>\"&lt;\"</code></td>\n",
    "        <td style=\"text-align: center;\">Triángulo 270º</td>\n",
    "    </tr>\n",
    "    <tr>\n",
    "        <td style=\"text-align: center;\"><code>\"1\"</code></td>\n",
    "        <td style=\"text-align: center;\">Ángulo 180º</td>\n",
    "    </tr>\n",
    "    <tr>\n",
    "        <td style=\"text-align: center;\"><code>\"2\"</code></td>\n",
    "        <td style=\"text-align: center;\">Ángulo</td>\n",
    "    </tr>\n",
    "    <tr>\n",
    "        <td style=\"text-align: center;\"><code>\"3\"</code></td>\n",
    "        <td style=\"text-align: center;\">Ángulo 270º</td>\n",
    "    </tr>\n",
    "    <tr>\n",
    "        <td style=\"text-align: center;\"><code>\"4\"</code></td>\n",
    "        <td style=\"text-align: center;\">Ángulo 90º</td>\n",
    "    </tr>\n",
    "    <tr>\n",
    "        <td style=\"text-align: center;\"><code>\"s\"</code></td>\n",
    "        <td style=\"text-align: center;\">Cuadrado</td>\n",
    "    </tr>\n",
    "    <tr>\n",
    "        <td style=\"text-align: center;\"><code>\"p\"</code></td>\n",
    "        <td style=\"text-align: center;\">Pentágono</td>\n",
    "    </tr>\n",
    "    <tr>\n",
    "        <td style=\"text-align: center;\"><code>\"*\"</code></td>\n",
    "        <td style=\"text-align: center;\">Estrella</td>\n",
    "    </tr>\n",
    "    <tr>\n",
    "        <td style=\"text-align: center;\"><code>\"h\"</code></td>\n",
    "        <td style=\"text-align: center;\">Hexágono 1</td>\n",
    "    </tr>\n",
    "    <tr>\n",
    "        <td style=\"text-align: center;\"><code>\"H\"</code></td>\n",
    "        <td style=\"text-align: center;\">Hexágono 2</td>\n",
    "    </tr>\n",
    "    <tr>\n",
    "        <td style=\"text-align: center;\"><code>\"+\"</code></td>\n",
    "        <td style=\"text-align: center;\">Cruz suma</td>\n",
    "    </tr>\n",
    "    <tr>\n",
    "        <td style=\"text-align: center;\"><code>\"x\"</code></td>\n",
    "        <td style=\"text-align: center;\">Equis</td>\n",
    "    </tr>\n",
    "    <tr>\n",
    "        <td style=\"text-align: center;\"><code>\"D\"</code></td>\n",
    "        <td style=\"text-align: center;\">Diamante</td>\n",
    "    </tr>\n",
    "    <tr>\n",
    "        <td style=\"text-align: center;\"><code>\"d\"</code></td>\n",
    "        <td style=\"text-align: center;\">Diamante delgado</td>\n",
    "    </tr>\n",
    "    <tr>\n",
    "        <td style=\"text-align: center;\"><code>\"|\"</code></td>\n",
    "        <td style=\"text-align: center;\">Línea Vertical</td>\n",
    "    </tr>\n",
    "    <tr>\n",
    "        <td style=\"text-align: center;\"><code>\"_\"</code></td>\n",
    "        <td style=\"text-align: center;\">Línea Horizontal</td>\n",
    "    </tr>\n",
    "    </table>\n",
    "</td>\n",
    "<td>\n",
    "    <table style=\"font-size: 200%; float: center;\">\n",
    "    <thead>\n",
    "        <th style=\"text-align: center;\">Estilos de Línea</th>\n",
    "        <th style=\"text-align: center;\">Descripción</th>\n",
    "    </thead>\n",
    "    <tr>\n",
    "        <td style=\"text-align: center;\"><code>\"-\"</code></td>\n",
    "        <td style=\"text-align: center;\">Línea Continua</td>\n",
    "    </tr>\n",
    "    <tr>\n",
    "        <td style=\"text-align: center;\"><code>\"--\"</code></td>\n",
    "        <td style=\"text-align: center;\">Línea Segmentada</td>\n",
    "    </tr>\n",
    "    <tr>\n",
    "        <td style=\"text-align: center;\"><code>\"-.\"</code></td>\n",
    "        <td style=\"text-align: center;\">Linea Segmento-Punteada</td>\n",
    "    </tr>\n",
    "    <tr>\n",
    "        <td style=\"text-align: center;\"><code>\":\"</code></td>\n",
    "        <td style=\"text-align: center;\">Línea Punteada</td>\n",
    "    </tr>\n",
    "    </table>\n",
    "    <table style=\"font-size: 200%; float: center;\">\n",
    "    <thead>\n",
    "        <th style=\"text-align: center;\">Color</th>\n",
    "        <th style=\"text-align: center;\">Descripción</th>\n",
    "    </thead>\n",
    "    <tr>\n",
    "        <td style=\"text-align: center;\"><code>\"b\"</code></td>\n",
    "        <td style=\"text-align: center;\">Azul</td>\n",
    "    </tr>\n",
    "    <tr>\n",
    "        <td style=\"text-align: center;\"><code>\"g\"</code></td>\n",
    "        <td style=\"text-align: center;\">Verde</td>\n",
    "    </tr>\n",
    "    <tr>\n",
    "        <td style=\"text-align: center;\"><code>\"r\"</code></td>\n",
    "        <td style=\"text-align: center;\">Rojo</td>\n",
    "    </tr>\n",
    "    <tr>\n",
    "        <td style=\"text-align: center;\"><code>\"c\"</code></td>\n",
    "        <td style=\"text-align: center;\">Cyan</td>\n",
    "    </tr>\n",
    "    <tr>\n",
    "        <td style=\"text-align: center;\"><code>\"m\"</code></td>\n",
    "        <td style=\"text-align: center;\">Magenta</td>\n",
    "    </tr>\n",
    "    <tr>\n",
    "        <td style=\"text-align: center;\"><code>\"y\"</code></td>\n",
    "        <td style=\"text-align: center;\">Amarillo</td>\n",
    "    </tr>\n",
    "    <tr>\n",
    "        <td style=\"text-align: center;\"><code>\"k\"</code></td>\n",
    "        <td style=\"text-align: center;\">Negro</td>\n",
    "    </tr>\n",
    "    <tr>\n",
    "        <td style=\"text-align: center;\"><code>\"w\"</code></td>\n",
    "        <td style=\"text-align: center;\">Blanco</td>\n",
    "    </tr>\n",
    "    </table>\n",
    "</td>\n",
    "</table>"
   ]
  },
  {
   "cell_type": "markdown",
   "id": "70d18360",
   "metadata": {
    "slideshow": {
     "slide_type": "slide"
    }
   },
   "source": [
    "## Múltiples Curvas en un Gráfico\n",
    "\n",
    "* Podemos usar `range()` para poder generar secuencias de números enteros y así gráficar varias curvas en un mismo plano.\n",
    "* Si se quiere generar secuencias de números con mayor precisión que la que entrega `range()`, se pueden usar los arreglos de `numpy`.\n",
    "* `numpy` es una biblioteca númerica-matemática científica de gran precisión.\n",
    "* La función de rango en `numpy` se llama `arange` y genera un tipo de dato `ndarray`, que es una lista con un solo tipo de dato. \n",
    "* Son más eficientes en el uso de memoria que las listas."
   ]
  },
  {
   "cell_type": "markdown",
   "id": "e6f7a951",
   "metadata": {
    "slideshow": {
     "slide_type": "slide"
    }
   },
   "source": [
    "### Ejemplo 2: ```.pyplot``` de varias curvas usando `numpy.arange()`."
   ]
  },
  {
   "cell_type": "code",
   "execution_count": null,
   "id": "d5584b80",
   "metadata": {
    "slideshow": {
     "slide_type": "fragment"
    }
   },
   "outputs": [],
   "source": [
    "from numpy import arange\n",
    "import matplotlib.pyplot as plt #from matplotlib import pyplot as plt\n",
    "\n",
    "t = arange(-5, 5.2, 0.5) #lo mismo que range() pero con floats :o!!!\n",
    "print(type(t)) #esto es un array de numpy, soporta floats!\n",
    "\n",
    "plt.figure(dpi=100) #resolución de figura (implica tamaño)\n",
    "\n",
    "plt.plot(t, t, 'r.--', t, t**2, 'bs-', t, t**3, 'g^:')\n",
    "#primeros 3 argumentos: línea roja con puntos y segmentada\n",
    "#segundos 3 argumentos: línea azul con cuadrados y continua\n",
    "#últimos 3 argumetnos: linea verde con triángulos y punteada\n",
    "plt.axis([-5,5,-50,50])\n",
    "\n",
    "plt.ylabel(\"Algunos numeritos en el eje y\")\n",
    "plt.xlabel(\"Algunos numeritos en el eje x\")\n",
    "plt.show()"
   ]
  },
  {
   "cell_type": "markdown",
   "id": "4082bc4f",
   "metadata": {
    "slideshow": {
     "slide_type": "slide"
    }
   },
   "source": [
    "## Formato de Datos: Parámetros de ```.plot()```\n",
    "\n",
    "* Se pueden entregar a la función ```plot()``` parámetros para mayor detalle de formato.\n",
    "* Se le pasan como *keyword arguments* o *parámetros por defecto* (véase prox. slide):\n",
    "    * Pares: argumento=valor.\n",
    "* Por ejemplo, se puede determinar ası́ un color para las lı́neas y otro diferente para los marcadores."
   ]
  },
  {
   "cell_type": "code",
   "execution_count": null,
   "id": "f510cdbb",
   "metadata": {
    "slideshow": {
     "slide_type": "fragment"
    }
   },
   "outputs": [],
   "source": [
    "from matplotlib import pyplot as plt\n",
    "plt.figure(dpi=100)\n",
    "plt.plot([1,2,3,4],[1,4,9,16], \n",
    "         'rH-.', \n",
    "         #color=\"forestgreen\", \n",
    "         markerfacecolor=\"#18246e\", \n",
    "         lw=2.5, #linewidth\n",
    "         ms=10) #markersize\n",
    "plt.axis([0,6,0,20])\n",
    "plt.show()"
   ]
  },
  {
   "cell_type": "markdown",
   "id": "028485ba",
   "metadata": {
    "slideshow": {
     "slide_type": "slide"
    }
   },
   "source": [
    "## Múltiples Gráficos\n",
    "\n",
    "* Originalmente nuestros gráficos son **figuras**. Una figura se define usando ```plt.figure()```, y permite puede elegir si estará compuesta por un o varios gráficos. \n",
    "* Para añadir un (sub)gráfico a nuestra figura usaremos el método ```.add_subplot()```.\n",
    "* Podemos usar ```.plot()``` por cada subgráfico y así separar curvas por gráfico si es que lo deseamos."
   ]
  },
  {
   "cell_type": "markdown",
   "id": "e7dae1bd",
   "metadata": {
    "slideshow": {
     "slide_type": "slide"
    }
   },
   "source": [
    "### Ejemplo 3: Dos figuras con un gráfico cada una."
   ]
  },
  {
   "cell_type": "code",
   "execution_count": null,
   "id": "7e840802",
   "metadata": {
    "slideshow": {
     "slide_type": "fragment"
    }
   },
   "outputs": [],
   "source": [
    "import matplotlib.pyplot as plt\n",
    "\n",
    "### figura1\n",
    "fig1 = plt.figure(dpi=100)\n",
    "ax1 = fig1.add_subplot(1,1,1) #1 fila, 1 columna y gráfico 1.\n",
    "ax1.plot([1,2,3,4], [1,4,9,16], 'o--', color=\"orchid\", markerfacecolor=\"lightgreen\", lw=2, ms=10)\n",
    "ax1.axis([0,5,0,17])\n",
    "\n",
    "### figura2\n",
    "fig2 = plt.figure(dpi=100)\n",
    "ax2 = fig2.add_subplot(1,1,1) #1 fila, 1 columna y gráfico 1.\n",
    "ax2.plot([1,2,3,4], [1,2,3,4], 'v-', color=\"skyblue\", markerfacecolor=\"magenta\", linewidth=3, ms=10)\n",
    "ax2.plot([1,2,3,4], [2,4,6,8], 'D-.', color=\"darkblue\", markerfacecolor=\"violet\", lw=2, ms=7)\n",
    "#como se definió un solo gráfico, ambas curvas van en el mismo plano.\n",
    "ax2.axis([0,6,0,10])\n",
    "\n",
    "plt.show()"
   ]
  },
  {
   "cell_type": "markdown",
   "id": "78554644",
   "metadata": {
    "slideshow": {
     "slide_type": "slide"
    }
   },
   "source": [
    "### Ejemplo 3: Una figura con dos gráficos."
   ]
  },
  {
   "cell_type": "code",
   "execution_count": null,
   "id": "52cb7ffc",
   "metadata": {
    "slideshow": {
     "slide_type": "fragment"
    }
   },
   "outputs": [],
   "source": [
    "import matplotlib.pyplot as plt\n",
    "\n",
    "### figura\n",
    "fig1 = plt.figure(dpi = 100)\n",
    "### subgráfico 1\n",
    "ax1 = fig1.add_subplot(1,2,1) #1 fila, 2 columna y 1 (sub)gráfico 1. Puede tener 2 (sub)gráficos\n",
    "ax1.plot([1,2,3,4], [1,4,9,16], 'o--', color=\"orchid\", markerfacecolor=\"lightgreen\")\n",
    "ax1.axis([0,6,0,20])\n",
    "\n",
    "### subgrafico 2\n",
    "ax2 = fig1.add_subplot(1,2,2) #1 fila, 2 columnas (debe ser igual que lo de arriba) y (sub)gráfico 2.\n",
    "ax2.plot([1,2,3,4], [1,2,3,4], 'v-', color=\"skyblue\", markerfacecolor=\"magenta\", linewidth=3)\n",
    "ax2.plot([1,2,3,4], [2,4,6,8], 'D-.', color=\"cyan\", markerfacecolor=\"purple\", lw=2)\n",
    "#como estamos trabajando en el segundo subgráfico, ambas curvas van en éste.\n",
    "ax2.axis([0,6,0,10])\n",
    "\n",
    "plt.show()"
   ]
  },
  {
   "cell_type": "markdown",
   "id": "2d1e235a",
   "metadata": {
    "slideshow": {
     "slide_type": "slide"
    }
   },
   "source": [
    "## Texto en Gráficos\n",
    "\n",
    "* La identificación textual de elementos de los gráficos es muy necesaria. `matplotlib` incluye la capacidad de colocar texto donde estimemos conveniente dentro de un gráfico."
   ]
  },
  {
   "cell_type": "code",
   "execution_count": null,
   "id": "01ad8f4a",
   "metadata": {
    "slideshow": {
     "slide_type": "fragment"
    }
   },
   "outputs": [],
   "source": [
    "from matplotlib import pyplot as plt\n",
    "\n",
    "fig = plt.figure(dpi=100)\n",
    "fig.suptitle(\"Titulo superior en negrita (bold)\", fontsize=14, fontweight=\"bold\")\n",
    "\n",
    "ax = fig.add_subplot(111)\n",
    "fig.subplots_adjust(top=0.85) #ajusta posición de gráfico\n",
    "\n",
    "ax.set_title(\"Titulo de ejes, x vs y\")\n",
    "ax.set_xlabel(\"Etiquta de eje x\")\n",
    "ax.set_ylabel(\"Etiquta de eje y\")\n",
    "\n",
    "#Texto a todo colooooooor!\n",
    "ax.text(1.5,8, 'texto a todo color en coordenadas (1.5, 8)', color=\"darkgreen\", fontsize=12)\n",
    "\n",
    "#Graficamos un pentagono y una linea segmentada\n",
    "ax.plot([2],[1], 'p', ms=10)\n",
    "ax.plot([1,2,3,4,5,6,7,8], [0.6,3,2,1,4,5,6,1], 'rd--', lw=2)\n",
    "\n",
    "# Generamos anotación con una flecha! flecha coordenada (2,1), texto de flecha coordenada (3,1)\n",
    "ax.annotate('Soy un pentagono indefenso', xy=(2,1), xytext=(4,7), arrowprops=dict(facecolor='black', shrink=0.02))\n",
    "\n",
    "ax.axis([0,10,0,10])\n",
    "plt.show()"
   ]
  },
  {
   "cell_type": "markdown",
   "id": "c0d82167",
   "metadata": {
    "slideshow": {
     "slide_type": "slide"
    }
   },
   "source": [
    "## Otros tipos de Gráficos: Torta\n"
   ]
  },
  {
   "cell_type": "code",
   "execution_count": 17,
   "id": "fb54045f",
   "metadata": {
    "slideshow": {
     "slide_type": "fragment"
    }
   },
   "outputs": [
    {
     "data": {
      "image/png": "[encoded data removed]",
      "text/plain": [
       "<Figure size 900x600 with 1 Axes>"
      ]
     },
     "metadata": {},
     "output_type": "display_data"
    }
   ],
   "source": [
    "import matplotlib.pyplot as plt\n",
    "\n",
    "#Gráfico de torta; cortes ordenados y gráficados contra reloj.\n",
    "size = [15, 40, 60, 20] \n",
    "etiquetas = [\"Tortugas\",\"Hamsters\",\"Doggos\",\"Cattos\"]\n",
    "explotar = [0, 0,0, 0] #sirve para destacar alguna porcion. El valor es cuanto se separa de la torta.\n",
    "\n",
    "fig1 = plt.figure(dpi=150)\n",
    "ax1 = fig1.add_subplot(1,1,1) \n",
    "\n",
    "ax1.pie(size, labels=etiquetas, explode=explotar, autopct=\"%.2f%%\", shadow = False, startangle=-90)\n",
    "# autopct = porcentaje automático; shadow = grafico con sombra; startangle = ángulo de inicio\n",
    "# %.2f%% formato de decimal, viene del lenguaje C. Sí, python está escrito en C.\n",
    "\n",
    "ax1.axis(\"equal\") #asegura proporcion igualitaria, vale decir, suma de porcentajes 100% (círculo)\n",
    "\n",
    "plt.show()"
   ]
  },
  {
   "cell_type": "markdown",
   "id": "6bb8b56c",
   "metadata": {
    "slideshow": {
     "slide_type": "slide"
    }
   },
   "source": [
    "## Otros tipos de Gráficos: Barras"
   ]
  },
  {
   "cell_type": "code",
   "execution_count": null,
   "id": "85769e49",
   "metadata": {
    "slideshow": {
     "slide_type": "fragment"
    }
   },
   "outputs": [],
   "source": [
    "import matplotlib.pyplot as plt\n",
    "from numpy import arange\n",
    "from numpy.random import randint\n",
    "\n",
    "fig1 = plt.figure(dpi=150)\n",
    "ax1 = fig1.add_subplot(111)\n",
    "\n",
    "num = 10\n",
    "x = arange(num) #rango de 0 a 10\n",
    "#print(x)\n",
    "\n",
    "ya = randint(0,50,num) #lista de numeros aleatoreos entre 0 y 50\n",
    "yb = randint(0,50,num)\n",
    "#print(ya, yb)\n",
    "\n",
    "sep = 0.3\n",
    "\n",
    "#barras - parametro 1: valores de x; parametro 2: valores en y; parametro 3: ancho de barra.\n",
    "#print(x, ya, yb)\n",
    "ax1.bar(x, ya, sep, color='lightblue')\n",
    "#ax1.plot(x, ya, 'gD--', color='green')\n",
    "ax1.bar(x+sep, yb, sep, color='darkblue')\n",
    "\n",
    "ax1.set_xticks(x+sep) #posición de etiquetas en x\n",
    "\n",
    "ax1.set_xticklabels([\"c1\",\"c2\",\"c3\",\"c4\",\"c5\",\"c6\",\"c7\",\"c8\",\"c9\",\"c10\"]) #nombre de etiquetas en x\n",
    "\n",
    "plt.show()"
   ]
  },
  {
   "cell_type": "markdown",
   "id": "23104e86",
   "metadata": {
    "slideshow": {
     "slide_type": "slide"
    }
   },
   "source": [
    "## Otros tipos de Gráficos: Histograma\n",
    "\n",
    "\n",
    "* Podemos mostrar nuestros datos como un histograma."
   ]
  },
  {
   "cell_type": "code",
   "execution_count": null,
   "id": "0c203864",
   "metadata": {
    "slideshow": {
     "slide_type": "fragment"
    }
   },
   "outputs": [],
   "source": [
    "import matplotlib.pyplot as plt\n",
    "from numpy.random import seed, randn\n",
    "\n",
    "#seed(1) #semilla aleatoria fija, permite generar siempre los mismos números.\n",
    "\n",
    "mu = 100 #media \n",
    "sigma = 15 #desviación estándar \n",
    "\n",
    "#Muestro desde distribución normal (0,1) adaptada a media y dev.est. de nuestro caso\n",
    "x = mu + sigma * randn(2000)\n",
    "print(randn(2000))\n",
    "\n",
    "#datos histograma\n",
    "num_bins = 10 #casillas/divisiones del histograma\n",
    "fig1 = plt.figure(dpi=100)\n",
    "ax1 = fig1.add_subplot(1,1,1)\n",
    "\n",
    "#Histograma - 1er argumento: datos del muestreo; 2do argumento: numero de divisiones, 3ero: normalizacion.\n",
    "#density = True, indica que suma de alturas de las divisiones es 1.\n",
    "ax1.hist(x, num_bins, density=True)\n",
    "\n",
    "ax1.set_xlabel(\"IQ\")\n",
    "ax1.set_ylabel(\"Probabilidad\")\n",
    "ax1.set_title(\"Histograma de IQ\")\n",
    "\n",
    "plt.show()"
   ]
  },
  {
   "cell_type": "markdown",
   "id": "657fe8f3",
   "metadata": {
    "slideshow": {
     "slide_type": "slide"
    }
   },
   "source": [
    "## Documentación y mucho más\n",
    "\n",
    "* Existen muchos otros gráficos y código disponible para reutilizar en:\n",
    "\n",
    "<h1><center> <a href=\"https://matplotlib.org/gallery.html\">https://matplotlib.org/gallery.html</a></center></h1>"
   ]
  },
  {
   "cell_type": "markdown",
   "id": "41b7842b",
   "metadata": {
    "slideshow": {
     "slide_type": "slide"
    }
   },
   "source": [
    "# Seaborn\n",
    "\n",
    "- Es una biblioteca Python para visualización de datos basada en Matplotlib. \n",
    "- Provee una interfaz de alto nivel para la generación de gráficos atractivos e informativos\n",
    "- Si está trabajando en su entorno local, previo a su importación debe ser **instalada** \n",
    "    - ```pip install seaborn``` si usa ```pip```\n",
    "    - ```conda install seaborn``` si usa ```conda```"
   ]
  },
  {
   "cell_type": "code",
   "execution_count": 1,
   "id": "bae30717",
   "metadata": {
    "slideshow": {
     "slide_type": "slide"
    }
   },
   "outputs": [
    {
     "data": {
      "text/html": [
       "<div>\n",
       "<style scoped>\n",
       "    .dataframe tbody tr th:only-of-type {\n",
       "        vertical-align: middle;\n",
       "    }\n",
       "\n",
       "    .dataframe tbody tr th {\n",
       "        vertical-align: top;\n",
       "    }\n",
       "\n",
       "    .dataframe thead th {\n",
       "        text-align: right;\n",
       "    }\n",
       "</style>\n",
       "<table border=\"1\" class=\"dataframe\">\n",
       "  <thead>\n",
       "    <tr style=\"text-align: right;\">\n",
       "      <th></th>\n",
       "      <th>ID</th>\n",
       "      <th>Age</th>\n",
       "      <th>Height</th>\n",
       "      <th>Team</th>\n",
       "      <th>NOC</th>\n",
       "      <th>Games</th>\n",
       "      <th>Year</th>\n",
       "      <th>Season</th>\n",
       "      <th>City</th>\n",
       "      <th>Sport</th>\n",
       "      <th>Event</th>\n",
       "      <th>Medal</th>\n",
       "    </tr>\n",
       "  </thead>\n",
       "  <tbody>\n",
       "    <tr>\n",
       "      <th>0</th>\n",
       "      <td>5</td>\n",
       "      <td>21.0</td>\n",
       "      <td>185.0</td>\n",
       "      <td>Netherlands</td>\n",
       "      <td>NED</td>\n",
       "      <td>1988 Winter</td>\n",
       "      <td>1988</td>\n",
       "      <td>Winter</td>\n",
       "      <td>Calgary</td>\n",
       "      <td>Speed Skating</td>\n",
       "      <td>Speed Skating Women's 500 metres</td>\n",
       "      <td>NaN</td>\n",
       "    </tr>\n",
       "    <tr>\n",
       "      <th>1</th>\n",
       "      <td>5</td>\n",
       "      <td>21.0</td>\n",
       "      <td>185.0</td>\n",
       "      <td>Netherlands</td>\n",
       "      <td>NED</td>\n",
       "      <td>1988 Winter</td>\n",
       "      <td>1988</td>\n",
       "      <td>Winter</td>\n",
       "      <td>Calgary</td>\n",
       "      <td>Speed Skating</td>\n",
       "      <td>Speed Skating Women's 1,000 metres</td>\n",
       "      <td>NaN</td>\n",
       "    </tr>\n",
       "    <tr>\n",
       "      <th>2</th>\n",
       "      <td>5</td>\n",
       "      <td>25.0</td>\n",
       "      <td>185.0</td>\n",
       "      <td>Netherlands</td>\n",
       "      <td>NED</td>\n",
       "      <td>1992 Winter</td>\n",
       "      <td>1992</td>\n",
       "      <td>Winter</td>\n",
       "      <td>Albertville</td>\n",
       "      <td>Speed Skating</td>\n",
       "      <td>Speed Skating Women's 500 metres</td>\n",
       "      <td>NaN</td>\n",
       "    </tr>\n",
       "    <tr>\n",
       "      <th>3</th>\n",
       "      <td>5</td>\n",
       "      <td>25.0</td>\n",
       "      <td>185.0</td>\n",
       "      <td>Netherlands</td>\n",
       "      <td>NED</td>\n",
       "      <td>1992 Winter</td>\n",
       "      <td>1992</td>\n",
       "      <td>Winter</td>\n",
       "      <td>Albertville</td>\n",
       "      <td>Speed Skating</td>\n",
       "      <td>Speed Skating Women's 1,000 metres</td>\n",
       "      <td>NaN</td>\n",
       "    </tr>\n",
       "    <tr>\n",
       "      <th>4</th>\n",
       "      <td>5</td>\n",
       "      <td>27.0</td>\n",
       "      <td>185.0</td>\n",
       "      <td>Netherlands</td>\n",
       "      <td>NED</td>\n",
       "      <td>1994 Winter</td>\n",
       "      <td>1994</td>\n",
       "      <td>Winter</td>\n",
       "      <td>Lillehammer</td>\n",
       "      <td>Speed Skating</td>\n",
       "      <td>Speed Skating Women's 500 metres</td>\n",
       "      <td>NaN</td>\n",
       "    </tr>\n",
       "  </tbody>\n",
       "</table>\n",
       "</div>"
      ],
      "text/plain": [
       "   ID   Age  Height         Team  NOC        Games  Year  Season         City  \\\n",
       "0   5  21.0   185.0  Netherlands  NED  1988 Winter  1988  Winter      Calgary   \n",
       "1   5  21.0   185.0  Netherlands  NED  1988 Winter  1988  Winter      Calgary   \n",
       "2   5  25.0   185.0  Netherlands  NED  1992 Winter  1992  Winter  Albertville   \n",
       "3   5  25.0   185.0  Netherlands  NED  1992 Winter  1992  Winter  Albertville   \n",
       "4   5  27.0   185.0  Netherlands  NED  1994 Winter  1994  Winter  Lillehammer   \n",
       "\n",
       "           Sport                               Event Medal  \n",
       "0  Speed Skating    Speed Skating Women's 500 metres   NaN  \n",
       "1  Speed Skating  Speed Skating Women's 1,000 metres   NaN  \n",
       "2  Speed Skating    Speed Skating Women's 500 metres   NaN  \n",
       "3  Speed Skating  Speed Skating Women's 1,000 metres   NaN  \n",
       "4  Speed Skating    Speed Skating Women's 500 metres   NaN  "
      ]
     },
     "execution_count": 1,
     "metadata": {},
     "output_type": "execute_result"
    }
   ],
   "source": [
    "# Ten en cuenta que este cuaderno también está importando la biblioteca seaborn\n",
    "import matplotlib.pyplot as plt\n",
    "import seaborn as sns\n",
    "import pandas as pd\n",
    "import numpy as np\n",
    "\n",
    "filename = 'athleteEventsNoPersonal.csv'\n",
    "df = pd.read_csv(filename)\n",
    "df.head()"
   ]
  },
  {
   "cell_type": "code",
   "execution_count": 2,
   "id": "d5064fbb",
   "metadata": {
    "slideshow": {
     "slide_type": "fragment"
    }
   },
   "outputs": [
    {
     "data": {
      "text/plain": [
       "NOC\n",
       "BUR    199.000000\n",
       "BIZ    199.000000\n",
       "BEN    192.000000\n",
       "GAB    190.000000\n",
       "CAY    188.000000\n",
       "CRO    187.125000\n",
       "KOS    187.000000\n",
       "LAT    187.000000\n",
       "ISL    187.000000\n",
       "VAN    187.000000\n",
       "SRB    186.782609\n",
       "LTU    186.600000\n",
       "TGA    186.500000\n",
       "BIH    186.000000\n",
       "TKM    186.000000\n",
       "CIV    185.000000\n",
       "BOT    185.000000\n",
       "DJI    185.000000\n",
       "IRI    184.800000\n",
       "PLW    184.000000\n",
       "Name: Height, dtype: float64"
      ]
     },
     "execution_count": 2,
     "metadata": {},
     "output_type": "execute_result"
    }
   ],
   "source": [
    "yearFilter = df['Year'] == 2016\n",
    "top20Height = df.loc[yearFilter, :].groupby(['NOC'])['Height'].mean().sort_values(ascending = False).head(20)\n",
    "top20Height"
   ]
  },
  {
   "cell_type": "code",
   "execution_count": 3,
   "id": "11785df9",
   "metadata": {
    "slideshow": {
     "slide_type": "fragment"
    }
   },
   "outputs": [
    {
     "data": {
      "image/png": "[encoded data removed]",
      "text/plain": [
       "<Figure size 432x288 with 1 Axes>"
      ]
     },
     "metadata": {
      "needs_background": "light"
     },
     "output_type": "display_data"
    }
   ],
   "source": [
    "# Convierta datos de pandas para trazar usando matplotlib\n",
    "# Ten en cuenta que no es el gráfico más legible\n",
    "plt.bar(top20Height.index, top20Height.values);"
   ]
  },
  {
   "cell_type": "code",
   "execution_count": 4,
   "id": "208253d4",
   "metadata": {
    "slideshow": {
     "slide_type": "fragment"
    }
   },
   "outputs": [
    {
     "data": {
      "image/png": "[encoded data removed]",
      "text/plain": [
       "<Figure size 432x288 with 1 Axes>"
      ]
     },
     "metadata": {
      "needs_background": "light"
     },
     "output_type": "display_data"
    }
   ],
   "source": [
    "# Con seaborn, no es necesario convertir datos de pandas si tiene un marco de datos,\n",
    "# sin embargo, nuestros datos son una serie pandas, debes convertirlos.\n",
    "# Ten en cuenta que no es el gráfico más legible\n",
    "sns.barplot(x = top20Height.index, y = top20Height.values);"
   ]
  },
  {
   "cell_type": "code",
   "execution_count": 5,
   "id": "d55ba384",
   "metadata": {
    "slideshow": {
     "slide_type": "fragment"
    }
   },
   "outputs": [
    {
     "data": {
      "image/png": "[encoded data removed]",
      "text/plain": [
       "<Figure size 432x288 with 1 Axes>"
      ]
     },
     "metadata": {
      "needs_background": "light"
     },
     "output_type": "display_data"
    }
   ],
   "source": [
    "sns.barplot(x = top20Height.index, y = top20Height.values);\n",
    "plt.xticks(rotation = 90);"
   ]
  },
  {
   "cell_type": "code",
   "execution_count": 7,
   "id": "bf877836",
   "metadata": {},
   "outputs": [
    {
     "data": {
      "text/plain": [
       "<AxesSubplot:xlabel='NOC'>"
      ]
     },
     "execution_count": 7,
     "metadata": {},
     "output_type": "execute_result"
    },
    {
     "data": {
      "image/png": "[encoded data removed]",
      "text/plain": [
       "<Figure size 432x288 with 1 Axes>"
      ]
     },
     "metadata": {
      "needs_background": "light"
     },
     "output_type": "display_data"
    }
   ],
   "source": [
    "top20Height.plot.bar()"
   ]
  },
  {
   "cell_type": "code",
   "execution_count": 11,
   "id": "1dfe3cf5",
   "metadata": {},
   "outputs": [
    {
     "data": {
      "text/plain": [
       "array([[5, 21.0, 185.0, ..., 'Speed Skating',\n",
       "        \"Speed Skating Women's 500 metres\", nan],\n",
       "       [5, 21.0, 185.0, ..., 'Speed Skating',\n",
       "        \"Speed Skating Women's 1,000 metres\", nan],\n",
       "       [5, 25.0, 185.0, ..., 'Speed Skating',\n",
       "        \"Speed Skating Women's 500 metres\", nan],\n",
       "       ...,\n",
       "       [135570, 27.0, 176.0, ..., 'Ski Jumping',\n",
       "        \"Ski Jumping Men's Large Hill, Team\", nan],\n",
       "       [135571, 30.0, 185.0, ..., 'Bobsleigh', \"Bobsleigh Men's Four\",\n",
       "        nan],\n",
       "       [135571, 34.0, 185.0, ..., 'Bobsleigh', \"Bobsleigh Men's Four\",\n",
       "        nan]], dtype=object)"
      ]
     },
     "execution_count": 11,
     "metadata": {},
     "output_type": "execute_result"
    }
   ],
   "source": [
    "df.to_numpy()"
   ]
  },
  {
   "cell_type": "markdown",
   "id": "4b83f2fd",
   "metadata": {
    "slideshow": {
     "slide_type": "slide"
    }
   },
   "source": [
    "# Actividad 2"
   ]
  },
  {
   "cell_type": "markdown",
   "id": "de761bc5",
   "metadata": {
    "slideshow": {
     "slide_type": "fragment"
    }
   },
   "source": [
    "- En el archivo [notas-genero.csv](notas-genero.csv), se encuentran almacenados los nombres, nota final y genero de los estudiantes que han cursado una asignatura. Realice lo siguiente (preocúpese de la estética):\n",
    "\n",
    "    1. Cargue la información de dicho archivo en un dataframe pandas.\n",
    "    2. Con la información extraída, genere un **histograma** de las notas del curso, mostrando en texto en el gráfico la media y la desviación estándar.\n",
    "    3. Ordene las notas y genere **un gráfico** (el que ud estime conveniente) de las notas ordenadas de menor a mayor.\n",
    "    4. Genere **dos gráficos de torta** en una misma figura, mostrando el porcentaje de hombres y mujeres en el curso a la izquierda, y a la derecha el porcentaje de aprobados y reprobados."
   ]
  },
  {
   "cell_type": "code",
   "execution_count": null,
   "id": "2a0a3261",
   "metadata": {
    "slideshow": {
     "slide_type": "skip"
    }
   },
   "outputs": [],
   "source": [
    "from IPython.core.display import HTML\n",
    "HTML(\"\"\"\n",
    "<style>\n",
    ".output_png {\n",
    "    display: table-cell;\n",
    "    text-align: center;\n",
    "    vertical-align: middle;\n",
    "}\n",
    "</style>\n",
    "\"\"\")\n",
    "#codigo extra, para que imagenes de matplotlib\n",
    "#estén centradas en las diapositivas, ejecutar antes de lanzar los ejemplos."
   ]
  }
 ],
 "metadata": {
  "celltoolbar": "Slideshow",
  "kernelspec": {
   "display_name": "Python 3 (ipykernel)",
   "language": "python",
   "name": "python3"
  },
  "language_info": {
   "codemirror_mode": {
    "name": "ipython",
    "version": 3
   },
   "file_extension": ".py",
   "mimetype": "text/x-python",
   "name": "python",
   "nbconvert_exporter": "python",
   "pygments_lexer": "ipython3",
   "version": "3.8.12"
  }
 },
 "nbformat": 4,
 "nbformat_minor": 5
}
