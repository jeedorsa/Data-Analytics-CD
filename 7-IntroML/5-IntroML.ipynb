{
 "cells": [
  {
   "cell_type": "markdown",
   "id": "656c7568",
   "metadata": {
    "slideshow": {
     "slide_type": "slide"
    }
   },
   "source": [
    "<br/>\n",
    "<img src=\"images/cd-logo-blue-600x600.png\" alt=\"\" width=\"130px\" align=\"left\"/>\n",
    "<img src=\"images/cd-logo-blue-600x600.png\" alt=\"\" width=\"130px\" align=\"right\"/>\n",
    "<div align=\"center\">\n",
    "<h2>Bootcamp Data Analitycs - Módulo 2</h2><br/>\n",
    "<h1>Introducción a Machine Learning</h1>\n",
    "<br/><br/>\n",
    "    <b>Instructor Principal:Jesús Ortiz jortiz@codingdojo.cl<br/><br/>\n",
    "    <b>Coding Dojo</b>\n",
    "</div>\n",
    "<br>\n",
    "Fuente: \"Hands-on Machine Learning with Scikit-Learn, Keras & TensorFlow\""
   ]
  },
  {
   "cell_type": "markdown",
   "id": "f835139e",
   "metadata": {
    "slideshow": {
     "slide_type": "slide"
    }
   },
   "source": [
    "# ¿Qué es Machine Learning?"
   ]
  },
  {
   "cell_type": "markdown",
   "id": "b0c05573",
   "metadata": {
    "slideshow": {
     "slide_type": "fragment"
    }
   },
   "source": [
    "- Machine Learning (de ahora en adelante, **ML**), se define como el conjunto de técnicas a través de los cuales un computador puede aprender de los datos."
   ]
  },
  {
   "cell_type": "markdown",
   "id": "f8fdd5da",
   "metadata": {
    "slideshow": {
     "slide_type": "fragment"
    }
   },
   "source": [
    "<img src=\"images/diagrama.png\" alt=\"\" width=\"800px\" align=\"center\"/>"
   ]
  },
  {
   "cell_type": "markdown",
   "id": "96b0be25",
   "metadata": {
    "slideshow": {
     "slide_type": "slide"
    }
   },
   "source": [
    "# ¿Por qué utilizar Machine Learning?"
   ]
  },
  {
   "cell_type": "markdown",
   "id": "56575e30",
   "metadata": {
    "slideshow": {
     "slide_type": "fragment"
    }
   },
   "source": [
    "### Ej. Creación de un filtro de spam para correos electrónicos\n",
    "\n",
    "- Aproximación tradicional\n",
    "\n",
    "<img src=\"images/withoutML.png\" alt=\"\" width=\"500px\" align=\"center\"/>"
   ]
  },
  {
   "cell_type": "markdown",
   "id": "043667d3",
   "metadata": {
    "slideshow": {
     "slide_type": "slide"
    }
   },
   "source": [
    "# ¿Por qué utilizar Machine Learning?"
   ]
  },
  {
   "cell_type": "markdown",
   "id": "2a66c42c",
   "metadata": {
    "slideshow": {
     "slide_type": "fragment"
    }
   },
   "source": [
    "### Ej. Creación de un filtro de spam para correos electrónicos\n",
    "\n",
    "- Aproximación de ML\n",
    "\n",
    "<img src=\"images/withML.png\" alt=\"\" width=\"500px\" align=\"center\"/>"
   ]
  },
  {
   "cell_type": "markdown",
   "id": "7b539a4e",
   "metadata": {
    "slideshow": {
     "slide_type": "slide"
    }
   },
   "source": [
    "# Tipos de algoritmos de ML"
   ]
  },
  {
   "cell_type": "markdown",
   "id": "b0290627",
   "metadata": {
    "slideshow": {
     "slide_type": "fragment"
    }
   },
   "source": [
    "Existen distintas clasificaciones\n",
    "\n",
    "- Algoritmos entrenados con o sin supervisión humana:\n",
    "    * Supervisados\n",
    "    * No supervisados\n",
    "    * Semi supervisados\n",
    "    * Por refuerzo\n",
    "- Algoritmos de aprendizaje incremental:\n",
    "    * Online\n",
    "    * Offline/por lote (batch)\n",
    "- Algoritmos de detección de patrones o de comparación:\n",
    "    * Basados en instancia\n",
    "    * Basados en modelo"
   ]
  },
  {
   "cell_type": "markdown",
   "id": "d23b7f6b",
   "metadata": {
    "slideshow": {
     "slide_type": "slide"
    }
   },
   "source": [
    "# Bibliotecas para ML python"
   ]
  },
  {
   "cell_type": "markdown",
   "id": "11337e15",
   "metadata": {
    "slideshow": {
     "slide_type": "fragment"
    }
   },
   "source": [
    "<img src=\"images/bibliotecas.png\" alt=\"\" width=\"800px\" align=\"center\"/>"
   ]
  },
  {
   "cell_type": "markdown",
   "id": "6372e197",
   "metadata": {
    "slideshow": {
     "slide_type": "slide"
    }
   },
   "source": [
    "# Scikit-Learn"
   ]
  },
  {
   "cell_type": "markdown",
   "id": "1cf22de9",
   "metadata": {
    "slideshow": {
     "slide_type": "fragment"
    }
   },
   "source": [
    "<img src=\"images/ml-libraries/scikit-learn-logo-notext.png\" alt=\"\" width=\"200px\" align=\"center\"/>"
   ]
  },
  {
   "cell_type": "markdown",
   "id": "c350e5d2",
   "metadata": {
    "slideshow": {
     "slide_type": "fragment"
    }
   },
   "source": [
    "- Biblioteca para ML de código libre\n",
    "- Biblioteca para Python\n",
    "- Soporta múltiples algoritmos tanto supervisados como no supervisados\n",
    "-  Si está trabajando en su entorno local, previo a su importación debe ser **instalada** \n",
    "    - ```pip install scikit-learn``` si usa ```pip```\n",
    "    - ```conda install scikit-learn``` si usa ```conda```"
   ]
  },
  {
   "cell_type": "markdown",
   "id": "e32b3d48",
   "metadata": {
    "slideshow": {
     "slide_type": "slide"
    }
   },
   "source": [
    "# Scikit-Learn: Utilización"
   ]
  },
  {
   "cell_type": "markdown",
   "id": "c7732526",
   "metadata": {
    "slideshow": {
     "slide_type": "fragment"
    }
   },
   "source": [
    "Todo los objetos Scikit-Learn son consistentes entre sí\n",
    "* **Estimadores:** \n",
    "    - Método encargado de la **estimación** de los parámetros asociados al algoritmo. \n",
    "    - Objetos Scikit-Learn incluyen el método *fit()*, cuya entrada es el set de datos utilizados para el cálculo de los parámetros.\n",
    "* **Transformadores:** \n",
    "    - Método encargado de la **transformación** de datos en base a los parámetros calculados por método *fit()*. \n",
    "    - Objetos Scikit-Learn incluyen el método *transform()*, que recibe con los datos a transformar.\n",
    "    - Método *fit_transform()* permite realizar ambos pasos con un solo método.\n",
    "* **Predictores:** \n",
    "    - Método encargado de hacer **predicciones** en base a datos de entrada.\n",
    "    - Objetos Scikit-Learn incluyen el método *predict()*, para realizar predicciones en base a parámetros de entrada.\n",
    "        \n",
    "Cuáles de estos métodos están presentes, dependerá del tipo algoritmo a utilizar.\n",
    "    "
   ]
  },
  {
   "cell_type": "markdown",
   "id": "119bb38a",
   "metadata": {
    "slideshow": {
     "slide_type": "slide"
    }
   },
   "source": [
    "# Escalamiento"
   ]
  },
  {
   "cell_type": "markdown",
   "id": "4b8ce8f9",
   "metadata": {
    "slideshow": {
     "slide_type": "fragment"
    }
   },
   "source": [
    "- Modificación del rango de valores de una característica\n",
    "- Tipos comunes de escalamiento:\n",
    "    * Escalamiento min-max (normalización): Rango entre 0 (mínimo) y 1 (máximo)\n",
    "    * Estandarización: Escalamiento a media cero y varianza unitaria\n",
    "    "
   ]
  },
  {
   "cell_type": "markdown",
   "id": "df8f25fb",
   "metadata": {
    "slideshow": {
     "slide_type": "slide"
    }
   },
   "source": [
    "# Estandarización con Scikit-Learn"
   ]
  },
  {
   "cell_type": "code",
   "execution_count": 1,
   "id": "9ef23081",
   "metadata": {
    "slideshow": {
     "slide_type": "fragment"
    }
   },
   "outputs": [
    {
     "data": {
      "text/html": [
       "<div>\n",
       "<style scoped>\n",
       "    .dataframe tbody tr th:only-of-type {\n",
       "        vertical-align: middle;\n",
       "    }\n",
       "\n",
       "    .dataframe tbody tr th {\n",
       "        vertical-align: top;\n",
       "    }\n",
       "\n",
       "    .dataframe thead th {\n",
       "        text-align: right;\n",
       "    }\n",
       "</style>\n",
       "<table border=\"1\" class=\"dataframe\">\n",
       "  <thead>\n",
       "    <tr style=\"text-align: right;\">\n",
       "      <th></th>\n",
       "      <th>price</th>\n",
       "      <th>area</th>\n",
       "      <th>bedrooms</th>\n",
       "      <th>bathrooms</th>\n",
       "      <th>stories</th>\n",
       "      <th>mainroad</th>\n",
       "      <th>guestroom</th>\n",
       "      <th>basement</th>\n",
       "      <th>hotwaterheating</th>\n",
       "      <th>airconditioning</th>\n",
       "      <th>parking</th>\n",
       "      <th>prefarea</th>\n",
       "      <th>furnishingstatus</th>\n",
       "    </tr>\n",
       "  </thead>\n",
       "  <tbody>\n",
       "    <tr>\n",
       "      <th>0</th>\n",
       "      <td>13300000</td>\n",
       "      <td>7420</td>\n",
       "      <td>4</td>\n",
       "      <td>2</td>\n",
       "      <td>3</td>\n",
       "      <td>yes</td>\n",
       "      <td>no</td>\n",
       "      <td>no</td>\n",
       "      <td>no</td>\n",
       "      <td>yes</td>\n",
       "      <td>2</td>\n",
       "      <td>yes</td>\n",
       "      <td>furnished</td>\n",
       "    </tr>\n",
       "    <tr>\n",
       "      <th>1</th>\n",
       "      <td>12250000</td>\n",
       "      <td>8960</td>\n",
       "      <td>4</td>\n",
       "      <td>4</td>\n",
       "      <td>4</td>\n",
       "      <td>yes</td>\n",
       "      <td>no</td>\n",
       "      <td>no</td>\n",
       "      <td>no</td>\n",
       "      <td>yes</td>\n",
       "      <td>3</td>\n",
       "      <td>no</td>\n",
       "      <td>furnished</td>\n",
       "    </tr>\n",
       "    <tr>\n",
       "      <th>2</th>\n",
       "      <td>12250000</td>\n",
       "      <td>9960</td>\n",
       "      <td>3</td>\n",
       "      <td>2</td>\n",
       "      <td>2</td>\n",
       "      <td>yes</td>\n",
       "      <td>no</td>\n",
       "      <td>yes</td>\n",
       "      <td>no</td>\n",
       "      <td>no</td>\n",
       "      <td>2</td>\n",
       "      <td>yes</td>\n",
       "      <td>semi-furnished</td>\n",
       "    </tr>\n",
       "    <tr>\n",
       "      <th>3</th>\n",
       "      <td>12215000</td>\n",
       "      <td>7500</td>\n",
       "      <td>4</td>\n",
       "      <td>2</td>\n",
       "      <td>2</td>\n",
       "      <td>yes</td>\n",
       "      <td>no</td>\n",
       "      <td>yes</td>\n",
       "      <td>no</td>\n",
       "      <td>yes</td>\n",
       "      <td>3</td>\n",
       "      <td>yes</td>\n",
       "      <td>furnished</td>\n",
       "    </tr>\n",
       "    <tr>\n",
       "      <th>4</th>\n",
       "      <td>11410000</td>\n",
       "      <td>7420</td>\n",
       "      <td>4</td>\n",
       "      <td>1</td>\n",
       "      <td>2</td>\n",
       "      <td>yes</td>\n",
       "      <td>yes</td>\n",
       "      <td>yes</td>\n",
       "      <td>no</td>\n",
       "      <td>yes</td>\n",
       "      <td>2</td>\n",
       "      <td>no</td>\n",
       "      <td>furnished</td>\n",
       "    </tr>\n",
       "    <tr>\n",
       "      <th>...</th>\n",
       "      <td>...</td>\n",
       "      <td>...</td>\n",
       "      <td>...</td>\n",
       "      <td>...</td>\n",
       "      <td>...</td>\n",
       "      <td>...</td>\n",
       "      <td>...</td>\n",
       "      <td>...</td>\n",
       "      <td>...</td>\n",
       "      <td>...</td>\n",
       "      <td>...</td>\n",
       "      <td>...</td>\n",
       "      <td>...</td>\n",
       "    </tr>\n",
       "    <tr>\n",
       "      <th>540</th>\n",
       "      <td>1820000</td>\n",
       "      <td>3000</td>\n",
       "      <td>2</td>\n",
       "      <td>1</td>\n",
       "      <td>1</td>\n",
       "      <td>yes</td>\n",
       "      <td>no</td>\n",
       "      <td>yes</td>\n",
       "      <td>no</td>\n",
       "      <td>no</td>\n",
       "      <td>2</td>\n",
       "      <td>no</td>\n",
       "      <td>unfurnished</td>\n",
       "    </tr>\n",
       "    <tr>\n",
       "      <th>541</th>\n",
       "      <td>1767150</td>\n",
       "      <td>2400</td>\n",
       "      <td>3</td>\n",
       "      <td>1</td>\n",
       "      <td>1</td>\n",
       "      <td>no</td>\n",
       "      <td>no</td>\n",
       "      <td>no</td>\n",
       "      <td>no</td>\n",
       "      <td>no</td>\n",
       "      <td>0</td>\n",
       "      <td>no</td>\n",
       "      <td>semi-furnished</td>\n",
       "    </tr>\n",
       "    <tr>\n",
       "      <th>542</th>\n",
       "      <td>1750000</td>\n",
       "      <td>3620</td>\n",
       "      <td>2</td>\n",
       "      <td>1</td>\n",
       "      <td>1</td>\n",
       "      <td>yes</td>\n",
       "      <td>no</td>\n",
       "      <td>no</td>\n",
       "      <td>no</td>\n",
       "      <td>no</td>\n",
       "      <td>0</td>\n",
       "      <td>no</td>\n",
       "      <td>unfurnished</td>\n",
       "    </tr>\n",
       "    <tr>\n",
       "      <th>543</th>\n",
       "      <td>1750000</td>\n",
       "      <td>2910</td>\n",
       "      <td>3</td>\n",
       "      <td>1</td>\n",
       "      <td>1</td>\n",
       "      <td>no</td>\n",
       "      <td>no</td>\n",
       "      <td>no</td>\n",
       "      <td>no</td>\n",
       "      <td>no</td>\n",
       "      <td>0</td>\n",
       "      <td>no</td>\n",
       "      <td>furnished</td>\n",
       "    </tr>\n",
       "    <tr>\n",
       "      <th>544</th>\n",
       "      <td>1750000</td>\n",
       "      <td>3850</td>\n",
       "      <td>3</td>\n",
       "      <td>1</td>\n",
       "      <td>2</td>\n",
       "      <td>yes</td>\n",
       "      <td>no</td>\n",
       "      <td>no</td>\n",
       "      <td>no</td>\n",
       "      <td>no</td>\n",
       "      <td>0</td>\n",
       "      <td>no</td>\n",
       "      <td>unfurnished</td>\n",
       "    </tr>\n",
       "  </tbody>\n",
       "</table>\n",
       "<p>545 rows × 13 columns</p>\n",
       "</div>"
      ],
      "text/plain": [
       "        price  area  bedrooms  bathrooms  stories mainroad guestroom basement  \\\n",
       "0    13300000  7420         4          2        3      yes        no       no   \n",
       "1    12250000  8960         4          4        4      yes        no       no   \n",
       "2    12250000  9960         3          2        2      yes        no      yes   \n",
       "3    12215000  7500         4          2        2      yes        no      yes   \n",
       "4    11410000  7420         4          1        2      yes       yes      yes   \n",
       "..        ...   ...       ...        ...      ...      ...       ...      ...   \n",
       "540   1820000  3000         2          1        1      yes        no      yes   \n",
       "541   1767150  2400         3          1        1       no        no       no   \n",
       "542   1750000  3620         2          1        1      yes        no       no   \n",
       "543   1750000  2910         3          1        1       no        no       no   \n",
       "544   1750000  3850         3          1        2      yes        no       no   \n",
       "\n",
       "    hotwaterheating airconditioning  parking prefarea furnishingstatus  \n",
       "0                no             yes        2      yes        furnished  \n",
       "1                no             yes        3       no        furnished  \n",
       "2                no              no        2      yes   semi-furnished  \n",
       "3                no             yes        3      yes        furnished  \n",
       "4                no             yes        2       no        furnished  \n",
       "..              ...             ...      ...      ...              ...  \n",
       "540              no              no        2       no      unfurnished  \n",
       "541              no              no        0       no   semi-furnished  \n",
       "542              no              no        0       no      unfurnished  \n",
       "543              no              no        0       no        furnished  \n",
       "544              no              no        0       no      unfurnished  \n",
       "\n",
       "[545 rows x 13 columns]"
      ]
     },
     "execution_count": 1,
     "metadata": {},
     "output_type": "execute_result"
    }
   ],
   "source": [
    "import pandas as pd\n",
    "df = pd.read_csv('data/housing.csv')\n",
    "df"
   ]
  },
  {
   "cell_type": "code",
   "execution_count": 17,
   "id": "8e5eeef2",
   "metadata": {},
   "outputs": [
    {
     "data": {
      "text/html": [
       "<div>\n",
       "<style scoped>\n",
       "    .dataframe tbody tr th:only-of-type {\n",
       "        vertical-align: middle;\n",
       "    }\n",
       "\n",
       "    .dataframe tbody tr th {\n",
       "        vertical-align: top;\n",
       "    }\n",
       "\n",
       "    .dataframe thead th {\n",
       "        text-align: right;\n",
       "    }\n",
       "</style>\n",
       "<table border=\"1\" class=\"dataframe\">\n",
       "  <thead>\n",
       "    <tr style=\"text-align: right;\">\n",
       "      <th></th>\n",
       "      <th>price</th>\n",
       "      <th>area</th>\n",
       "      <th>bedrooms</th>\n",
       "      <th>bathrooms</th>\n",
       "      <th>stories</th>\n",
       "      <th>mainroad</th>\n",
       "      <th>guestroom</th>\n",
       "      <th>basement</th>\n",
       "      <th>hotwaterheating</th>\n",
       "      <th>airconditioning</th>\n",
       "      <th>parking</th>\n",
       "      <th>prefarea</th>\n",
       "      <th>furnishingstatus</th>\n",
       "      <th>precio_escalado</th>\n",
       "    </tr>\n",
       "  </thead>\n",
       "  <tbody>\n",
       "    <tr>\n",
       "      <th>0</th>\n",
       "      <td>13300000</td>\n",
       "      <td>7420</td>\n",
       "      <td>4</td>\n",
       "      <td>2</td>\n",
       "      <td>3</td>\n",
       "      <td>yes</td>\n",
       "      <td>no</td>\n",
       "      <td>no</td>\n",
       "      <td>no</td>\n",
       "      <td>yes</td>\n",
       "      <td>2</td>\n",
       "      <td>yes</td>\n",
       "      <td>furnished</td>\n",
       "      <td>1.000000</td>\n",
       "    </tr>\n",
       "    <tr>\n",
       "      <th>1</th>\n",
       "      <td>12250000</td>\n",
       "      <td>8960</td>\n",
       "      <td>4</td>\n",
       "      <td>4</td>\n",
       "      <td>4</td>\n",
       "      <td>yes</td>\n",
       "      <td>no</td>\n",
       "      <td>no</td>\n",
       "      <td>no</td>\n",
       "      <td>yes</td>\n",
       "      <td>3</td>\n",
       "      <td>no</td>\n",
       "      <td>furnished</td>\n",
       "      <td>0.921053</td>\n",
       "    </tr>\n",
       "    <tr>\n",
       "      <th>2</th>\n",
       "      <td>12250000</td>\n",
       "      <td>9960</td>\n",
       "      <td>3</td>\n",
       "      <td>2</td>\n",
       "      <td>2</td>\n",
       "      <td>yes</td>\n",
       "      <td>no</td>\n",
       "      <td>yes</td>\n",
       "      <td>no</td>\n",
       "      <td>no</td>\n",
       "      <td>2</td>\n",
       "      <td>yes</td>\n",
       "      <td>semi-furnished</td>\n",
       "      <td>0.921053</td>\n",
       "    </tr>\n",
       "    <tr>\n",
       "      <th>3</th>\n",
       "      <td>12215000</td>\n",
       "      <td>7500</td>\n",
       "      <td>4</td>\n",
       "      <td>2</td>\n",
       "      <td>2</td>\n",
       "      <td>yes</td>\n",
       "      <td>no</td>\n",
       "      <td>yes</td>\n",
       "      <td>no</td>\n",
       "      <td>yes</td>\n",
       "      <td>3</td>\n",
       "      <td>yes</td>\n",
       "      <td>furnished</td>\n",
       "      <td>0.918421</td>\n",
       "    </tr>\n",
       "    <tr>\n",
       "      <th>4</th>\n",
       "      <td>11410000</td>\n",
       "      <td>7420</td>\n",
       "      <td>4</td>\n",
       "      <td>1</td>\n",
       "      <td>2</td>\n",
       "      <td>yes</td>\n",
       "      <td>yes</td>\n",
       "      <td>yes</td>\n",
       "      <td>no</td>\n",
       "      <td>yes</td>\n",
       "      <td>2</td>\n",
       "      <td>no</td>\n",
       "      <td>furnished</td>\n",
       "      <td>0.857895</td>\n",
       "    </tr>\n",
       "  </tbody>\n",
       "</table>\n",
       "</div>"
      ],
      "text/plain": [
       "      price  area  bedrooms  bathrooms  stories mainroad guestroom basement  \\\n",
       "0  13300000  7420         4          2        3      yes        no       no   \n",
       "1  12250000  8960         4          4        4      yes        no       no   \n",
       "2  12250000  9960         3          2        2      yes        no      yes   \n",
       "3  12215000  7500         4          2        2      yes        no      yes   \n",
       "4  11410000  7420         4          1        2      yes       yes      yes   \n",
       "\n",
       "  hotwaterheating airconditioning  parking prefarea furnishingstatus  \\\n",
       "0              no             yes        2      yes        furnished   \n",
       "1              no             yes        3       no        furnished   \n",
       "2              no              no        2      yes   semi-furnished   \n",
       "3              no             yes        3      yes        furnished   \n",
       "4              no             yes        2       no        furnished   \n",
       "\n",
       "   precio_escalado  \n",
       "0         1.000000  \n",
       "1         0.921053  \n",
       "2         0.921053  \n",
       "3         0.918421  \n",
       "4         0.857895  "
      ]
     },
     "execution_count": 17,
     "metadata": {},
     "output_type": "execute_result"
    }
   ],
   "source": [
    "df.head()"
   ]
  },
  {
   "cell_type": "code",
   "execution_count": 5,
   "id": "446cfbbd",
   "metadata": {},
   "outputs": [],
   "source": [
    "df['precio_escalado']=df['price']"
   ]
  },
  {
   "cell_type": "code",
   "execution_count": 6,
   "id": "85c023ec",
   "metadata": {},
   "outputs": [
    {
     "data": {
      "text/html": [
       "<div>\n",
       "<style scoped>\n",
       "    .dataframe tbody tr th:only-of-type {\n",
       "        vertical-align: middle;\n",
       "    }\n",
       "\n",
       "    .dataframe tbody tr th {\n",
       "        vertical-align: top;\n",
       "    }\n",
       "\n",
       "    .dataframe thead th {\n",
       "        text-align: right;\n",
       "    }\n",
       "</style>\n",
       "<table border=\"1\" class=\"dataframe\">\n",
       "  <thead>\n",
       "    <tr style=\"text-align: right;\">\n",
       "      <th></th>\n",
       "      <th>price</th>\n",
       "      <th>area</th>\n",
       "      <th>bedrooms</th>\n",
       "      <th>bathrooms</th>\n",
       "      <th>stories</th>\n",
       "      <th>mainroad</th>\n",
       "      <th>guestroom</th>\n",
       "      <th>basement</th>\n",
       "      <th>hotwaterheating</th>\n",
       "      <th>airconditioning</th>\n",
       "      <th>parking</th>\n",
       "      <th>prefarea</th>\n",
       "      <th>furnishingstatus</th>\n",
       "      <th>precio_escalado</th>\n",
       "    </tr>\n",
       "  </thead>\n",
       "  <tbody>\n",
       "    <tr>\n",
       "      <th>0</th>\n",
       "      <td>13300000</td>\n",
       "      <td>7420</td>\n",
       "      <td>4</td>\n",
       "      <td>2</td>\n",
       "      <td>3</td>\n",
       "      <td>yes</td>\n",
       "      <td>no</td>\n",
       "      <td>no</td>\n",
       "      <td>no</td>\n",
       "      <td>yes</td>\n",
       "      <td>2</td>\n",
       "      <td>yes</td>\n",
       "      <td>furnished</td>\n",
       "      <td>13300000</td>\n",
       "    </tr>\n",
       "    <tr>\n",
       "      <th>1</th>\n",
       "      <td>12250000</td>\n",
       "      <td>8960</td>\n",
       "      <td>4</td>\n",
       "      <td>4</td>\n",
       "      <td>4</td>\n",
       "      <td>yes</td>\n",
       "      <td>no</td>\n",
       "      <td>no</td>\n",
       "      <td>no</td>\n",
       "      <td>yes</td>\n",
       "      <td>3</td>\n",
       "      <td>no</td>\n",
       "      <td>furnished</td>\n",
       "      <td>12250000</td>\n",
       "    </tr>\n",
       "    <tr>\n",
       "      <th>2</th>\n",
       "      <td>12250000</td>\n",
       "      <td>9960</td>\n",
       "      <td>3</td>\n",
       "      <td>2</td>\n",
       "      <td>2</td>\n",
       "      <td>yes</td>\n",
       "      <td>no</td>\n",
       "      <td>yes</td>\n",
       "      <td>no</td>\n",
       "      <td>no</td>\n",
       "      <td>2</td>\n",
       "      <td>yes</td>\n",
       "      <td>semi-furnished</td>\n",
       "      <td>12250000</td>\n",
       "    </tr>\n",
       "    <tr>\n",
       "      <th>3</th>\n",
       "      <td>12215000</td>\n",
       "      <td>7500</td>\n",
       "      <td>4</td>\n",
       "      <td>2</td>\n",
       "      <td>2</td>\n",
       "      <td>yes</td>\n",
       "      <td>no</td>\n",
       "      <td>yes</td>\n",
       "      <td>no</td>\n",
       "      <td>yes</td>\n",
       "      <td>3</td>\n",
       "      <td>yes</td>\n",
       "      <td>furnished</td>\n",
       "      <td>12215000</td>\n",
       "    </tr>\n",
       "    <tr>\n",
       "      <th>4</th>\n",
       "      <td>11410000</td>\n",
       "      <td>7420</td>\n",
       "      <td>4</td>\n",
       "      <td>1</td>\n",
       "      <td>2</td>\n",
       "      <td>yes</td>\n",
       "      <td>yes</td>\n",
       "      <td>yes</td>\n",
       "      <td>no</td>\n",
       "      <td>yes</td>\n",
       "      <td>2</td>\n",
       "      <td>no</td>\n",
       "      <td>furnished</td>\n",
       "      <td>11410000</td>\n",
       "    </tr>\n",
       "    <tr>\n",
       "      <th>...</th>\n",
       "      <td>...</td>\n",
       "      <td>...</td>\n",
       "      <td>...</td>\n",
       "      <td>...</td>\n",
       "      <td>...</td>\n",
       "      <td>...</td>\n",
       "      <td>...</td>\n",
       "      <td>...</td>\n",
       "      <td>...</td>\n",
       "      <td>...</td>\n",
       "      <td>...</td>\n",
       "      <td>...</td>\n",
       "      <td>...</td>\n",
       "      <td>...</td>\n",
       "    </tr>\n",
       "    <tr>\n",
       "      <th>540</th>\n",
       "      <td>1820000</td>\n",
       "      <td>3000</td>\n",
       "      <td>2</td>\n",
       "      <td>1</td>\n",
       "      <td>1</td>\n",
       "      <td>yes</td>\n",
       "      <td>no</td>\n",
       "      <td>yes</td>\n",
       "      <td>no</td>\n",
       "      <td>no</td>\n",
       "      <td>2</td>\n",
       "      <td>no</td>\n",
       "      <td>unfurnished</td>\n",
       "      <td>1820000</td>\n",
       "    </tr>\n",
       "    <tr>\n",
       "      <th>541</th>\n",
       "      <td>1767150</td>\n",
       "      <td>2400</td>\n",
       "      <td>3</td>\n",
       "      <td>1</td>\n",
       "      <td>1</td>\n",
       "      <td>no</td>\n",
       "      <td>no</td>\n",
       "      <td>no</td>\n",
       "      <td>no</td>\n",
       "      <td>no</td>\n",
       "      <td>0</td>\n",
       "      <td>no</td>\n",
       "      <td>semi-furnished</td>\n",
       "      <td>1767150</td>\n",
       "    </tr>\n",
       "    <tr>\n",
       "      <th>542</th>\n",
       "      <td>1750000</td>\n",
       "      <td>3620</td>\n",
       "      <td>2</td>\n",
       "      <td>1</td>\n",
       "      <td>1</td>\n",
       "      <td>yes</td>\n",
       "      <td>no</td>\n",
       "      <td>no</td>\n",
       "      <td>no</td>\n",
       "      <td>no</td>\n",
       "      <td>0</td>\n",
       "      <td>no</td>\n",
       "      <td>unfurnished</td>\n",
       "      <td>1750000</td>\n",
       "    </tr>\n",
       "    <tr>\n",
       "      <th>543</th>\n",
       "      <td>1750000</td>\n",
       "      <td>2910</td>\n",
       "      <td>3</td>\n",
       "      <td>1</td>\n",
       "      <td>1</td>\n",
       "      <td>no</td>\n",
       "      <td>no</td>\n",
       "      <td>no</td>\n",
       "      <td>no</td>\n",
       "      <td>no</td>\n",
       "      <td>0</td>\n",
       "      <td>no</td>\n",
       "      <td>furnished</td>\n",
       "      <td>1750000</td>\n",
       "    </tr>\n",
       "    <tr>\n",
       "      <th>544</th>\n",
       "      <td>1750000</td>\n",
       "      <td>3850</td>\n",
       "      <td>3</td>\n",
       "      <td>1</td>\n",
       "      <td>2</td>\n",
       "      <td>yes</td>\n",
       "      <td>no</td>\n",
       "      <td>no</td>\n",
       "      <td>no</td>\n",
       "      <td>no</td>\n",
       "      <td>0</td>\n",
       "      <td>no</td>\n",
       "      <td>unfurnished</td>\n",
       "      <td>1750000</td>\n",
       "    </tr>\n",
       "  </tbody>\n",
       "</table>\n",
       "<p>545 rows × 14 columns</p>\n",
       "</div>"
      ],
      "text/plain": [
       "        price  area  bedrooms  bathrooms  stories mainroad guestroom basement  \\\n",
       "0    13300000  7420         4          2        3      yes        no       no   \n",
       "1    12250000  8960         4          4        4      yes        no       no   \n",
       "2    12250000  9960         3          2        2      yes        no      yes   \n",
       "3    12215000  7500         4          2        2      yes        no      yes   \n",
       "4    11410000  7420         4          1        2      yes       yes      yes   \n",
       "..        ...   ...       ...        ...      ...      ...       ...      ...   \n",
       "540   1820000  3000         2          1        1      yes        no      yes   \n",
       "541   1767150  2400         3          1        1       no        no       no   \n",
       "542   1750000  3620         2          1        1      yes        no       no   \n",
       "543   1750000  2910         3          1        1       no        no       no   \n",
       "544   1750000  3850         3          1        2      yes        no       no   \n",
       "\n",
       "    hotwaterheating airconditioning  parking prefarea furnishingstatus  \\\n",
       "0                no             yes        2      yes        furnished   \n",
       "1                no             yes        3       no        furnished   \n",
       "2                no              no        2      yes   semi-furnished   \n",
       "3                no             yes        3      yes        furnished   \n",
       "4                no             yes        2       no        furnished   \n",
       "..              ...             ...      ...      ...              ...   \n",
       "540              no              no        2       no      unfurnished   \n",
       "541              no              no        0       no   semi-furnished   \n",
       "542              no              no        0       no      unfurnished   \n",
       "543              no              no        0       no        furnished   \n",
       "544              no              no        0       no      unfurnished   \n",
       "\n",
       "     precio_escalado  \n",
       "0           13300000  \n",
       "1           12250000  \n",
       "2           12250000  \n",
       "3           12215000  \n",
       "4           11410000  \n",
       "..               ...  \n",
       "540          1820000  \n",
       "541          1767150  \n",
       "542          1750000  \n",
       "543          1750000  \n",
       "544          1750000  \n",
       "\n",
       "[545 rows x 14 columns]"
      ]
     },
     "execution_count": 6,
     "metadata": {},
     "output_type": "execute_result"
    }
   ],
   "source": [
    "df"
   ]
  },
  {
   "cell_type": "code",
   "execution_count": 7,
   "id": "d6d2169d",
   "metadata": {},
   "outputs": [
    {
     "data": {
      "text/plain": [
       "13300000"
      ]
     },
     "execution_count": 7,
     "metadata": {},
     "output_type": "execute_result"
    }
   ],
   "source": [
    "max(df['precio_escalado'])"
   ]
  },
  {
   "cell_type": "code",
   "execution_count": 8,
   "id": "88c1706a",
   "metadata": {},
   "outputs": [],
   "source": [
    "df['precio_escalado']=df['precio_escalado']/max(df['precio_escalado'])"
   ]
  },
  {
   "cell_type": "code",
   "execution_count": 9,
   "id": "b3b58319",
   "metadata": {},
   "outputs": [
    {
     "data": {
      "text/html": [
       "<div>\n",
       "<style scoped>\n",
       "    .dataframe tbody tr th:only-of-type {\n",
       "        vertical-align: middle;\n",
       "    }\n",
       "\n",
       "    .dataframe tbody tr th {\n",
       "        vertical-align: top;\n",
       "    }\n",
       "\n",
       "    .dataframe thead th {\n",
       "        text-align: right;\n",
       "    }\n",
       "</style>\n",
       "<table border=\"1\" class=\"dataframe\">\n",
       "  <thead>\n",
       "    <tr style=\"text-align: right;\">\n",
       "      <th></th>\n",
       "      <th>price</th>\n",
       "      <th>area</th>\n",
       "      <th>bedrooms</th>\n",
       "      <th>bathrooms</th>\n",
       "      <th>stories</th>\n",
       "      <th>mainroad</th>\n",
       "      <th>guestroom</th>\n",
       "      <th>basement</th>\n",
       "      <th>hotwaterheating</th>\n",
       "      <th>airconditioning</th>\n",
       "      <th>parking</th>\n",
       "      <th>prefarea</th>\n",
       "      <th>furnishingstatus</th>\n",
       "      <th>precio_escalado</th>\n",
       "    </tr>\n",
       "  </thead>\n",
       "  <tbody>\n",
       "    <tr>\n",
       "      <th>0</th>\n",
       "      <td>13300000</td>\n",
       "      <td>7420</td>\n",
       "      <td>4</td>\n",
       "      <td>2</td>\n",
       "      <td>3</td>\n",
       "      <td>yes</td>\n",
       "      <td>no</td>\n",
       "      <td>no</td>\n",
       "      <td>no</td>\n",
       "      <td>yes</td>\n",
       "      <td>2</td>\n",
       "      <td>yes</td>\n",
       "      <td>furnished</td>\n",
       "      <td>1.000000</td>\n",
       "    </tr>\n",
       "    <tr>\n",
       "      <th>1</th>\n",
       "      <td>12250000</td>\n",
       "      <td>8960</td>\n",
       "      <td>4</td>\n",
       "      <td>4</td>\n",
       "      <td>4</td>\n",
       "      <td>yes</td>\n",
       "      <td>no</td>\n",
       "      <td>no</td>\n",
       "      <td>no</td>\n",
       "      <td>yes</td>\n",
       "      <td>3</td>\n",
       "      <td>no</td>\n",
       "      <td>furnished</td>\n",
       "      <td>0.921053</td>\n",
       "    </tr>\n",
       "    <tr>\n",
       "      <th>2</th>\n",
       "      <td>12250000</td>\n",
       "      <td>9960</td>\n",
       "      <td>3</td>\n",
       "      <td>2</td>\n",
       "      <td>2</td>\n",
       "      <td>yes</td>\n",
       "      <td>no</td>\n",
       "      <td>yes</td>\n",
       "      <td>no</td>\n",
       "      <td>no</td>\n",
       "      <td>2</td>\n",
       "      <td>yes</td>\n",
       "      <td>semi-furnished</td>\n",
       "      <td>0.921053</td>\n",
       "    </tr>\n",
       "    <tr>\n",
       "      <th>3</th>\n",
       "      <td>12215000</td>\n",
       "      <td>7500</td>\n",
       "      <td>4</td>\n",
       "      <td>2</td>\n",
       "      <td>2</td>\n",
       "      <td>yes</td>\n",
       "      <td>no</td>\n",
       "      <td>yes</td>\n",
       "      <td>no</td>\n",
       "      <td>yes</td>\n",
       "      <td>3</td>\n",
       "      <td>yes</td>\n",
       "      <td>furnished</td>\n",
       "      <td>0.918421</td>\n",
       "    </tr>\n",
       "    <tr>\n",
       "      <th>4</th>\n",
       "      <td>11410000</td>\n",
       "      <td>7420</td>\n",
       "      <td>4</td>\n",
       "      <td>1</td>\n",
       "      <td>2</td>\n",
       "      <td>yes</td>\n",
       "      <td>yes</td>\n",
       "      <td>yes</td>\n",
       "      <td>no</td>\n",
       "      <td>yes</td>\n",
       "      <td>2</td>\n",
       "      <td>no</td>\n",
       "      <td>furnished</td>\n",
       "      <td>0.857895</td>\n",
       "    </tr>\n",
       "    <tr>\n",
       "      <th>...</th>\n",
       "      <td>...</td>\n",
       "      <td>...</td>\n",
       "      <td>...</td>\n",
       "      <td>...</td>\n",
       "      <td>...</td>\n",
       "      <td>...</td>\n",
       "      <td>...</td>\n",
       "      <td>...</td>\n",
       "      <td>...</td>\n",
       "      <td>...</td>\n",
       "      <td>...</td>\n",
       "      <td>...</td>\n",
       "      <td>...</td>\n",
       "      <td>...</td>\n",
       "    </tr>\n",
       "    <tr>\n",
       "      <th>540</th>\n",
       "      <td>1820000</td>\n",
       "      <td>3000</td>\n",
       "      <td>2</td>\n",
       "      <td>1</td>\n",
       "      <td>1</td>\n",
       "      <td>yes</td>\n",
       "      <td>no</td>\n",
       "      <td>yes</td>\n",
       "      <td>no</td>\n",
       "      <td>no</td>\n",
       "      <td>2</td>\n",
       "      <td>no</td>\n",
       "      <td>unfurnished</td>\n",
       "      <td>0.136842</td>\n",
       "    </tr>\n",
       "    <tr>\n",
       "      <th>541</th>\n",
       "      <td>1767150</td>\n",
       "      <td>2400</td>\n",
       "      <td>3</td>\n",
       "      <td>1</td>\n",
       "      <td>1</td>\n",
       "      <td>no</td>\n",
       "      <td>no</td>\n",
       "      <td>no</td>\n",
       "      <td>no</td>\n",
       "      <td>no</td>\n",
       "      <td>0</td>\n",
       "      <td>no</td>\n",
       "      <td>semi-furnished</td>\n",
       "      <td>0.132868</td>\n",
       "    </tr>\n",
       "    <tr>\n",
       "      <th>542</th>\n",
       "      <td>1750000</td>\n",
       "      <td>3620</td>\n",
       "      <td>2</td>\n",
       "      <td>1</td>\n",
       "      <td>1</td>\n",
       "      <td>yes</td>\n",
       "      <td>no</td>\n",
       "      <td>no</td>\n",
       "      <td>no</td>\n",
       "      <td>no</td>\n",
       "      <td>0</td>\n",
       "      <td>no</td>\n",
       "      <td>unfurnished</td>\n",
       "      <td>0.131579</td>\n",
       "    </tr>\n",
       "    <tr>\n",
       "      <th>543</th>\n",
       "      <td>1750000</td>\n",
       "      <td>2910</td>\n",
       "      <td>3</td>\n",
       "      <td>1</td>\n",
       "      <td>1</td>\n",
       "      <td>no</td>\n",
       "      <td>no</td>\n",
       "      <td>no</td>\n",
       "      <td>no</td>\n",
       "      <td>no</td>\n",
       "      <td>0</td>\n",
       "      <td>no</td>\n",
       "      <td>furnished</td>\n",
       "      <td>0.131579</td>\n",
       "    </tr>\n",
       "    <tr>\n",
       "      <th>544</th>\n",
       "      <td>1750000</td>\n",
       "      <td>3850</td>\n",
       "      <td>3</td>\n",
       "      <td>1</td>\n",
       "      <td>2</td>\n",
       "      <td>yes</td>\n",
       "      <td>no</td>\n",
       "      <td>no</td>\n",
       "      <td>no</td>\n",
       "      <td>no</td>\n",
       "      <td>0</td>\n",
       "      <td>no</td>\n",
       "      <td>unfurnished</td>\n",
       "      <td>0.131579</td>\n",
       "    </tr>\n",
       "  </tbody>\n",
       "</table>\n",
       "<p>545 rows × 14 columns</p>\n",
       "</div>"
      ],
      "text/plain": [
       "        price  area  bedrooms  bathrooms  stories mainroad guestroom basement  \\\n",
       "0    13300000  7420         4          2        3      yes        no       no   \n",
       "1    12250000  8960         4          4        4      yes        no       no   \n",
       "2    12250000  9960         3          2        2      yes        no      yes   \n",
       "3    12215000  7500         4          2        2      yes        no      yes   \n",
       "4    11410000  7420         4          1        2      yes       yes      yes   \n",
       "..        ...   ...       ...        ...      ...      ...       ...      ...   \n",
       "540   1820000  3000         2          1        1      yes        no      yes   \n",
       "541   1767150  2400         3          1        1       no        no       no   \n",
       "542   1750000  3620         2          1        1      yes        no       no   \n",
       "543   1750000  2910         3          1        1       no        no       no   \n",
       "544   1750000  3850         3          1        2      yes        no       no   \n",
       "\n",
       "    hotwaterheating airconditioning  parking prefarea furnishingstatus  \\\n",
       "0                no             yes        2      yes        furnished   \n",
       "1                no             yes        3       no        furnished   \n",
       "2                no              no        2      yes   semi-furnished   \n",
       "3                no             yes        3      yes        furnished   \n",
       "4                no             yes        2       no        furnished   \n",
       "..              ...             ...      ...      ...              ...   \n",
       "540              no              no        2       no      unfurnished   \n",
       "541              no              no        0       no   semi-furnished   \n",
       "542              no              no        0       no      unfurnished   \n",
       "543              no              no        0       no        furnished   \n",
       "544              no              no        0       no      unfurnished   \n",
       "\n",
       "     precio_escalado  \n",
       "0           1.000000  \n",
       "1           0.921053  \n",
       "2           0.921053  \n",
       "3           0.918421  \n",
       "4           0.857895  \n",
       "..               ...  \n",
       "540         0.136842  \n",
       "541         0.132868  \n",
       "542         0.131579  \n",
       "543         0.131579  \n",
       "544         0.131579  \n",
       "\n",
       "[545 rows x 14 columns]"
      ]
     },
     "execution_count": 9,
     "metadata": {},
     "output_type": "execute_result"
    }
   ],
   "source": [
    "df"
   ]
  },
  {
   "cell_type": "code",
   "execution_count": 10,
   "id": "8716073e",
   "metadata": {},
   "outputs": [
    {
     "data": {
      "text/plain": [
       "0.13157894736842105"
      ]
     },
     "execution_count": 10,
     "metadata": {},
     "output_type": "execute_result"
    }
   ],
   "source": [
    "min(df['precio_escalado'])"
   ]
  },
  {
   "cell_type": "markdown",
   "id": "dc77369b",
   "metadata": {
    "slideshow": {
     "slide_type": "slide"
    }
   },
   "source": [
    "# Estandarización con Scikit-Learn"
   ]
  },
  {
   "cell_type": "code",
   "execution_count": 12,
   "id": "b31e7265",
   "metadata": {},
   "outputs": [],
   "source": [
    "import matplotlib.pyplot as plt"
   ]
  },
  {
   "cell_type": "code",
   "execution_count": 13,
   "id": "e5fdc0a3",
   "metadata": {
    "slideshow": {
     "slide_type": "fragment"
    }
   },
   "outputs": [
    {
     "name": "stdout",
     "output_type": "stream",
     "text": [
      "Media de los datos [4766729.24770642]\n",
      "Varianza de los datos [3.49212501e+12]\n"
     ]
    },
    {
     "data": {
      "text/plain": [
       "(array([19., 42., 79., 89., 83., 54., 44., 42., 28., 19., 11., 14.,  8.,\n",
       "         4.,  3.,  1.,  1.,  0.,  3.,  1.]),\n",
       " array([-1.61432675, -1.30529216, -0.99625756, -0.68722297, -0.37818837,\n",
       "        -0.06915378,  0.23988081,  0.54891541,  0.85795   ,  1.16698459,\n",
       "         1.47601919,  1.78505378,  2.09408838,  2.40312297,  2.71215756,\n",
       "         3.02119216,  3.33022675,  3.63926134,  3.94829594,  4.25733053,\n",
       "         4.56636513]),\n",
       " <BarContainer object of 20 artists>)"
      ]
     },
     "execution_count": 13,
     "metadata": {},
     "output_type": "execute_result"
    },
    {
     "data": {
      "image/png": "[encoded data removed]",
      "text/plain": [
       "<Figure size 432x288 with 1 Axes>"
      ]
     },
     "metadata": {
      "needs_background": "light"
     },
     "output_type": "display_data"
    }
   ],
   "source": [
    "# Esta biblioteca se encarga de el escalamiento por estandarización\n",
    "# Es decir, bajo el supuesto que los datos se comportan como una \n",
    "# distribución normal\n",
    "from sklearn.preprocessing import StandardScaler \n",
    "scaler = StandardScaler() # Creación de objeto StandardScaler\n",
    "scaler.fit(df[['price']]) # Cálculo de parámetros de escalamiento\n",
    "print('Media de los datos', scaler.mean_)\n",
    "print('Varianza de los datos', scaler.var_)\n",
    "price_scaled = scaler.transform(df[['price']]) # Transformación de los datos\n",
    "plt.hist(price_scaled, bins=20)"
   ]
  },
  {
   "cell_type": "markdown",
   "id": "35c71f52",
   "metadata": {
    "slideshow": {
     "slide_type": "slide"
    }
   },
   "source": [
    "# Estandarización con Scikit-Learn"
   ]
  },
  {
   "cell_type": "code",
   "execution_count": 15,
   "id": "3646b0f3",
   "metadata": {},
   "outputs": [
    {
     "data": {
      "text/html": [
       "<div>\n",
       "<style scoped>\n",
       "    .dataframe tbody tr th:only-of-type {\n",
       "        vertical-align: middle;\n",
       "    }\n",
       "\n",
       "    .dataframe tbody tr th {\n",
       "        vertical-align: top;\n",
       "    }\n",
       "\n",
       "    .dataframe thead th {\n",
       "        text-align: right;\n",
       "    }\n",
       "</style>\n",
       "<table border=\"1\" class=\"dataframe\">\n",
       "  <thead>\n",
       "    <tr style=\"text-align: right;\">\n",
       "      <th></th>\n",
       "      <th>price</th>\n",
       "      <th>area</th>\n",
       "      <th>bedrooms</th>\n",
       "      <th>bathrooms</th>\n",
       "      <th>stories</th>\n",
       "      <th>mainroad</th>\n",
       "      <th>guestroom</th>\n",
       "      <th>basement</th>\n",
       "      <th>hotwaterheating</th>\n",
       "      <th>airconditioning</th>\n",
       "      <th>parking</th>\n",
       "      <th>prefarea</th>\n",
       "      <th>furnishingstatus</th>\n",
       "      <th>precio_escalado</th>\n",
       "    </tr>\n",
       "  </thead>\n",
       "  <tbody>\n",
       "    <tr>\n",
       "      <th>0</th>\n",
       "      <td>13300000</td>\n",
       "      <td>7420</td>\n",
       "      <td>4</td>\n",
       "      <td>2</td>\n",
       "      <td>3</td>\n",
       "      <td>yes</td>\n",
       "      <td>no</td>\n",
       "      <td>no</td>\n",
       "      <td>no</td>\n",
       "      <td>yes</td>\n",
       "      <td>2</td>\n",
       "      <td>yes</td>\n",
       "      <td>furnished</td>\n",
       "      <td>1.000000</td>\n",
       "    </tr>\n",
       "    <tr>\n",
       "      <th>1</th>\n",
       "      <td>12250000</td>\n",
       "      <td>8960</td>\n",
       "      <td>4</td>\n",
       "      <td>4</td>\n",
       "      <td>4</td>\n",
       "      <td>yes</td>\n",
       "      <td>no</td>\n",
       "      <td>no</td>\n",
       "      <td>no</td>\n",
       "      <td>yes</td>\n",
       "      <td>3</td>\n",
       "      <td>no</td>\n",
       "      <td>furnished</td>\n",
       "      <td>0.921053</td>\n",
       "    </tr>\n",
       "    <tr>\n",
       "      <th>2</th>\n",
       "      <td>12250000</td>\n",
       "      <td>9960</td>\n",
       "      <td>3</td>\n",
       "      <td>2</td>\n",
       "      <td>2</td>\n",
       "      <td>yes</td>\n",
       "      <td>no</td>\n",
       "      <td>yes</td>\n",
       "      <td>no</td>\n",
       "      <td>no</td>\n",
       "      <td>2</td>\n",
       "      <td>yes</td>\n",
       "      <td>semi-furnished</td>\n",
       "      <td>0.921053</td>\n",
       "    </tr>\n",
       "    <tr>\n",
       "      <th>3</th>\n",
       "      <td>12215000</td>\n",
       "      <td>7500</td>\n",
       "      <td>4</td>\n",
       "      <td>2</td>\n",
       "      <td>2</td>\n",
       "      <td>yes</td>\n",
       "      <td>no</td>\n",
       "      <td>yes</td>\n",
       "      <td>no</td>\n",
       "      <td>yes</td>\n",
       "      <td>3</td>\n",
       "      <td>yes</td>\n",
       "      <td>furnished</td>\n",
       "      <td>0.918421</td>\n",
       "    </tr>\n",
       "    <tr>\n",
       "      <th>4</th>\n",
       "      <td>11410000</td>\n",
       "      <td>7420</td>\n",
       "      <td>4</td>\n",
       "      <td>1</td>\n",
       "      <td>2</td>\n",
       "      <td>yes</td>\n",
       "      <td>yes</td>\n",
       "      <td>yes</td>\n",
       "      <td>no</td>\n",
       "      <td>yes</td>\n",
       "      <td>2</td>\n",
       "      <td>no</td>\n",
       "      <td>furnished</td>\n",
       "      <td>0.857895</td>\n",
       "    </tr>\n",
       "    <tr>\n",
       "      <th>...</th>\n",
       "      <td>...</td>\n",
       "      <td>...</td>\n",
       "      <td>...</td>\n",
       "      <td>...</td>\n",
       "      <td>...</td>\n",
       "      <td>...</td>\n",
       "      <td>...</td>\n",
       "      <td>...</td>\n",
       "      <td>...</td>\n",
       "      <td>...</td>\n",
       "      <td>...</td>\n",
       "      <td>...</td>\n",
       "      <td>...</td>\n",
       "      <td>...</td>\n",
       "    </tr>\n",
       "    <tr>\n",
       "      <th>540</th>\n",
       "      <td>1820000</td>\n",
       "      <td>3000</td>\n",
       "      <td>2</td>\n",
       "      <td>1</td>\n",
       "      <td>1</td>\n",
       "      <td>yes</td>\n",
       "      <td>no</td>\n",
       "      <td>yes</td>\n",
       "      <td>no</td>\n",
       "      <td>no</td>\n",
       "      <td>2</td>\n",
       "      <td>no</td>\n",
       "      <td>unfurnished</td>\n",
       "      <td>0.136842</td>\n",
       "    </tr>\n",
       "    <tr>\n",
       "      <th>541</th>\n",
       "      <td>1767150</td>\n",
       "      <td>2400</td>\n",
       "      <td>3</td>\n",
       "      <td>1</td>\n",
       "      <td>1</td>\n",
       "      <td>no</td>\n",
       "      <td>no</td>\n",
       "      <td>no</td>\n",
       "      <td>no</td>\n",
       "      <td>no</td>\n",
       "      <td>0</td>\n",
       "      <td>no</td>\n",
       "      <td>semi-furnished</td>\n",
       "      <td>0.132868</td>\n",
       "    </tr>\n",
       "    <tr>\n",
       "      <th>542</th>\n",
       "      <td>1750000</td>\n",
       "      <td>3620</td>\n",
       "      <td>2</td>\n",
       "      <td>1</td>\n",
       "      <td>1</td>\n",
       "      <td>yes</td>\n",
       "      <td>no</td>\n",
       "      <td>no</td>\n",
       "      <td>no</td>\n",
       "      <td>no</td>\n",
       "      <td>0</td>\n",
       "      <td>no</td>\n",
       "      <td>unfurnished</td>\n",
       "      <td>0.131579</td>\n",
       "    </tr>\n",
       "    <tr>\n",
       "      <th>543</th>\n",
       "      <td>1750000</td>\n",
       "      <td>2910</td>\n",
       "      <td>3</td>\n",
       "      <td>1</td>\n",
       "      <td>1</td>\n",
       "      <td>no</td>\n",
       "      <td>no</td>\n",
       "      <td>no</td>\n",
       "      <td>no</td>\n",
       "      <td>no</td>\n",
       "      <td>0</td>\n",
       "      <td>no</td>\n",
       "      <td>furnished</td>\n",
       "      <td>0.131579</td>\n",
       "    </tr>\n",
       "    <tr>\n",
       "      <th>544</th>\n",
       "      <td>1750000</td>\n",
       "      <td>3850</td>\n",
       "      <td>3</td>\n",
       "      <td>1</td>\n",
       "      <td>2</td>\n",
       "      <td>yes</td>\n",
       "      <td>no</td>\n",
       "      <td>no</td>\n",
       "      <td>no</td>\n",
       "      <td>no</td>\n",
       "      <td>0</td>\n",
       "      <td>no</td>\n",
       "      <td>unfurnished</td>\n",
       "      <td>0.131579</td>\n",
       "    </tr>\n",
       "  </tbody>\n",
       "</table>\n",
       "<p>545 rows × 14 columns</p>\n",
       "</div>"
      ],
      "text/plain": [
       "        price  area  bedrooms  bathrooms  stories mainroad guestroom basement  \\\n",
       "0    13300000  7420         4          2        3      yes        no       no   \n",
       "1    12250000  8960         4          4        4      yes        no       no   \n",
       "2    12250000  9960         3          2        2      yes        no      yes   \n",
       "3    12215000  7500         4          2        2      yes        no      yes   \n",
       "4    11410000  7420         4          1        2      yes       yes      yes   \n",
       "..        ...   ...       ...        ...      ...      ...       ...      ...   \n",
       "540   1820000  3000         2          1        1      yes        no      yes   \n",
       "541   1767150  2400         3          1        1       no        no       no   \n",
       "542   1750000  3620         2          1        1      yes        no       no   \n",
       "543   1750000  2910         3          1        1       no        no       no   \n",
       "544   1750000  3850         3          1        2      yes        no       no   \n",
       "\n",
       "    hotwaterheating airconditioning  parking prefarea furnishingstatus  \\\n",
       "0                no             yes        2      yes        furnished   \n",
       "1                no             yes        3       no        furnished   \n",
       "2                no              no        2      yes   semi-furnished   \n",
       "3                no             yes        3      yes        furnished   \n",
       "4                no             yes        2       no        furnished   \n",
       "..              ...             ...      ...      ...              ...   \n",
       "540              no              no        2       no      unfurnished   \n",
       "541              no              no        0       no   semi-furnished   \n",
       "542              no              no        0       no      unfurnished   \n",
       "543              no              no        0       no        furnished   \n",
       "544              no              no        0       no      unfurnished   \n",
       "\n",
       "     precio_escalado  \n",
       "0           1.000000  \n",
       "1           0.921053  \n",
       "2           0.921053  \n",
       "3           0.918421  \n",
       "4           0.857895  \n",
       "..               ...  \n",
       "540         0.136842  \n",
       "541         0.132868  \n",
       "542         0.131579  \n",
       "543         0.131579  \n",
       "544         0.131579  \n",
       "\n",
       "[545 rows x 14 columns]"
      ]
     },
     "execution_count": 15,
     "metadata": {},
     "output_type": "execute_result"
    }
   ],
   "source": [
    "df"
   ]
  },
  {
   "cell_type": "code",
   "execution_count": 17,
   "id": "f1cb4eae",
   "metadata": {
    "slideshow": {
     "slide_type": "fragment"
    }
   },
   "outputs": [
    {
     "data": {
      "image/png": "[encoded data removed]",
      "text/plain": [
       "<Figure size 432x288 with 3 Axes>"
      ]
     },
     "metadata": {
      "needs_background": "light"
     },
     "output_type": "display_data"
    }
   ],
   "source": [
    "import matplotlib.pyplot as plt\n",
    "\n",
    "fig = plt.figure()\n",
    "\n",
    "ax1 = fig.add_subplot(1,3,1)\n",
    "ax1.hist(df['price'], bins=20)\n",
    "ax1.set_title('Precios reales')\n",
    "\n",
    "ax2 = fig.add_subplot(1,3,2)\n",
    "ax2.hist(price_scaled, bins=20)\n",
    "ax2.set_title('Precios escalados')\n",
    "\n",
    "ax3 = fig.add_subplot(1,3,3)\n",
    "ax3.hist(df['precio_escalado'], bins=20)\n",
    "ax3.set_title('Precios escalado v1')\n",
    "\n",
    "plt.show()"
   ]
  },
  {
   "cell_type": "code",
   "execution_count": 10,
   "id": "e0c8cede",
   "metadata": {},
   "outputs": [
    {
     "data": {
      "text/plain": [
       "array([-1.61432675])"
      ]
     },
     "execution_count": 10,
     "metadata": {},
     "output_type": "execute_result"
    }
   ],
   "source": [
    "min(price_scaled)"
   ]
  },
  {
   "cell_type": "code",
   "execution_count": 11,
   "id": "24e1ff3d",
   "metadata": {},
   "outputs": [
    {
     "data": {
      "text/plain": [
       "1750000"
      ]
     },
     "execution_count": 11,
     "metadata": {},
     "output_type": "execute_result"
    }
   ],
   "source": [
    "min(df['price'])"
   ]
  },
  {
   "cell_type": "markdown",
   "id": "8319f776",
   "metadata": {
    "slideshow": {
     "slide_type": "slide"
    }
   },
   "source": [
    "# Regresión Lineal"
   ]
  },
  {
   "cell_type": "markdown",
   "id": "beb4dcbf",
   "metadata": {
    "slideshow": {
     "slide_type": "fragment"
    }
   },
   "source": [
    "- Modelo que permite realizar predicciones bajo el *supuesto* que los datos se comportan de manera lineal\n",
    "- **Recordatorio:** Ecuación de la recta 2-Dimensiones\n",
    "\n",
    "$$ y = m x + b$$\n",
    "    \n",
    "- $m$ : pendiente de la recta\n",
    "- $b$ : intercepto con el eje y"
   ]
  },
  {
   "cell_type": "code",
   "execution_count": 23,
   "id": "9c73dea8",
   "metadata": {},
   "outputs": [
    {
     "data": {
      "text/plain": [
       "array([ 3.44741158,  2.55797544,  4.16857859,  5.46544737,  6.82427994,\n",
       "        9.14070385,  7.79869513, 10.05693775, 11.36965828, 10.18580165,\n",
       "       13.43017941, 12.68209649, 13.26020637, 17.79554215, 18.86252813,\n",
       "       19.23358939, 18.21845508, 18.39068846, 21.73693211, 21.76060997])"
      ]
     },
     "execution_count": 23,
     "metadata": {},
     "output_type": "execute_result"
    }
   ],
   "source": [
    "y_noise = (4*np.random.rand(len(y)) - 2) + y \n",
    "y_noise"
   ]
  },
  {
   "cell_type": "code",
   "execution_count": 19,
   "id": "25304837",
   "metadata": {
    "slideshow": {
     "slide_type": "fragment"
    }
   },
   "outputs": [
    {
     "data": {
      "image/png": "[encoded data removed]",
      "text/plain": [
       "<Figure size 432x288 with 1 Axes>"
      ]
     },
     "metadata": {
      "needs_background": "light"
     },
     "output_type": "display_data"
    }
   ],
   "source": [
    "import numpy as np\n",
    "import matplotlib.pyplot as plt\n",
    "np.random.seed(42) # Semilla para el generador aleatorio. 42 porque es el significado del universo y la vida :)\n",
    "\n",
    "x = np.arange(0,10,0.5) # Generar todos los valores en el eje x\n",
    "# La ecuación de la recta es y = mx + b\n",
    "m = 2 # Pendiente\n",
    "b = 3 # Intercepto\n",
    "y = m*x + b # Recta con pendiente m=2 e intercepto b = 3\n",
    "y_noise = (4*np.random.rand(len(y)) - 2) + y # Agregar ruido a los datos para emular una situación real\n",
    "\n",
    "# y_noise representa los datos con los que tu trabajarías en la realidad\n",
    "\n",
    "plt.plot(x,y_noise,'go', markerfacecolor=\"#ff0000\")\n",
    "plt.plot(x, y, '-r')\n",
    "plt.xlabel('Eje x')\n",
    "plt.ylabel('Eje y')\n",
    "plt.title('Visualización recta y=2x + 3 y valores (con ruido)')\n",
    "plt.show()"
   ]
  },
  {
   "cell_type": "markdown",
   "id": "ba5174e6",
   "metadata": {
    "slideshow": {
     "slide_type": "slide"
    }
   },
   "source": [
    "# Regresión Lineal"
   ]
  },
  {
   "cell_type": "markdown",
   "id": "9af6bad1",
   "metadata": {
    "slideshow": {
     "slide_type": "fragment"
    }
   },
   "source": [
    "- Generalización: plano n-dimensional\n",
    "\n",
    "$$ y = \\theta_0 + \\theta_1 x_1 + \\theta_2 x_2 + ... + \\theta_n x_n$$\n",
    "\n",
    "- $\\theta_j$ pendiente en la dimension $j$\n",
    "- $\\theta_0$ intercepto con eje $y$. También es llamado **bias** (prejuicio)\n",
    "\n",
    "### ¿Cuál es la recta que mejor representa mis datos?"
   ]
  },
  {
   "cell_type": "markdown",
   "id": "1f2e2513",
   "metadata": {
    "slideshow": {
     "slide_type": "slide"
    }
   },
   "source": [
    "# Regresión Lineal con Scikit-Learn"
   ]
  },
  {
   "cell_type": "markdown",
   "id": "ca5888cd",
   "metadata": {},
   "source": [
    "### Toolbox de librerias"
   ]
  },
  {
   "cell_type": "code",
   "execution_count": 5,
   "id": "8e877ac1",
   "metadata": {},
   "outputs": [],
   "source": [
    "from sklearn.preprocessing import StandardScaler\n",
    "from sklearn.linear_model import LinearRegression\n",
    "from sklearn.metrics import r2_score\n",
    "from sklearn.model_selection import train_test_split\n",
    "from sklearn.neighbors import KNeighborsClassifier\n",
    "from sklearn.datasets import load_iris\n",
    "from sklearn.metrics import precision_recall_fscore_support\n",
    "from sklearn.neighbors import KNeighborsRegressor"
   ]
  },
  {
   "cell_type": "code",
   "execution_count": 20,
   "id": "01ab3b4b",
   "metadata": {},
   "outputs": [
    {
     "data": {
      "text/plain": [
       "array([0. , 0.5, 1. , 1.5, 2. , 2.5, 3. , 3.5, 4. , 4.5, 5. , 5.5, 6. ,\n",
       "       6.5, 7. , 7.5, 8. , 8.5, 9. , 9.5])"
      ]
     },
     "execution_count": 20,
     "metadata": {},
     "output_type": "execute_result"
    }
   ],
   "source": [
    "x"
   ]
  },
  {
   "cell_type": "code",
   "execution_count": 32,
   "id": "db8fc7f2",
   "metadata": {},
   "outputs": [
    {
     "data": {
      "text/plain": [
       "array([[0. ],\n",
       "       [0.5],\n",
       "       [1. ],\n",
       "       [1.5],\n",
       "       [2. ],\n",
       "       [2.5],\n",
       "       [3. ],\n",
       "       [3.5],\n",
       "       [4. ],\n",
       "       [4.5],\n",
       "       [5. ],\n",
       "       [5.5],\n",
       "       [6. ],\n",
       "       [6.5],\n",
       "       [7. ],\n",
       "       [7.5],\n",
       "       [8. ],\n",
       "       [8.5],\n",
       "       [9. ],\n",
       "       [9.5]])"
      ]
     },
     "execution_count": 32,
     "metadata": {},
     "output_type": "execute_result"
    }
   ],
   "source": [
    "X = x.reshape(-1,1)\n",
    "X"
   ]
  },
  {
   "cell_type": "code",
   "execution_count": 21,
   "id": "b54dde49",
   "metadata": {},
   "outputs": [
    {
     "data": {
      "text/plain": [
       "array([ 2.49816048,  5.80285723,  5.92797577,  6.39463394,  5.62407456,\n",
       "        6.62397808,  7.23233445, 11.46470458, 11.40446005, 12.83229031,\n",
       "       11.08233798, 15.87963941, 16.32977056, 14.84935644, 15.72729987,\n",
       "       16.73361804, 18.21696897, 20.09902573, 20.72778007, 21.16491656])"
      ]
     },
     "execution_count": 21,
     "metadata": {},
     "output_type": "execute_result"
    }
   ],
   "source": [
    "y_noise"
   ]
  },
  {
   "cell_type": "code",
   "execution_count": 23,
   "id": "78496d2c",
   "metadata": {
    "slideshow": {
     "slide_type": "fragment"
    }
   },
   "outputs": [
    {
     "name": "stdout",
     "output_type": "stream",
     "text": [
      "El bias calculado es 3.272929847515469 . El bias real es  3\n",
      "La pendiente calculada es:  [1.90692196] . La pendiente real es  2\n"
     ]
    }
   ],
   "source": [
    "from sklearn.linear_model import LinearRegression\n",
    "lin_reg = LinearRegression() # Creación de objeto Regresor lineal Scikit-Learn\n",
    "X = x.reshape(-1,1) # Generación de vector columna\n",
    "lin_reg.fit(X, y_noise) # Cálculo de parámetros \\theta_0, \\theta_1... etc\n",
    "print('El bias calculado es', lin_reg.intercept_, '. El bias real es ', b)\n",
    "print('La pendiente calculada es: ', lin_reg.coef_, '. La pendiente real es ', m) \n",
    "# lin_reg.coef es una lista porque pueden ser múltiples parámetros\n"
   ]
  },
  {
   "cell_type": "code",
   "execution_count": 24,
   "id": "56f0af1e",
   "metadata": {},
   "outputs": [
    {
     "name": "stdout",
     "output_type": "stream",
     "text": [
      "Valor real para x=10 es 23\n"
     ]
    }
   ],
   "source": [
    "print('Valor real para x=10 es', m*10 + b)"
   ]
  },
  {
   "cell_type": "code",
   "execution_count": 26,
   "id": "c63258bc",
   "metadata": {},
   "outputs": [
    {
     "name": "stdout",
     "output_type": "stream",
     "text": [
      "Para x=10, el valor predecido (y) es [22.34214944]\n"
     ]
    }
   ],
   "source": [
    "# Predicción\n",
    "y_predicho=lin_reg.predict([[10]])\n",
    "print('Para x=10, el valor predecido (y) es',y_predicho)"
   ]
  },
  {
   "cell_type": "markdown",
   "id": "5ae3c49a",
   "metadata": {
    "slideshow": {
     "slide_type": "slide"
    }
   },
   "source": [
    "# Regresión Lineal con Scikit-Learn"
   ]
  },
  {
   "cell_type": "code",
   "execution_count": 37,
   "id": "214841bc",
   "metadata": {},
   "outputs": [
    {
     "data": {
      "text/plain": [
       "array([[10. ],\n",
       "       [10.5],\n",
       "       [11. ],\n",
       "       [11.5],\n",
       "       [12. ],\n",
       "       [12.5],\n",
       "       [13. ],\n",
       "       [13.5],\n",
       "       [14. ],\n",
       "       [14.5],\n",
       "       [15. ],\n",
       "       [15.5],\n",
       "       [16. ],\n",
       "       [16.5],\n",
       "       [17. ],\n",
       "       [17.5],\n",
       "       [18. ],\n",
       "       [18.5],\n",
       "       [19. ],\n",
       "       [19.5]])"
      ]
     },
     "execution_count": 37,
     "metadata": {},
     "output_type": "execute_result"
    }
   ],
   "source": [
    "X_new = np.arange(10,20,0.5).reshape(-1,1)\n",
    "X_new"
   ]
  },
  {
   "cell_type": "code",
   "execution_count": 39,
   "id": "4b870ebf",
   "metadata": {},
   "outputs": [
    {
     "data": {
      "text/plain": [
       "array([23.1373835 , 24.16767566, 25.19796781, 26.22825997, 27.25855213,\n",
       "       28.28884428, 29.31913644, 30.3494286 , 31.37972075, 32.41001291,\n",
       "       33.44030506, 34.47059722, 35.50088938, 36.53118153, 37.56147369,\n",
       "       38.59176585, 39.622058  , 40.65235016, 41.68264232, 42.71293447])"
      ]
     },
     "execution_count": 39,
     "metadata": {},
     "output_type": "execute_result"
    }
   ],
   "source": [
    "y_new=lin_reg.predict(X_new)"
   ]
  },
  {
   "cell_type": "code",
   "execution_count": 31,
   "id": "0640e5f7",
   "metadata": {
    "slideshow": {
     "slide_type": "fragment"
    }
   },
   "outputs": [
    {
     "data": {
      "image/png": "[encoded data removed]",
      "text/plain": [
       "<Figure size 1200x800 with 1 Axes>"
      ]
     },
     "metadata": {
      "needs_background": "light"
     },
     "output_type": "display_data"
    }
   ],
   "source": [
    "# Predicción con nuevos valores\n",
    "X_new = np.arange(10,20,0.5).reshape(-1,1)\n",
    "y_new = m*X_new + b\n",
    "y_obtained=lin_reg.predict(X_new)\n",
    "fig = plt.figure(dpi=200)\n",
    "ax = fig.add_subplot(1,1,1)\n",
    "ax.plot(X_new, y_new, '--r')\n",
    "ax.plot(X_new, y_obtained)\n",
    "ax.legend(['Recta real','Recta obtenida'])\n",
    "plt.show()"
   ]
  },
  {
   "cell_type": "code",
   "execution_count": 35,
   "id": "47ae826e",
   "metadata": {},
   "outputs": [
    {
     "data": {
      "text/plain": [
       "0.9614450440571377"
      ]
     },
     "execution_count": 35,
     "metadata": {},
     "output_type": "execute_result"
    }
   ],
   "source": [
    "from sklearn.metrics import r2_score\n",
    "r2_score(y_new, y_obtained)"
   ]
  },
  {
   "cell_type": "code",
   "execution_count": 46,
   "id": "beae27a2",
   "metadata": {},
   "outputs": [
    {
     "data": {
      "text/plain": [
       "545"
      ]
     },
     "execution_count": 46,
     "metadata": {},
     "output_type": "execute_result"
    }
   ],
   "source": [
    "len(price_scaled)"
   ]
  },
  {
   "cell_type": "code",
   "execution_count": 47,
   "id": "1f0840d4",
   "metadata": {},
   "outputs": [
    {
     "data": {
      "text/plain": [
       "545"
      ]
     },
     "execution_count": 47,
     "metadata": {},
     "output_type": "execute_result"
    }
   ],
   "source": [
    "len(df['area'])"
   ]
  },
  {
   "cell_type": "code",
   "execution_count": 73,
   "id": "4254071b",
   "metadata": {},
   "outputs": [],
   "source": [
    "X_train=df['area'][0:381]\n",
    "X_test=df['area'][381::]"
   ]
  },
  {
   "cell_type": "code",
   "execution_count": 49,
   "id": "625993b9",
   "metadata": {},
   "outputs": [],
   "source": [
    "y_train=price_scaled[0:381]\n",
    "y_test=price_scaled[381::]"
   ]
  },
  {
   "cell_type": "code",
   "execution_count": 71,
   "id": "3e11286d",
   "metadata": {},
   "outputs": [
    {
     "data": {
      "image/png": "[encoded data removed]",
      "text/plain": [
       "<Figure size 432x288 with 1 Axes>"
      ]
     },
     "metadata": {
      "needs_background": "light"
     },
     "output_type": "display_data"
    }
   ],
   "source": [
    "fig = plt.figure()\n",
    "ax = fig.add_subplot(1,1,1)\n",
    "ax.plot(X_train, y_train,)\n",
    "plt.show()"
   ]
  },
  {
   "cell_type": "code",
   "execution_count": 76,
   "id": "38571cba",
   "metadata": {},
   "outputs": [
    {
     "data": {
      "text/plain": [
       "LinearRegression()"
      ]
     },
     "execution_count": 76,
     "metadata": {},
     "output_type": "execute_result"
    }
   ],
   "source": [
    "lin_reg = LinearRegression() # Creación de objeto Regresor lineal Scikit-Learn\n",
    "X_train = X_train.values.reshape(-1,1) # Generación de vector columna\n",
    "lin_reg.fit(X_train, y_train) # Cálculo de parámetros \\theta_0, \\theta_1... etc"
   ]
  },
  {
   "cell_type": "code",
   "execution_count": 68,
   "id": "4df2fa05",
   "metadata": {},
   "outputs": [
    {
     "data": {
      "text/plain": [
       "-17.68933791721613"
      ]
     },
     "execution_count": 68,
     "metadata": {},
     "output_type": "execute_result"
    }
   ],
   "source": [
    "y_pred=lin_reg.predict(X_test.values.reshape(-1,1))\n",
    "r2_score(y_test, y_pred)"
   ]
  },
  {
   "cell_type": "code",
   "execution_count": 77,
   "id": "75c702a5",
   "metadata": {
    "scrolled": true
   },
   "outputs": [
    {
     "data": {
      "image/png": "[encoded data removed]",
      "text/plain": [
       "<Figure size 432x288 with 1 Axes>"
      ]
     },
     "metadata": {
      "needs_background": "light"
     },
     "output_type": "display_data"
    }
   ],
   "source": [
    "fig = plt.figure()\n",
    "ax = fig.add_subplot(1,1,1)\n",
    "ax.plot(X_train,y_train,  '--r')\n",
    "ax.plot(X_test,lin_reg.predict(X_test.values.reshape(-1,1)))\n",
    "ax.legend(['Recta real','Recta obtenida'])\n",
    "plt.show()"
   ]
  },
  {
   "cell_type": "markdown",
   "id": "1d51f50e",
   "metadata": {
    "slideshow": {
     "slide_type": "slide"
    }
   },
   "source": [
    "# KNN - K Nearest Neighbors (K Vecinos más próximos)"
   ]
  },
  {
   "cell_type": "markdown",
   "id": "04b6f439",
   "metadata": {
    "slideshow": {
     "slide_type": "fragment"
    }
   },
   "source": [
    "- Uno de los algoritmos de ML más simple de implementar\n",
    "- Permite clasificación y regresión de datos"
   ]
  },
  {
   "cell_type": "markdown",
   "id": "204959af",
   "metadata": {
    "slideshow": {
     "slide_type": "slide"
    }
   },
   "source": [
    "# KNN con Scikit-Learn"
   ]
  },
  {
   "cell_type": "code",
   "execution_count": 27,
   "id": "b0efe6c1",
   "metadata": {
    "slideshow": {
     "slide_type": "fragment"
    }
   },
   "outputs": [],
   "source": [
    "from sklearn.preprocessing import StandardScaler\n",
    "from sklearn.datasets import load_wine\n",
    "from sklearn.neighbors import KNeighborsClassifier\n",
    "from sklearn.neighbors import KNeighborsRegressor\n",
    "import pandas as pd\n"
   ]
  },
  {
   "cell_type": "code",
   "execution_count": 29,
   "id": "a7f2c3d8",
   "metadata": {},
   "outputs": [
    {
     "name": "stdout",
     "output_type": "stream",
     "text": [
      "['alcohol', 'malic_acid', 'ash', 'alcalinity_of_ash', 'magnesium', 'total_phenols', 'flavanoids', 'nonflavanoid_phenols', 'proanthocyanins', 'color_intensity', 'hue', 'od280/od315_of_diluted_wines', 'proline']\n",
      "['class_0' 'class_1' 'class_2']\n"
     ]
    },
    {
     "data": {
      "text/html": [
       "<div>\n",
       "<style scoped>\n",
       "    .dataframe tbody tr th:only-of-type {\n",
       "        vertical-align: middle;\n",
       "    }\n",
       "\n",
       "    .dataframe tbody tr th {\n",
       "        vertical-align: top;\n",
       "    }\n",
       "\n",
       "    .dataframe thead th {\n",
       "        text-align: right;\n",
       "    }\n",
       "</style>\n",
       "<table border=\"1\" class=\"dataframe\">\n",
       "  <thead>\n",
       "    <tr style=\"text-align: right;\">\n",
       "      <th></th>\n",
       "      <th>alcohol</th>\n",
       "      <th>malic_acid</th>\n",
       "      <th>ash</th>\n",
       "      <th>alcalinity_of_ash</th>\n",
       "      <th>magnesium</th>\n",
       "      <th>total_phenols</th>\n",
       "      <th>flavanoids</th>\n",
       "      <th>nonflavanoid_phenols</th>\n",
       "      <th>proanthocyanins</th>\n",
       "      <th>color_intensity</th>\n",
       "      <th>hue</th>\n",
       "      <th>od280/od315_of_diluted_wines</th>\n",
       "      <th>proline</th>\n",
       "      <th>target</th>\n",
       "    </tr>\n",
       "  </thead>\n",
       "  <tbody>\n",
       "    <tr>\n",
       "      <th>0</th>\n",
       "      <td>14.23</td>\n",
       "      <td>1.71</td>\n",
       "      <td>2.43</td>\n",
       "      <td>15.6</td>\n",
       "      <td>127.0</td>\n",
       "      <td>2.80</td>\n",
       "      <td>3.06</td>\n",
       "      <td>0.28</td>\n",
       "      <td>2.29</td>\n",
       "      <td>5.64</td>\n",
       "      <td>1.04</td>\n",
       "      <td>3.92</td>\n",
       "      <td>1065.0</td>\n",
       "      <td>0</td>\n",
       "    </tr>\n",
       "    <tr>\n",
       "      <th>1</th>\n",
       "      <td>13.20</td>\n",
       "      <td>1.78</td>\n",
       "      <td>2.14</td>\n",
       "      <td>11.2</td>\n",
       "      <td>100.0</td>\n",
       "      <td>2.65</td>\n",
       "      <td>2.76</td>\n",
       "      <td>0.26</td>\n",
       "      <td>1.28</td>\n",
       "      <td>4.38</td>\n",
       "      <td>1.05</td>\n",
       "      <td>3.40</td>\n",
       "      <td>1050.0</td>\n",
       "      <td>0</td>\n",
       "    </tr>\n",
       "    <tr>\n",
       "      <th>2</th>\n",
       "      <td>13.16</td>\n",
       "      <td>2.36</td>\n",
       "      <td>2.67</td>\n",
       "      <td>18.6</td>\n",
       "      <td>101.0</td>\n",
       "      <td>2.80</td>\n",
       "      <td>3.24</td>\n",
       "      <td>0.30</td>\n",
       "      <td>2.81</td>\n",
       "      <td>5.68</td>\n",
       "      <td>1.03</td>\n",
       "      <td>3.17</td>\n",
       "      <td>1185.0</td>\n",
       "      <td>0</td>\n",
       "    </tr>\n",
       "    <tr>\n",
       "      <th>3</th>\n",
       "      <td>14.37</td>\n",
       "      <td>1.95</td>\n",
       "      <td>2.50</td>\n",
       "      <td>16.8</td>\n",
       "      <td>113.0</td>\n",
       "      <td>3.85</td>\n",
       "      <td>3.49</td>\n",
       "      <td>0.24</td>\n",
       "      <td>2.18</td>\n",
       "      <td>7.80</td>\n",
       "      <td>0.86</td>\n",
       "      <td>3.45</td>\n",
       "      <td>1480.0</td>\n",
       "      <td>0</td>\n",
       "    </tr>\n",
       "    <tr>\n",
       "      <th>4</th>\n",
       "      <td>13.24</td>\n",
       "      <td>2.59</td>\n",
       "      <td>2.87</td>\n",
       "      <td>21.0</td>\n",
       "      <td>118.0</td>\n",
       "      <td>2.80</td>\n",
       "      <td>2.69</td>\n",
       "      <td>0.39</td>\n",
       "      <td>1.82</td>\n",
       "      <td>4.32</td>\n",
       "      <td>1.04</td>\n",
       "      <td>2.93</td>\n",
       "      <td>735.0</td>\n",
       "      <td>0</td>\n",
       "    </tr>\n",
       "    <tr>\n",
       "      <th>...</th>\n",
       "      <td>...</td>\n",
       "      <td>...</td>\n",
       "      <td>...</td>\n",
       "      <td>...</td>\n",
       "      <td>...</td>\n",
       "      <td>...</td>\n",
       "      <td>...</td>\n",
       "      <td>...</td>\n",
       "      <td>...</td>\n",
       "      <td>...</td>\n",
       "      <td>...</td>\n",
       "      <td>...</td>\n",
       "      <td>...</td>\n",
       "      <td>...</td>\n",
       "    </tr>\n",
       "    <tr>\n",
       "      <th>173</th>\n",
       "      <td>13.71</td>\n",
       "      <td>5.65</td>\n",
       "      <td>2.45</td>\n",
       "      <td>20.5</td>\n",
       "      <td>95.0</td>\n",
       "      <td>1.68</td>\n",
       "      <td>0.61</td>\n",
       "      <td>0.52</td>\n",
       "      <td>1.06</td>\n",
       "      <td>7.70</td>\n",
       "      <td>0.64</td>\n",
       "      <td>1.74</td>\n",
       "      <td>740.0</td>\n",
       "      <td>2</td>\n",
       "    </tr>\n",
       "    <tr>\n",
       "      <th>174</th>\n",
       "      <td>13.40</td>\n",
       "      <td>3.91</td>\n",
       "      <td>2.48</td>\n",
       "      <td>23.0</td>\n",
       "      <td>102.0</td>\n",
       "      <td>1.80</td>\n",
       "      <td>0.75</td>\n",
       "      <td>0.43</td>\n",
       "      <td>1.41</td>\n",
       "      <td>7.30</td>\n",
       "      <td>0.70</td>\n",
       "      <td>1.56</td>\n",
       "      <td>750.0</td>\n",
       "      <td>2</td>\n",
       "    </tr>\n",
       "    <tr>\n",
       "      <th>175</th>\n",
       "      <td>13.27</td>\n",
       "      <td>4.28</td>\n",
       "      <td>2.26</td>\n",
       "      <td>20.0</td>\n",
       "      <td>120.0</td>\n",
       "      <td>1.59</td>\n",
       "      <td>0.69</td>\n",
       "      <td>0.43</td>\n",
       "      <td>1.35</td>\n",
       "      <td>10.20</td>\n",
       "      <td>0.59</td>\n",
       "      <td>1.56</td>\n",
       "      <td>835.0</td>\n",
       "      <td>2</td>\n",
       "    </tr>\n",
       "    <tr>\n",
       "      <th>176</th>\n",
       "      <td>13.17</td>\n",
       "      <td>2.59</td>\n",
       "      <td>2.37</td>\n",
       "      <td>20.0</td>\n",
       "      <td>120.0</td>\n",
       "      <td>1.65</td>\n",
       "      <td>0.68</td>\n",
       "      <td>0.53</td>\n",
       "      <td>1.46</td>\n",
       "      <td>9.30</td>\n",
       "      <td>0.60</td>\n",
       "      <td>1.62</td>\n",
       "      <td>840.0</td>\n",
       "      <td>2</td>\n",
       "    </tr>\n",
       "    <tr>\n",
       "      <th>177</th>\n",
       "      <td>14.13</td>\n",
       "      <td>4.10</td>\n",
       "      <td>2.74</td>\n",
       "      <td>24.5</td>\n",
       "      <td>96.0</td>\n",
       "      <td>2.05</td>\n",
       "      <td>0.76</td>\n",
       "      <td>0.56</td>\n",
       "      <td>1.35</td>\n",
       "      <td>9.20</td>\n",
       "      <td>0.61</td>\n",
       "      <td>1.60</td>\n",
       "      <td>560.0</td>\n",
       "      <td>2</td>\n",
       "    </tr>\n",
       "  </tbody>\n",
       "</table>\n",
       "<p>178 rows × 14 columns</p>\n",
       "</div>"
      ],
      "text/plain": [
       "     alcohol  malic_acid   ash  alcalinity_of_ash  magnesium  total_phenols  \\\n",
       "0      14.23        1.71  2.43               15.6      127.0           2.80   \n",
       "1      13.20        1.78  2.14               11.2      100.0           2.65   \n",
       "2      13.16        2.36  2.67               18.6      101.0           2.80   \n",
       "3      14.37        1.95  2.50               16.8      113.0           3.85   \n",
       "4      13.24        2.59  2.87               21.0      118.0           2.80   \n",
       "..       ...         ...   ...                ...        ...            ...   \n",
       "173    13.71        5.65  2.45               20.5       95.0           1.68   \n",
       "174    13.40        3.91  2.48               23.0      102.0           1.80   \n",
       "175    13.27        4.28  2.26               20.0      120.0           1.59   \n",
       "176    13.17        2.59  2.37               20.0      120.0           1.65   \n",
       "177    14.13        4.10  2.74               24.5       96.0           2.05   \n",
       "\n",
       "     flavanoids  nonflavanoid_phenols  proanthocyanins  color_intensity   hue  \\\n",
       "0          3.06                  0.28             2.29             5.64  1.04   \n",
       "1          2.76                  0.26             1.28             4.38  1.05   \n",
       "2          3.24                  0.30             2.81             5.68  1.03   \n",
       "3          3.49                  0.24             2.18             7.80  0.86   \n",
       "4          2.69                  0.39             1.82             4.32  1.04   \n",
       "..          ...                   ...              ...              ...   ...   \n",
       "173        0.61                  0.52             1.06             7.70  0.64   \n",
       "174        0.75                  0.43             1.41             7.30  0.70   \n",
       "175        0.69                  0.43             1.35            10.20  0.59   \n",
       "176        0.68                  0.53             1.46             9.30  0.60   \n",
       "177        0.76                  0.56             1.35             9.20  0.61   \n",
       "\n",
       "     od280/od315_of_diluted_wines  proline  target  \n",
       "0                            3.92   1065.0       0  \n",
       "1                            3.40   1050.0       0  \n",
       "2                            3.17   1185.0       0  \n",
       "3                            3.45   1480.0       0  \n",
       "4                            2.93    735.0       0  \n",
       "..                            ...      ...     ...  \n",
       "173                          1.74    740.0       2  \n",
       "174                          1.56    750.0       2  \n",
       "175                          1.56    835.0       2  \n",
       "176                          1.62    840.0       2  \n",
       "177                          1.60    560.0       2  \n",
       "\n",
       "[178 rows x 14 columns]"
      ]
     },
     "execution_count": 29,
     "metadata": {},
     "output_type": "execute_result"
    }
   ],
   "source": [
    "#Carga y clean de datos.\n",
    "data = load_wine()\n",
    "print(data.feature_names)\n",
    "print(data.target_names)\n",
    "df = pd.DataFrame(data.data, columns=data.feature_names)\n",
    "df['target'] = data.target\n",
    "df"
   ]
  },
  {
   "cell_type": "code",
   "execution_count": 5,
   "id": "1de8f09e",
   "metadata": {
    "slideshow": {
     "slide_type": "fragment"
    }
   },
   "outputs": [],
   "source": [
    "from sklearn.model_selection import train_test_split\n",
    "X = df.drop(columns=['target']) # Separación de las características\n",
    "y = df['target'] # Separación del target (corresponde a lo que quiero predecir)"
   ]
  },
  {
   "cell_type": "code",
   "execution_count": 25,
   "id": "45b7a0f7",
   "metadata": {},
   "outputs": [],
   "source": [
    "X_train, X_test, y_train, y_test = train_test_split(X, y,test_size=0.3, random_state=42)\n",
    "##Lo normal, o incluso by default es 30%"
   ]
  },
  {
   "cell_type": "code",
   "execution_count": 26,
   "id": "5c53168a",
   "metadata": {},
   "outputs": [
    {
     "data": {
      "text/html": [
       "<div>\n",
       "<style scoped>\n",
       "    .dataframe tbody tr th:only-of-type {\n",
       "        vertical-align: middle;\n",
       "    }\n",
       "\n",
       "    .dataframe tbody tr th {\n",
       "        vertical-align: top;\n",
       "    }\n",
       "\n",
       "    .dataframe thead th {\n",
       "        text-align: right;\n",
       "    }\n",
       "</style>\n",
       "<table border=\"1\" class=\"dataframe\">\n",
       "  <thead>\n",
       "    <tr style=\"text-align: right;\">\n",
       "      <th></th>\n",
       "      <th>sepal length (cm)</th>\n",
       "      <th>sepal width (cm)</th>\n",
       "      <th>petal length (cm)</th>\n",
       "      <th>petal width (cm)</th>\n",
       "    </tr>\n",
       "  </thead>\n",
       "  <tbody>\n",
       "    <tr>\n",
       "      <th>118</th>\n",
       "      <td>7.7</td>\n",
       "      <td>2.6</td>\n",
       "      <td>6.9</td>\n",
       "      <td>2.3</td>\n",
       "    </tr>\n",
       "    <tr>\n",
       "      <th>18</th>\n",
       "      <td>5.7</td>\n",
       "      <td>3.8</td>\n",
       "      <td>1.7</td>\n",
       "      <td>0.3</td>\n",
       "    </tr>\n",
       "    <tr>\n",
       "      <th>4</th>\n",
       "      <td>5.0</td>\n",
       "      <td>3.6</td>\n",
       "      <td>1.4</td>\n",
       "      <td>0.2</td>\n",
       "    </tr>\n",
       "    <tr>\n",
       "      <th>45</th>\n",
       "      <td>4.8</td>\n",
       "      <td>3.0</td>\n",
       "      <td>1.4</td>\n",
       "      <td>0.3</td>\n",
       "    </tr>\n",
       "    <tr>\n",
       "      <th>59</th>\n",
       "      <td>5.2</td>\n",
       "      <td>2.7</td>\n",
       "      <td>3.9</td>\n",
       "      <td>1.4</td>\n",
       "    </tr>\n",
       "    <tr>\n",
       "      <th>...</th>\n",
       "      <td>...</td>\n",
       "      <td>...</td>\n",
       "      <td>...</td>\n",
       "      <td>...</td>\n",
       "    </tr>\n",
       "    <tr>\n",
       "      <th>133</th>\n",
       "      <td>6.3</td>\n",
       "      <td>2.8</td>\n",
       "      <td>5.1</td>\n",
       "      <td>1.5</td>\n",
       "    </tr>\n",
       "    <tr>\n",
       "      <th>137</th>\n",
       "      <td>6.4</td>\n",
       "      <td>3.1</td>\n",
       "      <td>5.5</td>\n",
       "      <td>1.8</td>\n",
       "    </tr>\n",
       "    <tr>\n",
       "      <th>72</th>\n",
       "      <td>6.3</td>\n",
       "      <td>2.5</td>\n",
       "      <td>4.9</td>\n",
       "      <td>1.5</td>\n",
       "    </tr>\n",
       "    <tr>\n",
       "      <th>140</th>\n",
       "      <td>6.7</td>\n",
       "      <td>3.1</td>\n",
       "      <td>5.6</td>\n",
       "      <td>2.4</td>\n",
       "    </tr>\n",
       "    <tr>\n",
       "      <th>37</th>\n",
       "      <td>4.9</td>\n",
       "      <td>3.6</td>\n",
       "      <td>1.4</td>\n",
       "      <td>0.1</td>\n",
       "    </tr>\n",
       "  </tbody>\n",
       "</table>\n",
       "<p>105 rows × 4 columns</p>\n",
       "</div>"
      ],
      "text/plain": [
       "     sepal length (cm)  sepal width (cm)  petal length (cm)  petal width (cm)\n",
       "118                7.7               2.6                6.9               2.3\n",
       "18                 5.7               3.8                1.7               0.3\n",
       "4                  5.0               3.6                1.4               0.2\n",
       "45                 4.8               3.0                1.4               0.3\n",
       "59                 5.2               2.7                3.9               1.4\n",
       "..                 ...               ...                ...               ...\n",
       "133                6.3               2.8                5.1               1.5\n",
       "137                6.4               3.1                5.5               1.8\n",
       "72                 6.3               2.5                4.9               1.5\n",
       "140                6.7               3.1                5.6               2.4\n",
       "37                 4.9               3.6                1.4               0.1\n",
       "\n",
       "[105 rows x 4 columns]"
      ]
     },
     "execution_count": 26,
     "metadata": {},
     "output_type": "execute_result"
    }
   ],
   "source": [
    "X_train"
   ]
  },
  {
   "cell_type": "code",
   "execution_count": 13,
   "id": "68c6d267",
   "metadata": {},
   "outputs": [],
   "source": [
    "scaler = StandardScaler()\n",
    "scaler.fit(X_train)\n",
    "X_train = scaler.transform(X_train)\n",
    "X_test = scaler.transform(X_test) # Ojo: escalamiento de test se hace en base al train"
   ]
  },
  {
   "cell_type": "code",
   "execution_count": 14,
   "id": "ad77ebf3",
   "metadata": {
    "slideshow": {
     "slide_type": "fragment"
    }
   },
   "outputs": [
    {
     "data": {
      "text/plain": [
       "KNeighborsClassifier(n_neighbors=3)"
      ]
     },
     "execution_count": 14,
     "metadata": {},
     "output_type": "execute_result"
    }
   ],
   "source": [
    "knn = KNeighborsClassifier(n_neighbors=3)\n",
    "knn.fit(X_train, y_train) # Ojo: fit en base a los de entrenamiento!!"
   ]
  },
  {
   "cell_type": "code",
   "execution_count": 15,
   "id": "9f9c36e9",
   "metadata": {},
   "outputs": [
    {
     "data": {
      "text/plain": [
       "array([2, 2, 2, 1, 0, 1, 1, 0, 0, 1, 2, 0, 1, 2, 2, 2, 0, 0, 1, 0, 0, 1,\n",
       "       0, 2, 0, 0, 0, 2, 2, 0, 2, 1, 0, 0, 1, 1, 2, 0, 0, 1, 1, 0, 2, 2,\n",
       "       2])"
      ]
     },
     "execution_count": 15,
     "metadata": {},
     "output_type": "execute_result"
    }
   ],
   "source": [
    "predictions = knn.predict(X_test)\n",
    "predictions"
   ]
  },
  {
   "cell_type": "code",
   "execution_count": 16,
   "id": "e2899d40",
   "metadata": {},
   "outputs": [
    {
     "name": "stdout",
     "output_type": "stream",
     "text": [
      "Valores predichos [2, 2, 2, 1, 0, 1, 1, 0, 0, 1, 2, 0, 1, 2, 2, 2, 0, 0, 1, 0, 0, 1, 0, 2, 0, 0, 0, 2, 2, 0, 2, 1, 0, 0, 1, 1, 2, 0, 0, 1, 1, 0, 2, 2, 2]\n",
      "Valores reales [1, 2, 2, 1, 0, 2, 1, 0, 0, 1, 2, 0, 1, 2, 2, 2, 0, 0, 1, 0, 0, 2, 0, 2, 0, 0, 0, 2, 2, 0, 2, 2, 0, 0, 1, 1, 2, 0, 0, 1, 1, 0, 2, 2, 2]\n",
      "Accuracy: 0.9111111111111111\n"
     ]
    }
   ],
   "source": [
    "print('Valores predichos',predictions.tolist())\n",
    "print('Valores reales',y_test.tolist())\n",
    "print('Accuracy:',knn.score(X_test, y_test))"
   ]
  },
  {
   "cell_type": "markdown",
   "id": "a0eb59f8",
   "metadata": {
    "slideshow": {
     "slide_type": "slide"
    }
   },
   "source": [
    "# Actividad 4"
   ]
  },
  {
   "cell_type": "markdown",
   "id": "e6b5db8a",
   "metadata": {
    "slideshow": {
     "slide_type": "fragment"
    }
   },
   "source": [
    "Scikit-Learn no es solo una potente herramienta para la aplicación de distintos algoritmos de ML, sino que también provee algunos populares set de datos con los cuales puedes probar tanto algoritmos de clasificación como de regresión\n",
    "\n",
    "- Estudie los datasets disponibles en Scikit-learn [aquí](https://scikit-learn.org/stable/datasets/toy_dataset.html) y cómo utilizarlos.\n",
    "- Descargue el dataset **Diabetes dataset** disponible en Scikit-Learn.\n",
    "- Utilice un regresor lineal y KNN para la progresión de la enfermedad. \n",
    "- Compare gráficamente ambas técnicas."
   ]
  },
  {
   "cell_type": "code",
   "execution_count": 1,
   "id": "7e8be1f8",
   "metadata": {},
   "outputs": [],
   "source": [
    "from sklearn.datasets import load_diabetes\n",
    "import pandas as pd\n",
    "data = load_diabetes()"
   ]
  },
  {
   "cell_type": "code",
   "execution_count": 2,
   "id": "2656a5cb",
   "metadata": {},
   "outputs": [
    {
     "data": {
      "text/html": [
       "<div>\n",
       "<style scoped>\n",
       "    .dataframe tbody tr th:only-of-type {\n",
       "        vertical-align: middle;\n",
       "    }\n",
       "\n",
       "    .dataframe tbody tr th {\n",
       "        vertical-align: top;\n",
       "    }\n",
       "\n",
       "    .dataframe thead th {\n",
       "        text-align: right;\n",
       "    }\n",
       "</style>\n",
       "<table border=\"1\" class=\"dataframe\">\n",
       "  <thead>\n",
       "    <tr style=\"text-align: right;\">\n",
       "      <th></th>\n",
       "      <th>age</th>\n",
       "      <th>sex</th>\n",
       "      <th>bmi</th>\n",
       "      <th>bp</th>\n",
       "      <th>s1</th>\n",
       "      <th>s2</th>\n",
       "      <th>s3</th>\n",
       "      <th>s4</th>\n",
       "      <th>s5</th>\n",
       "      <th>s6</th>\n",
       "    </tr>\n",
       "  </thead>\n",
       "  <tbody>\n",
       "    <tr>\n",
       "      <th>0</th>\n",
       "      <td>0.038076</td>\n",
       "      <td>0.050680</td>\n",
       "      <td>0.061696</td>\n",
       "      <td>0.021872</td>\n",
       "      <td>-0.044223</td>\n",
       "      <td>-0.034821</td>\n",
       "      <td>-0.043401</td>\n",
       "      <td>-0.002592</td>\n",
       "      <td>0.019908</td>\n",
       "      <td>-0.017646</td>\n",
       "    </tr>\n",
       "    <tr>\n",
       "      <th>1</th>\n",
       "      <td>-0.001882</td>\n",
       "      <td>-0.044642</td>\n",
       "      <td>-0.051474</td>\n",
       "      <td>-0.026328</td>\n",
       "      <td>-0.008449</td>\n",
       "      <td>-0.019163</td>\n",
       "      <td>0.074412</td>\n",
       "      <td>-0.039493</td>\n",
       "      <td>-0.068330</td>\n",
       "      <td>-0.092204</td>\n",
       "    </tr>\n",
       "    <tr>\n",
       "      <th>2</th>\n",
       "      <td>0.085299</td>\n",
       "      <td>0.050680</td>\n",
       "      <td>0.044451</td>\n",
       "      <td>-0.005671</td>\n",
       "      <td>-0.045599</td>\n",
       "      <td>-0.034194</td>\n",
       "      <td>-0.032356</td>\n",
       "      <td>-0.002592</td>\n",
       "      <td>0.002864</td>\n",
       "      <td>-0.025930</td>\n",
       "    </tr>\n",
       "    <tr>\n",
       "      <th>3</th>\n",
       "      <td>-0.089063</td>\n",
       "      <td>-0.044642</td>\n",
       "      <td>-0.011595</td>\n",
       "      <td>-0.036656</td>\n",
       "      <td>0.012191</td>\n",
       "      <td>0.024991</td>\n",
       "      <td>-0.036038</td>\n",
       "      <td>0.034309</td>\n",
       "      <td>0.022692</td>\n",
       "      <td>-0.009362</td>\n",
       "    </tr>\n",
       "    <tr>\n",
       "      <th>4</th>\n",
       "      <td>0.005383</td>\n",
       "      <td>-0.044642</td>\n",
       "      <td>-0.036385</td>\n",
       "      <td>0.021872</td>\n",
       "      <td>0.003935</td>\n",
       "      <td>0.015596</td>\n",
       "      <td>0.008142</td>\n",
       "      <td>-0.002592</td>\n",
       "      <td>-0.031991</td>\n",
       "      <td>-0.046641</td>\n",
       "    </tr>\n",
       "    <tr>\n",
       "      <th>...</th>\n",
       "      <td>...</td>\n",
       "      <td>...</td>\n",
       "      <td>...</td>\n",
       "      <td>...</td>\n",
       "      <td>...</td>\n",
       "      <td>...</td>\n",
       "      <td>...</td>\n",
       "      <td>...</td>\n",
       "      <td>...</td>\n",
       "      <td>...</td>\n",
       "    </tr>\n",
       "    <tr>\n",
       "      <th>437</th>\n",
       "      <td>0.041708</td>\n",
       "      <td>0.050680</td>\n",
       "      <td>0.019662</td>\n",
       "      <td>0.059744</td>\n",
       "      <td>-0.005697</td>\n",
       "      <td>-0.002566</td>\n",
       "      <td>-0.028674</td>\n",
       "      <td>-0.002592</td>\n",
       "      <td>0.031193</td>\n",
       "      <td>0.007207</td>\n",
       "    </tr>\n",
       "    <tr>\n",
       "      <th>438</th>\n",
       "      <td>-0.005515</td>\n",
       "      <td>0.050680</td>\n",
       "      <td>-0.015906</td>\n",
       "      <td>-0.067642</td>\n",
       "      <td>0.049341</td>\n",
       "      <td>0.079165</td>\n",
       "      <td>-0.028674</td>\n",
       "      <td>0.034309</td>\n",
       "      <td>-0.018118</td>\n",
       "      <td>0.044485</td>\n",
       "    </tr>\n",
       "    <tr>\n",
       "      <th>439</th>\n",
       "      <td>0.041708</td>\n",
       "      <td>0.050680</td>\n",
       "      <td>-0.015906</td>\n",
       "      <td>0.017282</td>\n",
       "      <td>-0.037344</td>\n",
       "      <td>-0.013840</td>\n",
       "      <td>-0.024993</td>\n",
       "      <td>-0.011080</td>\n",
       "      <td>-0.046879</td>\n",
       "      <td>0.015491</td>\n",
       "    </tr>\n",
       "    <tr>\n",
       "      <th>440</th>\n",
       "      <td>-0.045472</td>\n",
       "      <td>-0.044642</td>\n",
       "      <td>0.039062</td>\n",
       "      <td>0.001215</td>\n",
       "      <td>0.016318</td>\n",
       "      <td>0.015283</td>\n",
       "      <td>-0.028674</td>\n",
       "      <td>0.026560</td>\n",
       "      <td>0.044528</td>\n",
       "      <td>-0.025930</td>\n",
       "    </tr>\n",
       "    <tr>\n",
       "      <th>441</th>\n",
       "      <td>-0.045472</td>\n",
       "      <td>-0.044642</td>\n",
       "      <td>-0.073030</td>\n",
       "      <td>-0.081414</td>\n",
       "      <td>0.083740</td>\n",
       "      <td>0.027809</td>\n",
       "      <td>0.173816</td>\n",
       "      <td>-0.039493</td>\n",
       "      <td>-0.004220</td>\n",
       "      <td>0.003064</td>\n",
       "    </tr>\n",
       "  </tbody>\n",
       "</table>\n",
       "<p>442 rows × 10 columns</p>\n",
       "</div>"
      ],
      "text/plain": [
       "          age       sex       bmi        bp        s1        s2        s3  \\\n",
       "0    0.038076  0.050680  0.061696  0.021872 -0.044223 -0.034821 -0.043401   \n",
       "1   -0.001882 -0.044642 -0.051474 -0.026328 -0.008449 -0.019163  0.074412   \n",
       "2    0.085299  0.050680  0.044451 -0.005671 -0.045599 -0.034194 -0.032356   \n",
       "3   -0.089063 -0.044642 -0.011595 -0.036656  0.012191  0.024991 -0.036038   \n",
       "4    0.005383 -0.044642 -0.036385  0.021872  0.003935  0.015596  0.008142   \n",
       "..        ...       ...       ...       ...       ...       ...       ...   \n",
       "437  0.041708  0.050680  0.019662  0.059744 -0.005697 -0.002566 -0.028674   \n",
       "438 -0.005515  0.050680 -0.015906 -0.067642  0.049341  0.079165 -0.028674   \n",
       "439  0.041708  0.050680 -0.015906  0.017282 -0.037344 -0.013840 -0.024993   \n",
       "440 -0.045472 -0.044642  0.039062  0.001215  0.016318  0.015283 -0.028674   \n",
       "441 -0.045472 -0.044642 -0.073030 -0.081414  0.083740  0.027809  0.173816   \n",
       "\n",
       "           s4        s5        s6  \n",
       "0   -0.002592  0.019908 -0.017646  \n",
       "1   -0.039493 -0.068330 -0.092204  \n",
       "2   -0.002592  0.002864 -0.025930  \n",
       "3    0.034309  0.022692 -0.009362  \n",
       "4   -0.002592 -0.031991 -0.046641  \n",
       "..        ...       ...       ...  \n",
       "437 -0.002592  0.031193  0.007207  \n",
       "438  0.034309 -0.018118  0.044485  \n",
       "439 -0.011080 -0.046879  0.015491  \n",
       "440  0.026560  0.044528 -0.025930  \n",
       "441 -0.039493 -0.004220  0.003064  \n",
       "\n",
       "[442 rows x 10 columns]"
      ]
     },
     "execution_count": 2,
     "metadata": {},
     "output_type": "execute_result"
    }
   ],
   "source": [
    "df = pd.DataFrame(data.data, columns=data.feature_names)\n",
    "df"
   ]
  },
  {
   "cell_type": "code",
   "execution_count": 3,
   "id": "3e1005c8",
   "metadata": {},
   "outputs": [
    {
     "data": {
      "text/html": [
       "<div>\n",
       "<style scoped>\n",
       "    .dataframe tbody tr th:only-of-type {\n",
       "        vertical-align: middle;\n",
       "    }\n",
       "\n",
       "    .dataframe tbody tr th {\n",
       "        vertical-align: top;\n",
       "    }\n",
       "\n",
       "    .dataframe thead th {\n",
       "        text-align: right;\n",
       "    }\n",
       "</style>\n",
       "<table border=\"1\" class=\"dataframe\">\n",
       "  <thead>\n",
       "    <tr style=\"text-align: right;\">\n",
       "      <th></th>\n",
       "      <th>age</th>\n",
       "      <th>sex</th>\n",
       "      <th>bmi</th>\n",
       "      <th>bp</th>\n",
       "      <th>s1</th>\n",
       "      <th>s2</th>\n",
       "      <th>s3</th>\n",
       "      <th>s4</th>\n",
       "      <th>s5</th>\n",
       "      <th>s6</th>\n",
       "      <th>progreso</th>\n",
       "    </tr>\n",
       "  </thead>\n",
       "  <tbody>\n",
       "    <tr>\n",
       "      <th>0</th>\n",
       "      <td>0.038076</td>\n",
       "      <td>0.050680</td>\n",
       "      <td>0.061696</td>\n",
       "      <td>0.021872</td>\n",
       "      <td>-0.044223</td>\n",
       "      <td>-0.034821</td>\n",
       "      <td>-0.043401</td>\n",
       "      <td>-0.002592</td>\n",
       "      <td>0.019908</td>\n",
       "      <td>-0.017646</td>\n",
       "      <td>151.0</td>\n",
       "    </tr>\n",
       "    <tr>\n",
       "      <th>1</th>\n",
       "      <td>-0.001882</td>\n",
       "      <td>-0.044642</td>\n",
       "      <td>-0.051474</td>\n",
       "      <td>-0.026328</td>\n",
       "      <td>-0.008449</td>\n",
       "      <td>-0.019163</td>\n",
       "      <td>0.074412</td>\n",
       "      <td>-0.039493</td>\n",
       "      <td>-0.068330</td>\n",
       "      <td>-0.092204</td>\n",
       "      <td>75.0</td>\n",
       "    </tr>\n",
       "    <tr>\n",
       "      <th>2</th>\n",
       "      <td>0.085299</td>\n",
       "      <td>0.050680</td>\n",
       "      <td>0.044451</td>\n",
       "      <td>-0.005671</td>\n",
       "      <td>-0.045599</td>\n",
       "      <td>-0.034194</td>\n",
       "      <td>-0.032356</td>\n",
       "      <td>-0.002592</td>\n",
       "      <td>0.002864</td>\n",
       "      <td>-0.025930</td>\n",
       "      <td>141.0</td>\n",
       "    </tr>\n",
       "    <tr>\n",
       "      <th>3</th>\n",
       "      <td>-0.089063</td>\n",
       "      <td>-0.044642</td>\n",
       "      <td>-0.011595</td>\n",
       "      <td>-0.036656</td>\n",
       "      <td>0.012191</td>\n",
       "      <td>0.024991</td>\n",
       "      <td>-0.036038</td>\n",
       "      <td>0.034309</td>\n",
       "      <td>0.022692</td>\n",
       "      <td>-0.009362</td>\n",
       "      <td>206.0</td>\n",
       "    </tr>\n",
       "    <tr>\n",
       "      <th>4</th>\n",
       "      <td>0.005383</td>\n",
       "      <td>-0.044642</td>\n",
       "      <td>-0.036385</td>\n",
       "      <td>0.021872</td>\n",
       "      <td>0.003935</td>\n",
       "      <td>0.015596</td>\n",
       "      <td>0.008142</td>\n",
       "      <td>-0.002592</td>\n",
       "      <td>-0.031991</td>\n",
       "      <td>-0.046641</td>\n",
       "      <td>135.0</td>\n",
       "    </tr>\n",
       "    <tr>\n",
       "      <th>...</th>\n",
       "      <td>...</td>\n",
       "      <td>...</td>\n",
       "      <td>...</td>\n",
       "      <td>...</td>\n",
       "      <td>...</td>\n",
       "      <td>...</td>\n",
       "      <td>...</td>\n",
       "      <td>...</td>\n",
       "      <td>...</td>\n",
       "      <td>...</td>\n",
       "      <td>...</td>\n",
       "    </tr>\n",
       "    <tr>\n",
       "      <th>437</th>\n",
       "      <td>0.041708</td>\n",
       "      <td>0.050680</td>\n",
       "      <td>0.019662</td>\n",
       "      <td>0.059744</td>\n",
       "      <td>-0.005697</td>\n",
       "      <td>-0.002566</td>\n",
       "      <td>-0.028674</td>\n",
       "      <td>-0.002592</td>\n",
       "      <td>0.031193</td>\n",
       "      <td>0.007207</td>\n",
       "      <td>178.0</td>\n",
       "    </tr>\n",
       "    <tr>\n",
       "      <th>438</th>\n",
       "      <td>-0.005515</td>\n",
       "      <td>0.050680</td>\n",
       "      <td>-0.015906</td>\n",
       "      <td>-0.067642</td>\n",
       "      <td>0.049341</td>\n",
       "      <td>0.079165</td>\n",
       "      <td>-0.028674</td>\n",
       "      <td>0.034309</td>\n",
       "      <td>-0.018118</td>\n",
       "      <td>0.044485</td>\n",
       "      <td>104.0</td>\n",
       "    </tr>\n",
       "    <tr>\n",
       "      <th>439</th>\n",
       "      <td>0.041708</td>\n",
       "      <td>0.050680</td>\n",
       "      <td>-0.015906</td>\n",
       "      <td>0.017282</td>\n",
       "      <td>-0.037344</td>\n",
       "      <td>-0.013840</td>\n",
       "      <td>-0.024993</td>\n",
       "      <td>-0.011080</td>\n",
       "      <td>-0.046879</td>\n",
       "      <td>0.015491</td>\n",
       "      <td>132.0</td>\n",
       "    </tr>\n",
       "    <tr>\n",
       "      <th>440</th>\n",
       "      <td>-0.045472</td>\n",
       "      <td>-0.044642</td>\n",
       "      <td>0.039062</td>\n",
       "      <td>0.001215</td>\n",
       "      <td>0.016318</td>\n",
       "      <td>0.015283</td>\n",
       "      <td>-0.028674</td>\n",
       "      <td>0.026560</td>\n",
       "      <td>0.044528</td>\n",
       "      <td>-0.025930</td>\n",
       "      <td>220.0</td>\n",
       "    </tr>\n",
       "    <tr>\n",
       "      <th>441</th>\n",
       "      <td>-0.045472</td>\n",
       "      <td>-0.044642</td>\n",
       "      <td>-0.073030</td>\n",
       "      <td>-0.081414</td>\n",
       "      <td>0.083740</td>\n",
       "      <td>0.027809</td>\n",
       "      <td>0.173816</td>\n",
       "      <td>-0.039493</td>\n",
       "      <td>-0.004220</td>\n",
       "      <td>0.003064</td>\n",
       "      <td>57.0</td>\n",
       "    </tr>\n",
       "  </tbody>\n",
       "</table>\n",
       "<p>442 rows × 11 columns</p>\n",
       "</div>"
      ],
      "text/plain": [
       "          age       sex       bmi        bp        s1        s2        s3  \\\n",
       "0    0.038076  0.050680  0.061696  0.021872 -0.044223 -0.034821 -0.043401   \n",
       "1   -0.001882 -0.044642 -0.051474 -0.026328 -0.008449 -0.019163  0.074412   \n",
       "2    0.085299  0.050680  0.044451 -0.005671 -0.045599 -0.034194 -0.032356   \n",
       "3   -0.089063 -0.044642 -0.011595 -0.036656  0.012191  0.024991 -0.036038   \n",
       "4    0.005383 -0.044642 -0.036385  0.021872  0.003935  0.015596  0.008142   \n",
       "..        ...       ...       ...       ...       ...       ...       ...   \n",
       "437  0.041708  0.050680  0.019662  0.059744 -0.005697 -0.002566 -0.028674   \n",
       "438 -0.005515  0.050680 -0.015906 -0.067642  0.049341  0.079165 -0.028674   \n",
       "439  0.041708  0.050680 -0.015906  0.017282 -0.037344 -0.013840 -0.024993   \n",
       "440 -0.045472 -0.044642  0.039062  0.001215  0.016318  0.015283 -0.028674   \n",
       "441 -0.045472 -0.044642 -0.073030 -0.081414  0.083740  0.027809  0.173816   \n",
       "\n",
       "           s4        s5        s6  progreso  \n",
       "0   -0.002592  0.019908 -0.017646     151.0  \n",
       "1   -0.039493 -0.068330 -0.092204      75.0  \n",
       "2   -0.002592  0.002864 -0.025930     141.0  \n",
       "3    0.034309  0.022692 -0.009362     206.0  \n",
       "4   -0.002592 -0.031991 -0.046641     135.0  \n",
       "..        ...       ...       ...       ...  \n",
       "437 -0.002592  0.031193  0.007207     178.0  \n",
       "438  0.034309 -0.018118  0.044485     104.0  \n",
       "439 -0.011080 -0.046879  0.015491     132.0  \n",
       "440  0.026560  0.044528 -0.025930     220.0  \n",
       "441 -0.039493 -0.004220  0.003064      57.0  \n",
       "\n",
       "[442 rows x 11 columns]"
      ]
     },
     "execution_count": 3,
     "metadata": {},
     "output_type": "execute_result"
    }
   ],
   "source": [
    "df[\"progreso\"]=data.target\n",
    "df"
   ]
  },
  {
   "cell_type": "code",
   "execution_count": 29,
   "id": "2aede15c",
   "metadata": {},
   "outputs": [],
   "source": []
  },
  {
   "cell_type": "code",
   "execution_count": 17,
   "id": "86be12cc",
   "metadata": {},
   "outputs": [
    {
     "name": "stdout",
     "output_type": "stream",
     "text": [
      "0.343404348493035\n",
      "0.3307186243654272\n",
      "0.4350591504408886\n",
      "0.33854017846903794\n",
      "0.4155715602364628\n",
      "0.3644263133411002\n",
      "0.43600964832444655\n",
      "0.3852223881674053\n",
      "0.40947927198313194\n",
      "0.30480352759981055\n",
      "0.4566108450399682\n",
      "0.43605977507777105\n",
      "0.3753062190294021\n",
      "0.3182707656313031\n",
      "0.4658538572830375\n",
      "0.4053701416124583\n",
      "0.4762075090042194\n",
      "0.4163213740391687\n",
      "0.47932989262407677\n",
      "0.38329643354585063\n",
      "0.3728820606011186\n",
      "0.442984066108562\n",
      "0.41216313910473945\n",
      "0.45751217912841846\n",
      "0.46086350751473415\n",
      "0.3860957600705349\n",
      "0.4659215170771055\n",
      "0.4248525445484813\n",
      "0.3159574036064481\n",
      "0.3906557782085711\n",
      "0.4478812719074218\n",
      "0.4219737224354291\n",
      "0.38404384675806813\n",
      "0.35244375287376983\n",
      "0.33035630986943587\n",
      "0.5551875554543424\n",
      "0.37765466869616005\n",
      "0.4876676732359774\n",
      "0.4085219016541569\n",
      "0.3895500215137154\n",
      "0.29716965733387457\n",
      "0.3599804123337237\n",
      "0.4451888449149183\n",
      "0.38927841674738517\n",
      "0.4387024015544123\n",
      "0.4361285360784819\n",
      "0.4646040955127695\n",
      "0.5211640764157732\n",
      "0.40051742467725404\n",
      "0.4443848455650161\n",
      "0.3750252879270737\n",
      "0.409407917628687\n",
      "0.3973899277408729\n",
      "0.5010014906354838\n",
      "0.4121943540189549\n",
      "0.5086776367046886\n",
      "0.3175572758095555\n",
      "0.44920372469325254\n",
      "0.46093472227390664\n",
      "0.42421727038556856\n",
      "0.4766334243839544\n",
      "0.4412068620059304\n",
      "0.4522015134742816\n",
      "0.47968001023201556\n",
      "0.46226273775899973\n",
      "0.47464173820734357\n",
      "0.3828053802759519\n",
      "0.39522410563709476\n",
      "0.4790151754451316\n",
      "0.4580210410904286\n",
      "0.445938111044589\n",
      "0.4529290139236207\n",
      "0.475927607771628\n",
      "0.5116805904066676\n",
      "0.4904893785275377\n",
      "0.36329528550770973\n",
      "0.42845828158084864\n",
      "0.46636144883121955\n",
      "0.38637403077670696\n",
      "0.4581100741247217\n",
      "0.42461580372451135\n",
      "0.469839085934488\n",
      "0.42654307322546847\n",
      "0.4351440512009145\n",
      "0.3599102955057969\n",
      "0.42036603733999445\n",
      "0.5150540883703056\n",
      "0.4632857478407263\n",
      "0.45833372817444606\n",
      "0.4416386387511527\n",
      "0.3670434456174354\n",
      "0.3308520796398926\n",
      "0.4685434315840239\n",
      "0.36314749359237963\n",
      "0.5339623110457912\n",
      "0.4154517545592885\n",
      "0.45594867865268995\n",
      "0.3402158312949034\n",
      "0.43252687810690527\n",
      "0.5031521251164948\n",
      "0.45739662710700957\n",
      "0.4758416913391482\n",
      "0.33116343379013524\n",
      "0.3858041088137163\n",
      "0.4246404521722341\n",
      "0.45817108003128226\n",
      "0.409000208716532\n",
      "0.4730572888281602\n",
      "0.4545912397159061\n",
      "0.3544707426648396\n",
      "0.4397484526058917\n",
      "0.44784850092531525\n",
      "0.3359209925260478\n",
      "0.43761916578367666\n",
      "0.36999615298594\n",
      "0.3965618392554916\n",
      "0.3580155376748775\n",
      "0.38126824260450987\n",
      "0.34777666630866844\n",
      "0.36924377808081943\n",
      "0.4098629169247555\n",
      "0.3865532910350866\n",
      "0.42464150935575184\n",
      "0.4551117631745346\n",
      "0.5410594908034905\n",
      "0.4771282886565562\n",
      "0.478232657037739\n",
      "0.4240395762605109\n",
      "0.3822283848661405\n",
      "0.40866283344925114\n",
      "0.5046676298109501\n",
      "0.418551103130804\n",
      "0.43107879127080306\n",
      "0.4586293093609076\n",
      "0.41979521511594364\n",
      "0.46644006704317964\n",
      "0.4176483825149311\n",
      "0.4262529251471824\n",
      "0.5024392756863243\n",
      "0.38869317029875616\n",
      "0.3972452121410941\n",
      "0.3321447496732618\n",
      "0.43132400460907605\n",
      "0.4044817353895228\n",
      "0.45320509934622333\n",
      "0.47740795230207167\n",
      "0.4628719690115397\n",
      "0.3912744030734061\n",
      "0.404493176584911\n",
      "0.3892339364326529\n",
      "0.3857712181342322\n",
      "0.4284217100826466\n",
      "0.45140085355433557\n",
      "0.3486701374904648\n",
      "0.40989935435686975\n",
      "0.38802359146687493\n",
      "0.47719359994992894\n",
      "0.320038274935426\n",
      "0.4234202354939465\n",
      "0.424158428753866\n",
      "0.372260043521068\n",
      "0.40898700373381336\n",
      "0.3361596774546276\n",
      "0.34676563293574414\n",
      "0.461470336218587\n",
      "0.35501824825140704\n",
      "0.42426545626982115\n",
      "0.43349548739125876\n",
      "0.4366285138718584\n",
      "0.33316307946706336\n",
      "0.3630780638649357\n",
      "0.38220061111413817\n",
      "0.40527650458518605\n",
      "0.4351742493829468\n",
      "0.5081923071400108\n",
      "0.43003743845276643\n",
      "0.3178837871613317\n",
      "0.35593173102111086\n",
      "0.42841213283632873\n",
      "0.416287430973872\n",
      "0.4046072720091115\n",
      "0.4011799063523669\n",
      "0.39786658167796496\n",
      "0.39571421737252166\n",
      "0.4072447886746975\n",
      "0.4489059581995296\n",
      "0.4967080579433153\n",
      "0.41354043571550836\n",
      "0.42343324854772435\n",
      "0.4705598879498656\n",
      "0.3941033482256575\n",
      "0.41537456419351104\n",
      "0.4215861744913052\n",
      "0.475350301580013\n",
      "0.45928694933921144\n",
      "0.4593586733191035\n",
      "0.4594466252750654\n",
      "0.4438723367122507\n",
      "0.41587300542636874\n",
      "0.3985113724901874\n",
      "0.41258662689496617\n",
      "0.3897394053134662\n",
      "0.4682302909239475\n",
      "0.4628025155648354\n",
      "0.4328247495720693\n",
      "0.4018683555693445\n",
      "0.3418738847618811\n",
      "0.3101045765506717\n",
      "0.34876262837065286\n",
      "0.36035149302561376\n",
      "0.3288597351989838\n",
      "0.4407628645508833\n",
      "0.4181011196887441\n",
      "0.4642290965782909\n",
      "0.384063734786652\n",
      "0.4028981045027623\n",
      "0.4285935318034083\n",
      "0.5626605551061308\n",
      "0.38732901317776747\n",
      "0.37698099337402513\n",
      "0.48033612183611496\n",
      "0.33711990030250993\n",
      "0.4500880067409079\n",
      "0.41502344212163733\n",
      "0.4129349315341442\n",
      "0.39104405905300466\n",
      "0.48159902780980823\n",
      "0.37006303337209057\n",
      "0.5309732505548546\n",
      "0.4602160253328338\n",
      "0.39845610547850874\n",
      "0.4999714613570022\n",
      "0.4742472187485143\n",
      "0.3074453933542286\n",
      "0.3463564408435087\n",
      "0.38296151237785747\n",
      "0.46158821064628486\n",
      "0.4863651077810359\n",
      "0.4587488136150155\n",
      "0.41464683264980007\n",
      "0.5481462452074128\n",
      "0.38129381765643033\n",
      "0.4467257261405736\n",
      "0.3172243546766763\n",
      "0.3806795426268591\n",
      "0.3715510957830759\n",
      "0.4710166275000627\n",
      "0.5031771362222033\n",
      "0.4894559575542239\n",
      "0.3632004303393268\n",
      "0.32196704027515133\n",
      "0.41255821634407175\n",
      "0.42744673722410165\n",
      "0.39254456083705214\n",
      "0.32108714413811057\n",
      "0.3654176066733472\n",
      "0.426689393326252\n",
      "0.48326064650143874\n",
      "0.46227786357894096\n",
      "0.342634775015907\n",
      "0.38678179483630615\n",
      "0.4303229800521121\n",
      "0.28693600140716646\n",
      "0.4694006090610069\n",
      "0.5364075627337955\n",
      "0.5410990670055591\n",
      "0.4611401893271053\n",
      "0.4749211823796671\n",
      "0.3560863453567674\n",
      "0.4760271426570746\n",
      "0.4270333556786914\n",
      "0.35974600998419737\n",
      "0.3736069080753285\n",
      "0.4902296880515846\n",
      "0.42230155135030245\n",
      "0.4920920342999887\n",
      "0.49330738308805966\n",
      "0.47296077088415034\n",
      "0.3756588354230136\n",
      "0.35437152849900977\n",
      "0.4296566758314203\n",
      "0.4748177891047449\n",
      "0.45405150033145103\n",
      "0.43199493402161826\n",
      "0.4070156398635102\n",
      "0.3953569198907737\n",
      "0.4984760937088264\n",
      "0.4182082058212334\n",
      "0.3449161986669683\n",
      "0.3010121238284794\n",
      "0.3151640622537528\n",
      "0.36959116982140494\n",
      "0.45645871262619775\n",
      "0.4417156162262995\n",
      "0.28516472314536034\n",
      "0.2776182301410868\n",
      "0.37480878601708867\n",
      "0.39326292887127556\n",
      "0.45618523052427284\n",
      "0.38041093484913724\n",
      "0.46634086466183744\n",
      "0.31584718692592595\n",
      "0.29958053474715696\n",
      "0.44369389897710654\n",
      "0.39287378039344556\n",
      "0.3343169711383762\n",
      "0.415551430757074\n",
      "0.32329865749772213\n",
      "0.4494341435115925\n",
      "0.33063540965227345\n",
      "0.4843540496622962\n",
      "0.43586808614940387\n",
      "0.3938687795172512\n",
      "0.4247379281049052\n",
      "0.48639502916064115\n",
      "0.38726724184688366\n",
      "0.44971629951365655\n",
      "0.42034059836489013\n",
      "0.379851034513785\n",
      "0.441336536548\n",
      "0.31327681930366813\n",
      "0.4328389229640579\n",
      "0.4222423821543262\n",
      "0.44032979658103855\n",
      "0.463147078767994\n",
      "0.4847383805534303\n",
      "0.5135676728141725\n",
      "0.47144427009364476\n",
      "0.4553720764296374\n",
      "0.47649532622327007\n",
      "0.48789386738933016\n",
      "0.37324445033610065\n",
      "0.4367990386139906\n",
      "0.39324138537905984\n",
      "0.21101800414327299\n",
      "0.3661652615893881\n",
      "0.4498806168190985\n",
      "0.4611087504321173\n",
      "0.3180694981928647\n",
      "0.4425247735299961\n",
      "0.4223720094470974\n",
      "0.4255156332797596\n",
      "0.4026401063531134\n",
      "0.34593131162321744\n",
      "0.48353705067693864\n",
      "0.3556513951065968\n",
      "0.3578421657669988\n",
      "0.41346708878728666\n",
      "0.35125082176585654\n",
      "0.39124100762995484\n",
      "0.47915386232726687\n",
      "0.4085882529727064\n",
      "0.3912641381905113\n",
      "0.3974272440393941\n",
      "0.40667937193798265\n",
      "0.39519395523917833\n",
      "0.39425771110204955\n",
      "0.4529534726497846\n",
      "0.4799617151197346\n",
      "0.40653733791784163\n",
      "0.4103862568124669\n",
      "0.42359772950476016\n",
      "0.30465348618120325\n",
      "0.4462020287588485\n",
      "0.3837193615309995\n",
      "0.43162306914445325\n",
      "0.4304671294663175\n",
      "0.3944783914408698\n",
      "0.3762829099228391\n",
      "0.42927591445009106\n",
      "0.4070627859751704\n",
      "0.4319895877601688\n",
      "0.38036136963250367\n",
      "0.4991079976864814\n",
      "0.4390655206990578\n",
      "0.33558384226169524\n",
      "0.5016491225100768\n",
      "0.41816575902768893\n",
      "0.42804801354224475\n",
      "0.35804134685515976\n",
      "0.4901026888773067\n",
      "0.3652778437170021\n",
      "0.39476084754952845\n",
      "0.4341746371907895\n",
      "0.4036081082973677\n",
      "0.4473733475725773\n",
      "0.47223284608693494\n",
      "0.4470792182165374\n",
      "0.45203263747745037\n",
      "0.47939796674679\n",
      "0.3870447588896162\n",
      "0.38388287608392835\n",
      "0.4475508255539702\n",
      "0.37176470277333884\n",
      "0.3994438804805748\n",
      "0.5430308523398171\n",
      "0.4935627986491612\n",
      "0.5037329974161135\n",
      "0.43412967982011375\n",
      "0.4290683647220639\n",
      "0.4909837170469957\n",
      "0.47396056436604406\n",
      "0.4812138692124227\n",
      "0.3465723545582228\n",
      "0.4544568216229993\n",
      "0.4215392364693007\n",
      "0.43159252683016613\n",
      "0.3944438531759703\n",
      "0.432856867426893\n",
      "0.3803633878040099\n",
      "0.44539469920060704\n",
      "0.3769597218897739\n",
      "0.40030574982948464\n",
      "0.4826474158225179\n",
      "0.3216315995956279\n",
      "0.41019950767882574\n",
      "0.42151558801521316\n",
      "0.4596755682400716\n",
      "0.4411151547183846\n",
      "0.3571787497362888\n",
      "0.3557892017543387\n",
      "0.4541029849501884\n",
      "0.3636528935305776\n",
      "0.4789982632816665\n",
      "0.38876204547570914\n",
      "0.4128304036996907\n",
      "0.3765196480206209\n",
      "0.38637134285228303\n",
      "0.4682086290246241\n",
      "0.33788337265052204\n",
      "0.522070774134324\n",
      "0.4280253117887026\n",
      "0.3140515278191226\n"
     ]
    },
    {
     "name": "stdout",
     "output_type": "stream",
     "text": [
      "0.4228189367019487\n",
      "0.48155768074597116\n",
      "0.4150222695821867\n",
      "0.4329692963083014\n",
      "0.3830387452304378\n",
      "0.4507987499213597\n",
      "0.3605027098238539\n",
      "0.3822544317307506\n",
      "0.4164158082928744\n",
      "0.35287527331683377\n",
      "0.3550904476741358\n",
      "0.41003082384829825\n",
      "0.441365504087352\n",
      "0.5182742389625186\n",
      "0.4479936073700672\n",
      "0.4291543370963492\n",
      "0.4110340918613724\n",
      "0.48005488146029385\n",
      "0.42053560928246425\n",
      "0.31555090838391664\n",
      "0.3080560018828814\n",
      "0.4337413228000657\n",
      "0.4122103871004794\n",
      "0.43707393909073733\n",
      "0.47895614189170765\n",
      "0.4579169825684265\n",
      "0.4109295872603468\n",
      "0.3411319826913045\n",
      "0.44073344313233975\n",
      "0.4235066427931109\n",
      "0.4793337072468655\n",
      "0.41988541663385714\n",
      "0.36965241600190857\n",
      "0.3225818679976694\n",
      "0.42071200033270806\n",
      "0.3238146011633719\n",
      "0.36415202014280323\n",
      "0.40204334005940434\n",
      "0.5008297115264273\n",
      "0.4417386794450182\n",
      "0.4267884276186096\n",
      "0.42107863657705025\n",
      "0.423854213809443\n",
      "0.4393210327839119\n",
      "0.43083257798651986\n",
      "0.40582389384111883\n",
      "0.46825424000180604\n",
      "0.5131805595208818\n",
      "0.4544156170224716\n",
      "0.4266361845442591\n",
      "0.38732853608302864\n",
      "0.3535268721467709\n",
      "0.4360724891204446\n",
      "0.45934146086788374\n",
      "0.437937883276898\n",
      "0.38348608772190884\n",
      "0.2899486793058419\n",
      "0.4417139803956526\n",
      "0.501441511663631\n",
      "0.4427046547303406\n",
      "0.4174514930026444\n",
      "0.38622201720365135\n",
      "0.4265678264578221\n",
      "0.4958391633494208\n",
      "0.5006989950108627\n",
      "0.4193898263657232\n",
      "0.4600943022517654\n",
      "0.4352140566583853\n",
      "0.4263892601742041\n",
      "0.36857761855556004\n",
      "0.45407837925423034\n",
      "0.2841639600075555\n",
      "0.353311677107481\n",
      "0.4000198906603537\n",
      "0.4381257957186475\n",
      "0.46892623509314213\n",
      "0.35215107080486563\n",
      "0.41655416968015535\n",
      "0.4345915658902212\n",
      "0.3867535160618043\n",
      "0.43863670936236576\n",
      "0.4214047348795956\n",
      "0.33476474522448074\n",
      "0.37961256380543673\n",
      "0.3724249079992985\n",
      "0.4188502257744021\n",
      "0.46247614104072454\n",
      "0.4201334663479729\n",
      "0.46945684398139653\n",
      "0.4721410307589774\n",
      "0.501442716639992\n",
      "0.43119343308361646\n",
      "0.4798030114985029\n",
      "0.47913987225559473\n",
      "0.31255886420367984\n",
      "0.4134689702775445\n",
      "0.4259409264975098\n",
      "0.3798141581649047\n",
      "0.37065229756587526\n",
      "0.4797505581589322\n",
      "0.4290644455975524\n",
      "0.37162938482939023\n",
      "0.45374801129718556\n",
      "0.2941236921370509\n",
      "0.3269133736502978\n",
      "0.48478417445902666\n",
      "0.37010493978781633\n",
      "0.2787848293244458\n",
      "0.4289860672010193\n",
      "0.4473139382029878\n",
      "0.4842978407382774\n",
      "0.337085492582783\n",
      "0.4501656880319437\n",
      "0.4267641458179007\n",
      "0.44726528839688107\n",
      "0.48226560016906506\n",
      "0.4707245453481329\n",
      "0.4423970421843787\n",
      "0.4880967451723651\n",
      "0.4297424717885082\n",
      "0.44787449480984154\n",
      "0.43962146926749257\n",
      "0.43983397557801407\n",
      "0.43735032845342525\n",
      "0.5148305897530496\n",
      "0.47437218630064026\n",
      "0.5066385904236493\n",
      "0.46108395805057023\n",
      "0.37239795733059533\n",
      "0.4698990013878429\n",
      "0.3649864545867302\n",
      "0.41762963124352215\n",
      "0.3785926903772915\n",
      "0.4120559405548594\n",
      "0.48955788663929123\n",
      "0.3874646316141319\n",
      "0.4746439296864048\n",
      "0.4310908400954786\n",
      "0.4166673968516452\n",
      "0.42844892740737217\n",
      "0.412895591402461\n",
      "0.3620400919145097\n",
      "0.3131393843395893\n",
      "0.35874144147983344\n",
      "0.35057510671267234\n",
      "0.36584738003396144\n",
      "0.31120095063363096\n",
      "0.48997552524334764\n",
      "0.4416476492279414\n",
      "0.4539188541580955\n",
      "0.355235258725052\n",
      "0.3276794358015205\n",
      "0.2713829654916722\n",
      "0.4147681598010431\n",
      "0.4371905528461538\n",
      "0.4360677039081471\n",
      "0.4351811616096398\n",
      "0.42381075641858235\n",
      "0.3857640630656274\n",
      "0.5063090991909651\n",
      "0.4724601199831482\n",
      "0.41823157335295746\n",
      "0.5138469853687013\n",
      "0.34552687049698527\n",
      "0.5722514746315012\n",
      "0.42859838028762154\n",
      "0.3149925478072493\n",
      "0.4358150854233339\n",
      "0.4156559789505391\n"
     ]
    },
    {
     "ename": "KeyboardInterrupt",
     "evalue": "",
     "output_type": "error",
     "traceback": [
      "\u001b[1;31m---------------------------------------------------------------------------\u001b[0m",
      "\u001b[1;31mKeyboardInterrupt\u001b[0m                         Traceback (most recent call last)",
      "\u001b[1;32m<ipython-input-17-96b1f08a65cf>\u001b[0m in \u001b[0;36m<module>\u001b[1;34m\u001b[0m\n\u001b[0;32m     10\u001b[0m     \u001b[0my_pred\u001b[0m\u001b[1;33m=\u001b[0m\u001b[0mknn\u001b[0m\u001b[1;33m.\u001b[0m\u001b[0mpredict\u001b[0m\u001b[1;33m(\u001b[0m\u001b[0mX_test\u001b[0m\u001b[1;33m)\u001b[0m\u001b[1;33m\u001b[0m\u001b[1;33m\u001b[0m\u001b[0m\n\u001b[0;32m     11\u001b[0m     \u001b[0mr2\u001b[0m\u001b[1;33m=\u001b[0m\u001b[0mr2_score\u001b[0m\u001b[1;33m(\u001b[0m\u001b[0my_test\u001b[0m\u001b[1;33m,\u001b[0m \u001b[0my_pred\u001b[0m\u001b[1;33m)\u001b[0m\u001b[1;33m\u001b[0m\u001b[1;33m\u001b[0m\u001b[0m\n\u001b[1;32m---> 12\u001b[1;33m     \u001b[0mprint\u001b[0m\u001b[1;33m(\u001b[0m\u001b[0mr2\u001b[0m\u001b[1;33m)\u001b[0m\u001b[1;33m\u001b[0m\u001b[1;33m\u001b[0m\u001b[0m\n\u001b[0m",
      "\u001b[1;32mC:\\ProgramData\\Anaconda3\\lib\\site-packages\\ipykernel\\iostream.py\u001b[0m in \u001b[0;36mwrite\u001b[1;34m(self, string)\u001b[0m\n\u001b[0;32m    402\u001b[0m             \u001b[0mis_child\u001b[0m \u001b[1;33m=\u001b[0m \u001b[1;33m(\u001b[0m\u001b[1;32mnot\u001b[0m \u001b[0mself\u001b[0m\u001b[1;33m.\u001b[0m\u001b[0m_is_master_process\u001b[0m\u001b[1;33m(\u001b[0m\u001b[1;33m)\u001b[0m\u001b[1;33m)\u001b[0m\u001b[1;33m\u001b[0m\u001b[1;33m\u001b[0m\u001b[0m\n\u001b[0;32m    403\u001b[0m             \u001b[1;31m# only touch the buffer in the IO thread to avoid races\u001b[0m\u001b[1;33m\u001b[0m\u001b[1;33m\u001b[0m\u001b[1;33m\u001b[0m\u001b[0m\n\u001b[1;32m--> 404\u001b[1;33m             \u001b[0mself\u001b[0m\u001b[1;33m.\u001b[0m\u001b[0mpub_thread\u001b[0m\u001b[1;33m.\u001b[0m\u001b[0mschedule\u001b[0m\u001b[1;33m(\u001b[0m\u001b[1;32mlambda\u001b[0m \u001b[1;33m:\u001b[0m \u001b[0mself\u001b[0m\u001b[1;33m.\u001b[0m\u001b[0m_buffer\u001b[0m\u001b[1;33m.\u001b[0m\u001b[0mwrite\u001b[0m\u001b[1;33m(\u001b[0m\u001b[0mstring\u001b[0m\u001b[1;33m)\u001b[0m\u001b[1;33m)\u001b[0m\u001b[1;33m\u001b[0m\u001b[1;33m\u001b[0m\u001b[0m\n\u001b[0m\u001b[0;32m    405\u001b[0m             \u001b[1;32mif\u001b[0m \u001b[0mis_child\u001b[0m\u001b[1;33m:\u001b[0m\u001b[1;33m\u001b[0m\u001b[1;33m\u001b[0m\u001b[0m\n\u001b[0;32m    406\u001b[0m                 \u001b[1;31m# mp.Pool cannot be trusted to flush promptly (or ever),\u001b[0m\u001b[1;33m\u001b[0m\u001b[1;33m\u001b[0m\u001b[1;33m\u001b[0m\u001b[0m\n",
      "\u001b[1;32mC:\\ProgramData\\Anaconda3\\lib\\site-packages\\ipykernel\\iostream.py\u001b[0m in \u001b[0;36mschedule\u001b[1;34m(self, f)\u001b[0m\n\u001b[0;32m    203\u001b[0m             \u001b[0mself\u001b[0m\u001b[1;33m.\u001b[0m\u001b[0m_events\u001b[0m\u001b[1;33m.\u001b[0m\u001b[0mappend\u001b[0m\u001b[1;33m(\u001b[0m\u001b[0mf\u001b[0m\u001b[1;33m)\u001b[0m\u001b[1;33m\u001b[0m\u001b[1;33m\u001b[0m\u001b[0m\n\u001b[0;32m    204\u001b[0m             \u001b[1;31m# wake event thread (message content is ignored)\u001b[0m\u001b[1;33m\u001b[0m\u001b[1;33m\u001b[0m\u001b[1;33m\u001b[0m\u001b[0m\n\u001b[1;32m--> 205\u001b[1;33m             \u001b[0mself\u001b[0m\u001b[1;33m.\u001b[0m\u001b[0m_event_pipe\u001b[0m\u001b[1;33m.\u001b[0m\u001b[0msend\u001b[0m\u001b[1;33m(\u001b[0m\u001b[1;34mb''\u001b[0m\u001b[1;33m)\u001b[0m\u001b[1;33m\u001b[0m\u001b[1;33m\u001b[0m\u001b[0m\n\u001b[0m\u001b[0;32m    206\u001b[0m         \u001b[1;32melse\u001b[0m\u001b[1;33m:\u001b[0m\u001b[1;33m\u001b[0m\u001b[1;33m\u001b[0m\u001b[0m\n\u001b[0;32m    207\u001b[0m             \u001b[0mf\u001b[0m\u001b[1;33m(\u001b[0m\u001b[1;33m)\u001b[0m\u001b[1;33m\u001b[0m\u001b[1;33m\u001b[0m\u001b[0m\n",
      "\u001b[1;32mC:\\ProgramData\\Anaconda3\\lib\\site-packages\\zmq\\sugar\\socket.py\u001b[0m in \u001b[0;36msend\u001b[1;34m(self, data, flags, copy, track, routing_id, group)\u001b[0m\n\u001b[0;32m    414\u001b[0m                                  copy_threshold=self.copy_threshold)\n\u001b[0;32m    415\u001b[0m             \u001b[0mdata\u001b[0m\u001b[1;33m.\u001b[0m\u001b[0mgroup\u001b[0m \u001b[1;33m=\u001b[0m \u001b[0mgroup\u001b[0m\u001b[1;33m\u001b[0m\u001b[1;33m\u001b[0m\u001b[0m\n\u001b[1;32m--> 416\u001b[1;33m         \u001b[1;32mreturn\u001b[0m \u001b[0msuper\u001b[0m\u001b[1;33m(\u001b[0m\u001b[0mSocket\u001b[0m\u001b[1;33m,\u001b[0m \u001b[0mself\u001b[0m\u001b[1;33m)\u001b[0m\u001b[1;33m.\u001b[0m\u001b[0msend\u001b[0m\u001b[1;33m(\u001b[0m\u001b[0mdata\u001b[0m\u001b[1;33m,\u001b[0m \u001b[0mflags\u001b[0m\u001b[1;33m=\u001b[0m\u001b[0mflags\u001b[0m\u001b[1;33m,\u001b[0m \u001b[0mcopy\u001b[0m\u001b[1;33m=\u001b[0m\u001b[0mcopy\u001b[0m\u001b[1;33m,\u001b[0m \u001b[0mtrack\u001b[0m\u001b[1;33m=\u001b[0m\u001b[0mtrack\u001b[0m\u001b[1;33m)\u001b[0m\u001b[1;33m\u001b[0m\u001b[1;33m\u001b[0m\u001b[0m\n\u001b[0m\u001b[0;32m    417\u001b[0m \u001b[1;33m\u001b[0m\u001b[0m\n\u001b[0;32m    418\u001b[0m     \u001b[1;32mdef\u001b[0m \u001b[0msend_multipart\u001b[0m\u001b[1;33m(\u001b[0m\u001b[0mself\u001b[0m\u001b[1;33m,\u001b[0m \u001b[0mmsg_parts\u001b[0m\u001b[1;33m,\u001b[0m \u001b[0mflags\u001b[0m\u001b[1;33m=\u001b[0m\u001b[1;36m0\u001b[0m\u001b[1;33m,\u001b[0m \u001b[0mcopy\u001b[0m\u001b[1;33m=\u001b[0m\u001b[1;32mTrue\u001b[0m\u001b[1;33m,\u001b[0m \u001b[0mtrack\u001b[0m\u001b[1;33m=\u001b[0m\u001b[1;32mFalse\u001b[0m\u001b[1;33m,\u001b[0m \u001b[1;33m**\u001b[0m\u001b[0mkwargs\u001b[0m\u001b[1;33m)\u001b[0m\u001b[1;33m:\u001b[0m\u001b[1;33m\u001b[0m\u001b[1;33m\u001b[0m\u001b[0m\n",
      "\u001b[1;32mzmq/backend/cython/socket.pyx\u001b[0m in \u001b[0;36mzmq.backend.cython.socket.Socket.send\u001b[1;34m()\u001b[0m\n",
      "\u001b[1;32mzmq/backend/cython/socket.pyx\u001b[0m in \u001b[0;36mzmq.backend.cython.socket.Socket.send\u001b[1;34m()\u001b[0m\n",
      "\u001b[1;32mzmq/backend/cython/socket.pyx\u001b[0m in \u001b[0;36mzmq.backend.cython.socket._send_copy\u001b[1;34m()\u001b[0m\n",
      "\u001b[1;32mC:\\ProgramData\\Anaconda3\\lib\\site-packages\\zmq\\backend\\cython\\checkrc.pxd\u001b[0m in \u001b[0;36mzmq.backend.cython.checkrc._check_rc\u001b[1;34m()\u001b[0m\n",
      "\u001b[1;31mKeyboardInterrupt\u001b[0m: "
     ]
    }
   ],
   "source": [
    "from sklearn.neighbors import KNeighborsRegressor\n",
    "from sklearn.model_selection import train_test_split\n",
    "r2=0\n",
    "X = df.drop(columns=['progreso','sex']) # Separación de las características\n",
    "y = df['progreso'] # Separación del target (corresponde a lo que quiero predecir)\n",
    "knn = KNeighborsRegressor(n_neighbors=9)\n",
    "while (r2<=0.6):    \n",
    "    X_train, X_test, y_train, y_test = train_test_split(X, y,test_size=0.3)\n",
    "    knn.fit(X_train, y_train) # Ojo: fit en base a los de entrenamiento!!\n",
    "    y_pred=knn.predict(X_test)\n",
    "    r2=r2_score(y_test, y_pred)\n",
    "    print(r2)"
   ]
  },
  {
   "cell_type": "code",
   "execution_count": 41,
   "id": "654dd8dc",
   "metadata": {},
   "outputs": [
    {
     "name": "stdout",
     "output_type": "stream",
     "text": [
      "0.6142676042203117\n",
      "19\n"
     ]
    }
   ],
   "source": [
    "r2=0\n",
    "neighbors = np.arange(1,20)\n",
    "X = df.drop(columns=['progreso']) # Separación de las características\n",
    "while (r2<=0.58): \n",
    "    X_train, X_test, y_train, y_test = train_test_split(X, y,test_size=0.2)\n",
    "    for i,k in enumerate(neighbors):\n",
    "        knn = KNeighborsRegressor(n_neighbors=k)\n",
    "        knn.fit(X_train, y_train)    \n",
    "        y_pred=knn.predict(X_test)\n",
    "        r2=r2_score(y_test, y_pred)\n",
    "print(r2)\n",
    "print(k)"
   ]
  },
  {
   "cell_type": "code",
   "execution_count": 42,
   "id": "64c761f6",
   "metadata": {},
   "outputs": [
    {
     "data": {
      "text/plain": [
       "0.6142676042203117"
      ]
     },
     "execution_count": 42,
     "metadata": {},
     "output_type": "execute_result"
    }
   ],
   "source": [
    "r2=r2_score(y_test, y_pred)\n",
    "r2"
   ]
  },
  {
   "cell_type": "code",
   "execution_count": 43,
   "id": "306b0fc8",
   "metadata": {},
   "outputs": [
    {
     "data": {
      "text/plain": [
       "KNeighborsRegressor(n_neighbors=19)"
      ]
     },
     "execution_count": 43,
     "metadata": {},
     "output_type": "execute_result"
    }
   ],
   "source": [
    "knn"
   ]
  },
  {
   "cell_type": "code",
   "execution_count": 44,
   "id": "0720c1d3",
   "metadata": {},
   "outputs": [
    {
     "data": {
      "text/plain": [
       "28     131.0\n",
       "114    258.0\n",
       "358     90.0\n",
       "398    242.0\n",
       "196     72.0\n",
       "       ...  \n",
       "405    281.0\n",
       "194     86.0\n",
       "292     84.0\n",
       "404    293.0\n",
       "386     72.0\n",
       "Name: progreso, Length: 89, dtype: float64"
      ]
     },
     "execution_count": 44,
     "metadata": {},
     "output_type": "execute_result"
    }
   ],
   "source": [
    "y_test"
   ]
  },
  {
   "cell_type": "code",
   "execution_count": 45,
   "id": "3928d370",
   "metadata": {},
   "outputs": [
    {
     "data": {
      "text/plain": [
       "array([125.21052632, 232.68421053,  93.42105263, 140.05263158,\n",
       "       108.57894737, 114.42105263, 106.42105263, 136.15789474,\n",
       "        88.05263158, 146.73684211, 157.05263158, 215.84210526,\n",
       "       157.68421053,  88.05263158, 187.10526316, 249.05263158,\n",
       "       137.73684211, 169.78947368, 138.42105263, 119.05263158,\n",
       "       103.78947368, 101.31578947, 112.21052632, 107.31578947,\n",
       "       187.94736842, 155.47368421, 205.21052632, 249.36842105,\n",
       "       197.15789474, 131.68421053, 201.63157895, 112.68421053,\n",
       "        99.21052632, 182.36842105, 143.94736842, 115.52631579,\n",
       "       132.84210526, 100.36842105, 232.05263158,  88.73684211,\n",
       "       137.26315789, 161.52631579, 103.47368421, 133.47368421,\n",
       "       228.15789474, 148.89473684, 165.84210526, 155.89473684,\n",
       "       166.68421053, 127.68421053, 239.47368421, 215.63157895,\n",
       "       252.36842105, 169.84210526, 109.89473684, 181.78947368,\n",
       "       127.15789474, 135.42105263, 177.31578947, 166.63157895,\n",
       "        89.94736842,  94.05263158, 176.63157895, 214.84210526,\n",
       "        92.63157895, 206.63157895, 185.        , 226.26315789,\n",
       "       166.68421053, 150.89473684, 137.84210526, 118.21052632,\n",
       "       197.89473684, 124.89473684,  77.47368421, 164.21052632,\n",
       "       242.05263158, 129.05263158, 216.31578947, 203.47368421,\n",
       "       169.63157895, 172.        , 185.63157895, 146.52631579,\n",
       "       216.47368421, 129.89473684,  96.84210526, 169.57894737,\n",
       "       107.68421053])"
      ]
     },
     "execution_count": 45,
     "metadata": {},
     "output_type": "execute_result"
    }
   ],
   "source": [
    "y_pred"
   ]
  },
  {
   "cell_type": "code",
   "execution_count": 55,
   "id": "53eed70c",
   "metadata": {},
   "outputs": [
    {
     "data": {
      "text/plain": [
       "0.5570055756728347"
      ]
     },
     "execution_count": 55,
     "metadata": {},
     "output_type": "execute_result"
    }
   ],
   "source": [
    "r2=r2_score(y_test, y_pred)\n",
    "r2"
   ]
  },
  {
   "cell_type": "code",
   "execution_count": null,
   "id": "b39f1698",
   "metadata": {},
   "outputs": [],
   "source": [
    "from sklearn.neighbors import KNeighborsRegressor\n",
    "from sklearn.model_selection import train_test_split\n",
    "r2=0\n",
    "X = df.drop(columns=['progreso']) # Separación de las características\n",
    "y = df['progreso'] # Separación del target (corresponde a lo que quiero predecir)\n",
    "scaler = StandardScaler()\n",
    "while (r2<=0.55):\n",
    "    X_train, X_test, y_train, y_test = train_test_split(X, y,test_size=0.3)    \n",
    "    scaler.fit(X_train)\n",
    "    X_train = scaler.transform(X_train)\n",
    "    X_test = scaler.transform(X_test) # Ojo: escalamiento de test se hace en base al train\n",
    "    knn = KNeighborsRegressor()\n",
    "    knn.fit(X_train, y_train) # Ojo: fit en base a los de entrenamiento!!\n",
    "    y_pred=knn.predict(X_test)\n",
    "    r2=r2_score(y_test, y_pred)\n",
    "    print(r2)"
   ]
  },
  {
   "cell_type": "code",
   "execution_count": 46,
   "id": "923f18c9",
   "metadata": {},
   "outputs": [],
   "source": [
    "from sklearn.datasets import load_wine\n",
    "data = load_wine()"
   ]
  },
  {
   "cell_type": "code",
   "execution_count": 47,
   "id": "e8349db3",
   "metadata": {},
   "outputs": [
    {
     "data": {
      "text/plain": [
       "{'data': array([[1.423e+01, 1.710e+00, 2.430e+00, ..., 1.040e+00, 3.920e+00,\n",
       "         1.065e+03],\n",
       "        [1.320e+01, 1.780e+00, 2.140e+00, ..., 1.050e+00, 3.400e+00,\n",
       "         1.050e+03],\n",
       "        [1.316e+01, 2.360e+00, 2.670e+00, ..., 1.030e+00, 3.170e+00,\n",
       "         1.185e+03],\n",
       "        ...,\n",
       "        [1.327e+01, 4.280e+00, 2.260e+00, ..., 5.900e-01, 1.560e+00,\n",
       "         8.350e+02],\n",
       "        [1.317e+01, 2.590e+00, 2.370e+00, ..., 6.000e-01, 1.620e+00,\n",
       "         8.400e+02],\n",
       "        [1.413e+01, 4.100e+00, 2.740e+00, ..., 6.100e-01, 1.600e+00,\n",
       "         5.600e+02]]),\n",
       " 'target': array([0, 0, 0, 0, 0, 0, 0, 0, 0, 0, 0, 0, 0, 0, 0, 0, 0, 0, 0, 0, 0, 0,\n",
       "        0, 0, 0, 0, 0, 0, 0, 0, 0, 0, 0, 0, 0, 0, 0, 0, 0, 0, 0, 0, 0, 0,\n",
       "        0, 0, 0, 0, 0, 0, 0, 0, 0, 0, 0, 0, 0, 0, 0, 1, 1, 1, 1, 1, 1, 1,\n",
       "        1, 1, 1, 1, 1, 1, 1, 1, 1, 1, 1, 1, 1, 1, 1, 1, 1, 1, 1, 1, 1, 1,\n",
       "        1, 1, 1, 1, 1, 1, 1, 1, 1, 1, 1, 1, 1, 1, 1, 1, 1, 1, 1, 1, 1, 1,\n",
       "        1, 1, 1, 1, 1, 1, 1, 1, 1, 1, 1, 1, 1, 1, 1, 1, 1, 1, 1, 1, 2, 2,\n",
       "        2, 2, 2, 2, 2, 2, 2, 2, 2, 2, 2, 2, 2, 2, 2, 2, 2, 2, 2, 2, 2, 2,\n",
       "        2, 2, 2, 2, 2, 2, 2, 2, 2, 2, 2, 2, 2, 2, 2, 2, 2, 2, 2, 2, 2, 2,\n",
       "        2, 2]),\n",
       " 'frame': None,\n",
       " 'target_names': array(['class_0', 'class_1', 'class_2'], dtype='<U7'),\n",
       " 'DESCR': '.. _wine_dataset:\\n\\nWine recognition dataset\\n------------------------\\n\\n**Data Set Characteristics:**\\n\\n    :Number of Instances: 178 (50 in each of three classes)\\n    :Number of Attributes: 13 numeric, predictive attributes and the class\\n    :Attribute Information:\\n \\t\\t- Alcohol\\n \\t\\t- Malic acid\\n \\t\\t- Ash\\n\\t\\t- Alcalinity of ash  \\n \\t\\t- Magnesium\\n\\t\\t- Total phenols\\n \\t\\t- Flavanoids\\n \\t\\t- Nonflavanoid phenols\\n \\t\\t- Proanthocyanins\\n\\t\\t- Color intensity\\n \\t\\t- Hue\\n \\t\\t- OD280/OD315 of diluted wines\\n \\t\\t- Proline\\n\\n    - class:\\n            - class_0\\n            - class_1\\n            - class_2\\n\\t\\t\\n    :Summary Statistics:\\n    \\n    ============================= ==== ===== ======= =====\\n                                   Min   Max   Mean     SD\\n    ============================= ==== ===== ======= =====\\n    Alcohol:                      11.0  14.8    13.0   0.8\\n    Malic Acid:                   0.74  5.80    2.34  1.12\\n    Ash:                          1.36  3.23    2.36  0.27\\n    Alcalinity of Ash:            10.6  30.0    19.5   3.3\\n    Magnesium:                    70.0 162.0    99.7  14.3\\n    Total Phenols:                0.98  3.88    2.29  0.63\\n    Flavanoids:                   0.34  5.08    2.03  1.00\\n    Nonflavanoid Phenols:         0.13  0.66    0.36  0.12\\n    Proanthocyanins:              0.41  3.58    1.59  0.57\\n    Colour Intensity:              1.3  13.0     5.1   2.3\\n    Hue:                          0.48  1.71    0.96  0.23\\n    OD280/OD315 of diluted wines: 1.27  4.00    2.61  0.71\\n    Proline:                       278  1680     746   315\\n    ============================= ==== ===== ======= =====\\n\\n    :Missing Attribute Values: None\\n    :Class Distribution: class_0 (59), class_1 (71), class_2 (48)\\n    :Creator: R.A. Fisher\\n    :Donor: Michael Marshall (MARSHALL%PLU@io.arc.nasa.gov)\\n    :Date: July, 1988\\n\\nThis is a copy of UCI ML Wine recognition datasets.\\nhttps://archive.ics.uci.edu/ml/machine-learning-databases/wine/wine.data\\n\\nThe data is the results of a chemical analysis of wines grown in the same\\nregion in Italy by three different cultivators. There are thirteen different\\nmeasurements taken for different constituents found in the three types of\\nwine.\\n\\nOriginal Owners: \\n\\nForina, M. et al, PARVUS - \\nAn Extendible Package for Data Exploration, Classification and Correlation. \\nInstitute of Pharmaceutical and Food Analysis and Technologies,\\nVia Brigata Salerno, 16147 Genoa, Italy.\\n\\nCitation:\\n\\nLichman, M. (2013). UCI Machine Learning Repository\\n[https://archive.ics.uci.edu/ml]. Irvine, CA: University of California,\\nSchool of Information and Computer Science. \\n\\n.. topic:: References\\n\\n  (1) S. Aeberhard, D. Coomans and O. de Vel, \\n  Comparison of Classifiers in High Dimensional Settings, \\n  Tech. Rep. no. 92-02, (1992), Dept. of Computer Science and Dept. of  \\n  Mathematics and Statistics, James Cook University of North Queensland. \\n  (Also submitted to Technometrics). \\n\\n  The data was used with many others for comparing various \\n  classifiers. The classes are separable, though only RDA \\n  has achieved 100% correct classification. \\n  (RDA : 100%, QDA 99.4%, LDA 98.9%, 1NN 96.1% (z-transformed data)) \\n  (All results using the leave-one-out technique) \\n\\n  (2) S. Aeberhard, D. Coomans and O. de Vel, \\n  \"THE CLASSIFICATION PERFORMANCE OF RDA\" \\n  Tech. Rep. no. 92-01, (1992), Dept. of Computer Science and Dept. of \\n  Mathematics and Statistics, James Cook University of North Queensland. \\n  (Also submitted to Journal of Chemometrics).\\n',\n",
       " 'feature_names': ['alcohol',\n",
       "  'malic_acid',\n",
       "  'ash',\n",
       "  'alcalinity_of_ash',\n",
       "  'magnesium',\n",
       "  'total_phenols',\n",
       "  'flavanoids',\n",
       "  'nonflavanoid_phenols',\n",
       "  'proanthocyanins',\n",
       "  'color_intensity',\n",
       "  'hue',\n",
       "  'od280/od315_of_diluted_wines',\n",
       "  'proline']}"
      ]
     },
     "execution_count": 47,
     "metadata": {},
     "output_type": "execute_result"
    }
   ],
   "source": [
    "data"
   ]
  },
  {
   "cell_type": "code",
   "execution_count": null,
   "id": "27a267b6",
   "metadata": {},
   "outputs": [],
   "source": []
  }
 ],
 "metadata": {
  "celltoolbar": "Slideshow",
  "kernelspec": {
   "display_name": "Python 3 (ipykernel)",
   "language": "python",
   "name": "python3"
  },
  "language_info": {
   "codemirror_mode": {
    "name": "ipython",
    "version": 3
   },
   "file_extension": ".py",
   "mimetype": "text/x-python",
   "name": "python",
   "nbconvert_exporter": "python",
   "pygments_lexer": "ipython3",
   "version": "3.9.12"
  }
 },
 "nbformat": 4,
 "nbformat_minor": 5
}
